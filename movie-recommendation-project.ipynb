{
 "cells": [
  {
   "cell_type": "code",
   "execution_count": 1,
   "id": "a445dc33",
   "metadata": {
    "_cell_guid": "b1076dfc-b9ad-4769-8c92-a6c4dae69d19",
    "_uuid": "8f2839f25d086af736a60e9eeb907d3b93b6e0e5",
    "execution": {
     "iopub.execute_input": "2023-04-20T18:18:51.760931Z",
     "iopub.status.busy": "2023-04-20T18:18:51.760451Z",
     "iopub.status.idle": "2023-04-20T18:18:51.783009Z",
     "shell.execute_reply": "2023-04-20T18:18:51.781200Z"
    },
    "papermill": {
     "duration": 0.040136,
     "end_time": "2023-04-20T18:18:51.786327",
     "exception": false,
     "start_time": "2023-04-20T18:18:51.746191",
     "status": "completed"
    },
    "tags": []
   },
   "outputs": [
    {
     "name": "stdout",
     "output_type": "stream",
     "text": [
      "/kaggle/input/tmdb-movie-metadata/tmdb_5000_movies.csv\n",
      "/kaggle/input/tmdb-movie-metadata/tmdb_5000_credits.csv\n"
     ]
    }
   ],
   "source": [
    "# This Python 3 environment comes with many helpful analytics libraries installed\n",
    "# It is defined by the kaggle/python Docker image: https://github.com/kaggle/docker-python\n",
    "# For example, here's several helpful packages to load\n",
    "\n",
    "import numpy as np # linear algebra\n",
    "import pandas as pd # data processing, CSV file I/O (e.g. pd.read_csv)\n",
    "\n",
    "# Input data files are available in the read-only \"../input/\" directory\n",
    "# For example, running this (by clicking run or pressing Shift+Enter) will list all files under the input directory\n",
    "\n",
    "import os\n",
    "for dirname, _, filenames in os.walk('/kaggle/input'):\n",
    "    for filename in filenames:\n",
    "        print(os.path.join(dirname, filename))\n",
    "\n",
    "# You can write up to 20GB to the current directory (/kaggle/working/) that gets preserved as output when you create a version using \"Save & Run All\" \n",
    "# You can also write temporary files to /kaggle/temp/, but they won't be saved outside of the current session"
   ]
  },
  {
   "cell_type": "code",
   "execution_count": 2,
   "id": "5dcfe0e1",
   "metadata": {
    "execution": {
     "iopub.execute_input": "2023-04-20T18:18:51.810703Z",
     "iopub.status.busy": "2023-04-20T18:18:51.810252Z",
     "iopub.status.idle": "2023-04-20T18:18:51.815698Z",
     "shell.execute_reply": "2023-04-20T18:18:51.814357Z"
    },
    "papermill": {
     "duration": 0.0207,
     "end_time": "2023-04-20T18:18:51.818242",
     "exception": false,
     "start_time": "2023-04-20T18:18:51.797542",
     "status": "completed"
    },
    "tags": []
   },
   "outputs": [],
   "source": [
    "import numpy as np\n",
    "import pandas as pd\n",
    "import ast"
   ]
  },
  {
   "cell_type": "code",
   "execution_count": 3,
   "id": "bfc62909",
   "metadata": {
    "execution": {
     "iopub.execute_input": "2023-04-20T18:18:51.842206Z",
     "iopub.status.busy": "2023-04-20T18:18:51.841723Z",
     "iopub.status.idle": "2023-04-20T18:18:53.221488Z",
     "shell.execute_reply": "2023-04-20T18:18:53.220095Z"
    },
    "papermill": {
     "duration": 1.395701,
     "end_time": "2023-04-20T18:18:53.224803",
     "exception": false,
     "start_time": "2023-04-20T18:18:51.829102",
     "status": "completed"
    },
    "tags": []
   },
   "outputs": [],
   "source": [
    "movies=pd.read_csv('/kaggle/input/tmdb-movie-metadata/tmdb_5000_movies.csv')\n",
    "credits=pd.read_csv('/kaggle/input/tmdb-movie-metadata/tmdb_5000_credits.csv')"
   ]
  },
  {
   "cell_type": "code",
   "execution_count": 4,
   "id": "a90b287e",
   "metadata": {
    "execution": {
     "iopub.execute_input": "2023-04-20T18:18:53.264843Z",
     "iopub.status.busy": "2023-04-20T18:18:53.263861Z",
     "iopub.status.idle": "2023-04-20T18:18:53.323029Z",
     "shell.execute_reply": "2023-04-20T18:18:53.321485Z"
    },
    "papermill": {
     "duration": 0.085035,
     "end_time": "2023-04-20T18:18:53.327982",
     "exception": false,
     "start_time": "2023-04-20T18:18:53.242947",
     "status": "completed"
    },
    "tags": []
   },
   "outputs": [
    {
     "data": {
      "text/html": [
       "<div>\n",
       "<style scoped>\n",
       "    .dataframe tbody tr th:only-of-type {\n",
       "        vertical-align: middle;\n",
       "    }\n",
       "\n",
       "    .dataframe tbody tr th {\n",
       "        vertical-align: top;\n",
       "    }\n",
       "\n",
       "    .dataframe thead th {\n",
       "        text-align: right;\n",
       "    }\n",
       "</style>\n",
       "<table border=\"1\" class=\"dataframe\">\n",
       "  <thead>\n",
       "    <tr style=\"text-align: right;\">\n",
       "      <th></th>\n",
       "      <th>budget</th>\n",
       "      <th>genres</th>\n",
       "      <th>homepage</th>\n",
       "      <th>id</th>\n",
       "      <th>keywords</th>\n",
       "      <th>original_language</th>\n",
       "      <th>original_title</th>\n",
       "      <th>overview</th>\n",
       "      <th>popularity</th>\n",
       "      <th>production_companies</th>\n",
       "      <th>production_countries</th>\n",
       "      <th>release_date</th>\n",
       "      <th>revenue</th>\n",
       "      <th>runtime</th>\n",
       "      <th>spoken_languages</th>\n",
       "      <th>status</th>\n",
       "      <th>tagline</th>\n",
       "      <th>title</th>\n",
       "      <th>vote_average</th>\n",
       "      <th>vote_count</th>\n",
       "    </tr>\n",
       "  </thead>\n",
       "  <tbody>\n",
       "    <tr>\n",
       "      <th>0</th>\n",
       "      <td>237000000</td>\n",
       "      <td>[{\"id\": 28, \"name\": \"Action\"}, {\"id\": 12, \"nam...</td>\n",
       "      <td>http://www.avatarmovie.com/</td>\n",
       "      <td>19995</td>\n",
       "      <td>[{\"id\": 1463, \"name\": \"culture clash\"}, {\"id\":...</td>\n",
       "      <td>en</td>\n",
       "      <td>Avatar</td>\n",
       "      <td>In the 22nd century, a paraplegic Marine is di...</td>\n",
       "      <td>150.437577</td>\n",
       "      <td>[{\"name\": \"Ingenious Film Partners\", \"id\": 289...</td>\n",
       "      <td>[{\"iso_3166_1\": \"US\", \"name\": \"United States o...</td>\n",
       "      <td>2009-12-10</td>\n",
       "      <td>2787965087</td>\n",
       "      <td>162.0</td>\n",
       "      <td>[{\"iso_639_1\": \"en\", \"name\": \"English\"}, {\"iso...</td>\n",
       "      <td>Released</td>\n",
       "      <td>Enter the World of Pandora.</td>\n",
       "      <td>Avatar</td>\n",
       "      <td>7.2</td>\n",
       "      <td>11800</td>\n",
       "    </tr>\n",
       "    <tr>\n",
       "      <th>1</th>\n",
       "      <td>300000000</td>\n",
       "      <td>[{\"id\": 12, \"name\": \"Adventure\"}, {\"id\": 14, \"...</td>\n",
       "      <td>http://disney.go.com/disneypictures/pirates/</td>\n",
       "      <td>285</td>\n",
       "      <td>[{\"id\": 270, \"name\": \"ocean\"}, {\"id\": 726, \"na...</td>\n",
       "      <td>en</td>\n",
       "      <td>Pirates of the Caribbean: At World's End</td>\n",
       "      <td>Captain Barbossa, long believed to be dead, ha...</td>\n",
       "      <td>139.082615</td>\n",
       "      <td>[{\"name\": \"Walt Disney Pictures\", \"id\": 2}, {\"...</td>\n",
       "      <td>[{\"iso_3166_1\": \"US\", \"name\": \"United States o...</td>\n",
       "      <td>2007-05-19</td>\n",
       "      <td>961000000</td>\n",
       "      <td>169.0</td>\n",
       "      <td>[{\"iso_639_1\": \"en\", \"name\": \"English\"}]</td>\n",
       "      <td>Released</td>\n",
       "      <td>At the end of the world, the adventure begins.</td>\n",
       "      <td>Pirates of the Caribbean: At World's End</td>\n",
       "      <td>6.9</td>\n",
       "      <td>4500</td>\n",
       "    </tr>\n",
       "    <tr>\n",
       "      <th>2</th>\n",
       "      <td>245000000</td>\n",
       "      <td>[{\"id\": 28, \"name\": \"Action\"}, {\"id\": 12, \"nam...</td>\n",
       "      <td>http://www.sonypictures.com/movies/spectre/</td>\n",
       "      <td>206647</td>\n",
       "      <td>[{\"id\": 470, \"name\": \"spy\"}, {\"id\": 818, \"name...</td>\n",
       "      <td>en</td>\n",
       "      <td>Spectre</td>\n",
       "      <td>A cryptic message from Bond’s past sends him o...</td>\n",
       "      <td>107.376788</td>\n",
       "      <td>[{\"name\": \"Columbia Pictures\", \"id\": 5}, {\"nam...</td>\n",
       "      <td>[{\"iso_3166_1\": \"GB\", \"name\": \"United Kingdom\"...</td>\n",
       "      <td>2015-10-26</td>\n",
       "      <td>880674609</td>\n",
       "      <td>148.0</td>\n",
       "      <td>[{\"iso_639_1\": \"fr\", \"name\": \"Fran\\u00e7ais\"},...</td>\n",
       "      <td>Released</td>\n",
       "      <td>A Plan No One Escapes</td>\n",
       "      <td>Spectre</td>\n",
       "      <td>6.3</td>\n",
       "      <td>4466</td>\n",
       "    </tr>\n",
       "    <tr>\n",
       "      <th>3</th>\n",
       "      <td>250000000</td>\n",
       "      <td>[{\"id\": 28, \"name\": \"Action\"}, {\"id\": 80, \"nam...</td>\n",
       "      <td>http://www.thedarkknightrises.com/</td>\n",
       "      <td>49026</td>\n",
       "      <td>[{\"id\": 849, \"name\": \"dc comics\"}, {\"id\": 853,...</td>\n",
       "      <td>en</td>\n",
       "      <td>The Dark Knight Rises</td>\n",
       "      <td>Following the death of District Attorney Harve...</td>\n",
       "      <td>112.312950</td>\n",
       "      <td>[{\"name\": \"Legendary Pictures\", \"id\": 923}, {\"...</td>\n",
       "      <td>[{\"iso_3166_1\": \"US\", \"name\": \"United States o...</td>\n",
       "      <td>2012-07-16</td>\n",
       "      <td>1084939099</td>\n",
       "      <td>165.0</td>\n",
       "      <td>[{\"iso_639_1\": \"en\", \"name\": \"English\"}]</td>\n",
       "      <td>Released</td>\n",
       "      <td>The Legend Ends</td>\n",
       "      <td>The Dark Knight Rises</td>\n",
       "      <td>7.6</td>\n",
       "      <td>9106</td>\n",
       "    </tr>\n",
       "    <tr>\n",
       "      <th>4</th>\n",
       "      <td>260000000</td>\n",
       "      <td>[{\"id\": 28, \"name\": \"Action\"}, {\"id\": 12, \"nam...</td>\n",
       "      <td>http://movies.disney.com/john-carter</td>\n",
       "      <td>49529</td>\n",
       "      <td>[{\"id\": 818, \"name\": \"based on novel\"}, {\"id\":...</td>\n",
       "      <td>en</td>\n",
       "      <td>John Carter</td>\n",
       "      <td>John Carter is a war-weary, former military ca...</td>\n",
       "      <td>43.926995</td>\n",
       "      <td>[{\"name\": \"Walt Disney Pictures\", \"id\": 2}]</td>\n",
       "      <td>[{\"iso_3166_1\": \"US\", \"name\": \"United States o...</td>\n",
       "      <td>2012-03-07</td>\n",
       "      <td>284139100</td>\n",
       "      <td>132.0</td>\n",
       "      <td>[{\"iso_639_1\": \"en\", \"name\": \"English\"}]</td>\n",
       "      <td>Released</td>\n",
       "      <td>Lost in our world, found in another.</td>\n",
       "      <td>John Carter</td>\n",
       "      <td>6.1</td>\n",
       "      <td>2124</td>\n",
       "    </tr>\n",
       "    <tr>\n",
       "      <th>...</th>\n",
       "      <td>...</td>\n",
       "      <td>...</td>\n",
       "      <td>...</td>\n",
       "      <td>...</td>\n",
       "      <td>...</td>\n",
       "      <td>...</td>\n",
       "      <td>...</td>\n",
       "      <td>...</td>\n",
       "      <td>...</td>\n",
       "      <td>...</td>\n",
       "      <td>...</td>\n",
       "      <td>...</td>\n",
       "      <td>...</td>\n",
       "      <td>...</td>\n",
       "      <td>...</td>\n",
       "      <td>...</td>\n",
       "      <td>...</td>\n",
       "      <td>...</td>\n",
       "      <td>...</td>\n",
       "      <td>...</td>\n",
       "    </tr>\n",
       "    <tr>\n",
       "      <th>4798</th>\n",
       "      <td>220000</td>\n",
       "      <td>[{\"id\": 28, \"name\": \"Action\"}, {\"id\": 80, \"nam...</td>\n",
       "      <td>NaN</td>\n",
       "      <td>9367</td>\n",
       "      <td>[{\"id\": 5616, \"name\": \"united states\\u2013mexi...</td>\n",
       "      <td>es</td>\n",
       "      <td>El Mariachi</td>\n",
       "      <td>El Mariachi just wants to play his guitar and ...</td>\n",
       "      <td>14.269792</td>\n",
       "      <td>[{\"name\": \"Columbia Pictures\", \"id\": 5}]</td>\n",
       "      <td>[{\"iso_3166_1\": \"MX\", \"name\": \"Mexico\"}, {\"iso...</td>\n",
       "      <td>1992-09-04</td>\n",
       "      <td>2040920</td>\n",
       "      <td>81.0</td>\n",
       "      <td>[{\"iso_639_1\": \"es\", \"name\": \"Espa\\u00f1ol\"}]</td>\n",
       "      <td>Released</td>\n",
       "      <td>He didn't come looking for trouble, but troubl...</td>\n",
       "      <td>El Mariachi</td>\n",
       "      <td>6.6</td>\n",
       "      <td>238</td>\n",
       "    </tr>\n",
       "    <tr>\n",
       "      <th>4799</th>\n",
       "      <td>9000</td>\n",
       "      <td>[{\"id\": 35, \"name\": \"Comedy\"}, {\"id\": 10749, \"...</td>\n",
       "      <td>NaN</td>\n",
       "      <td>72766</td>\n",
       "      <td>[]</td>\n",
       "      <td>en</td>\n",
       "      <td>Newlyweds</td>\n",
       "      <td>A newlywed couple's honeymoon is upended by th...</td>\n",
       "      <td>0.642552</td>\n",
       "      <td>[]</td>\n",
       "      <td>[]</td>\n",
       "      <td>2011-12-26</td>\n",
       "      <td>0</td>\n",
       "      <td>85.0</td>\n",
       "      <td>[]</td>\n",
       "      <td>Released</td>\n",
       "      <td>A newlywed couple's honeymoon is upended by th...</td>\n",
       "      <td>Newlyweds</td>\n",
       "      <td>5.9</td>\n",
       "      <td>5</td>\n",
       "    </tr>\n",
       "    <tr>\n",
       "      <th>4800</th>\n",
       "      <td>0</td>\n",
       "      <td>[{\"id\": 35, \"name\": \"Comedy\"}, {\"id\": 18, \"nam...</td>\n",
       "      <td>http://www.hallmarkchannel.com/signedsealeddel...</td>\n",
       "      <td>231617</td>\n",
       "      <td>[{\"id\": 248, \"name\": \"date\"}, {\"id\": 699, \"nam...</td>\n",
       "      <td>en</td>\n",
       "      <td>Signed, Sealed, Delivered</td>\n",
       "      <td>\"Signed, Sealed, Delivered\" introduces a dedic...</td>\n",
       "      <td>1.444476</td>\n",
       "      <td>[{\"name\": \"Front Street Pictures\", \"id\": 3958}...</td>\n",
       "      <td>[{\"iso_3166_1\": \"US\", \"name\": \"United States o...</td>\n",
       "      <td>2013-10-13</td>\n",
       "      <td>0</td>\n",
       "      <td>120.0</td>\n",
       "      <td>[{\"iso_639_1\": \"en\", \"name\": \"English\"}]</td>\n",
       "      <td>Released</td>\n",
       "      <td>NaN</td>\n",
       "      <td>Signed, Sealed, Delivered</td>\n",
       "      <td>7.0</td>\n",
       "      <td>6</td>\n",
       "    </tr>\n",
       "    <tr>\n",
       "      <th>4801</th>\n",
       "      <td>0</td>\n",
       "      <td>[]</td>\n",
       "      <td>http://shanghaicalling.com/</td>\n",
       "      <td>126186</td>\n",
       "      <td>[]</td>\n",
       "      <td>en</td>\n",
       "      <td>Shanghai Calling</td>\n",
       "      <td>When ambitious New York attorney Sam is sent t...</td>\n",
       "      <td>0.857008</td>\n",
       "      <td>[]</td>\n",
       "      <td>[{\"iso_3166_1\": \"US\", \"name\": \"United States o...</td>\n",
       "      <td>2012-05-03</td>\n",
       "      <td>0</td>\n",
       "      <td>98.0</td>\n",
       "      <td>[{\"iso_639_1\": \"en\", \"name\": \"English\"}]</td>\n",
       "      <td>Released</td>\n",
       "      <td>A New Yorker in Shanghai</td>\n",
       "      <td>Shanghai Calling</td>\n",
       "      <td>5.7</td>\n",
       "      <td>7</td>\n",
       "    </tr>\n",
       "    <tr>\n",
       "      <th>4802</th>\n",
       "      <td>0</td>\n",
       "      <td>[{\"id\": 99, \"name\": \"Documentary\"}]</td>\n",
       "      <td>NaN</td>\n",
       "      <td>25975</td>\n",
       "      <td>[{\"id\": 1523, \"name\": \"obsession\"}, {\"id\": 224...</td>\n",
       "      <td>en</td>\n",
       "      <td>My Date with Drew</td>\n",
       "      <td>Ever since the second grade when he first saw ...</td>\n",
       "      <td>1.929883</td>\n",
       "      <td>[{\"name\": \"rusty bear entertainment\", \"id\": 87...</td>\n",
       "      <td>[{\"iso_3166_1\": \"US\", \"name\": \"United States o...</td>\n",
       "      <td>2005-08-05</td>\n",
       "      <td>0</td>\n",
       "      <td>90.0</td>\n",
       "      <td>[{\"iso_639_1\": \"en\", \"name\": \"English\"}]</td>\n",
       "      <td>Released</td>\n",
       "      <td>NaN</td>\n",
       "      <td>My Date with Drew</td>\n",
       "      <td>6.3</td>\n",
       "      <td>16</td>\n",
       "    </tr>\n",
       "  </tbody>\n",
       "</table>\n",
       "<p>4803 rows × 20 columns</p>\n",
       "</div>"
      ],
      "text/plain": [
       "         budget                                             genres  \\\n",
       "0     237000000  [{\"id\": 28, \"name\": \"Action\"}, {\"id\": 12, \"nam...   \n",
       "1     300000000  [{\"id\": 12, \"name\": \"Adventure\"}, {\"id\": 14, \"...   \n",
       "2     245000000  [{\"id\": 28, \"name\": \"Action\"}, {\"id\": 12, \"nam...   \n",
       "3     250000000  [{\"id\": 28, \"name\": \"Action\"}, {\"id\": 80, \"nam...   \n",
       "4     260000000  [{\"id\": 28, \"name\": \"Action\"}, {\"id\": 12, \"nam...   \n",
       "...         ...                                                ...   \n",
       "4798     220000  [{\"id\": 28, \"name\": \"Action\"}, {\"id\": 80, \"nam...   \n",
       "4799       9000  [{\"id\": 35, \"name\": \"Comedy\"}, {\"id\": 10749, \"...   \n",
       "4800          0  [{\"id\": 35, \"name\": \"Comedy\"}, {\"id\": 18, \"nam...   \n",
       "4801          0                                                 []   \n",
       "4802          0                [{\"id\": 99, \"name\": \"Documentary\"}]   \n",
       "\n",
       "                                               homepage      id  \\\n",
       "0                           http://www.avatarmovie.com/   19995   \n",
       "1          http://disney.go.com/disneypictures/pirates/     285   \n",
       "2           http://www.sonypictures.com/movies/spectre/  206647   \n",
       "3                    http://www.thedarkknightrises.com/   49026   \n",
       "4                  http://movies.disney.com/john-carter   49529   \n",
       "...                                                 ...     ...   \n",
       "4798                                                NaN    9367   \n",
       "4799                                                NaN   72766   \n",
       "4800  http://www.hallmarkchannel.com/signedsealeddel...  231617   \n",
       "4801                        http://shanghaicalling.com/  126186   \n",
       "4802                                                NaN   25975   \n",
       "\n",
       "                                               keywords original_language  \\\n",
       "0     [{\"id\": 1463, \"name\": \"culture clash\"}, {\"id\":...                en   \n",
       "1     [{\"id\": 270, \"name\": \"ocean\"}, {\"id\": 726, \"na...                en   \n",
       "2     [{\"id\": 470, \"name\": \"spy\"}, {\"id\": 818, \"name...                en   \n",
       "3     [{\"id\": 849, \"name\": \"dc comics\"}, {\"id\": 853,...                en   \n",
       "4     [{\"id\": 818, \"name\": \"based on novel\"}, {\"id\":...                en   \n",
       "...                                                 ...               ...   \n",
       "4798  [{\"id\": 5616, \"name\": \"united states\\u2013mexi...                es   \n",
       "4799                                                 []                en   \n",
       "4800  [{\"id\": 248, \"name\": \"date\"}, {\"id\": 699, \"nam...                en   \n",
       "4801                                                 []                en   \n",
       "4802  [{\"id\": 1523, \"name\": \"obsession\"}, {\"id\": 224...                en   \n",
       "\n",
       "                                original_title  \\\n",
       "0                                       Avatar   \n",
       "1     Pirates of the Caribbean: At World's End   \n",
       "2                                      Spectre   \n",
       "3                        The Dark Knight Rises   \n",
       "4                                  John Carter   \n",
       "...                                        ...   \n",
       "4798                               El Mariachi   \n",
       "4799                                 Newlyweds   \n",
       "4800                 Signed, Sealed, Delivered   \n",
       "4801                          Shanghai Calling   \n",
       "4802                         My Date with Drew   \n",
       "\n",
       "                                               overview  popularity  \\\n",
       "0     In the 22nd century, a paraplegic Marine is di...  150.437577   \n",
       "1     Captain Barbossa, long believed to be dead, ha...  139.082615   \n",
       "2     A cryptic message from Bond’s past sends him o...  107.376788   \n",
       "3     Following the death of District Attorney Harve...  112.312950   \n",
       "4     John Carter is a war-weary, former military ca...   43.926995   \n",
       "...                                                 ...         ...   \n",
       "4798  El Mariachi just wants to play his guitar and ...   14.269792   \n",
       "4799  A newlywed couple's honeymoon is upended by th...    0.642552   \n",
       "4800  \"Signed, Sealed, Delivered\" introduces a dedic...    1.444476   \n",
       "4801  When ambitious New York attorney Sam is sent t...    0.857008   \n",
       "4802  Ever since the second grade when he first saw ...    1.929883   \n",
       "\n",
       "                                   production_companies  \\\n",
       "0     [{\"name\": \"Ingenious Film Partners\", \"id\": 289...   \n",
       "1     [{\"name\": \"Walt Disney Pictures\", \"id\": 2}, {\"...   \n",
       "2     [{\"name\": \"Columbia Pictures\", \"id\": 5}, {\"nam...   \n",
       "3     [{\"name\": \"Legendary Pictures\", \"id\": 923}, {\"...   \n",
       "4           [{\"name\": \"Walt Disney Pictures\", \"id\": 2}]   \n",
       "...                                                 ...   \n",
       "4798           [{\"name\": \"Columbia Pictures\", \"id\": 5}]   \n",
       "4799                                                 []   \n",
       "4800  [{\"name\": \"Front Street Pictures\", \"id\": 3958}...   \n",
       "4801                                                 []   \n",
       "4802  [{\"name\": \"rusty bear entertainment\", \"id\": 87...   \n",
       "\n",
       "                                   production_countries release_date  \\\n",
       "0     [{\"iso_3166_1\": \"US\", \"name\": \"United States o...   2009-12-10   \n",
       "1     [{\"iso_3166_1\": \"US\", \"name\": \"United States o...   2007-05-19   \n",
       "2     [{\"iso_3166_1\": \"GB\", \"name\": \"United Kingdom\"...   2015-10-26   \n",
       "3     [{\"iso_3166_1\": \"US\", \"name\": \"United States o...   2012-07-16   \n",
       "4     [{\"iso_3166_1\": \"US\", \"name\": \"United States o...   2012-03-07   \n",
       "...                                                 ...          ...   \n",
       "4798  [{\"iso_3166_1\": \"MX\", \"name\": \"Mexico\"}, {\"iso...   1992-09-04   \n",
       "4799                                                 []   2011-12-26   \n",
       "4800  [{\"iso_3166_1\": \"US\", \"name\": \"United States o...   2013-10-13   \n",
       "4801  [{\"iso_3166_1\": \"US\", \"name\": \"United States o...   2012-05-03   \n",
       "4802  [{\"iso_3166_1\": \"US\", \"name\": \"United States o...   2005-08-05   \n",
       "\n",
       "         revenue  runtime                                   spoken_languages  \\\n",
       "0     2787965087    162.0  [{\"iso_639_1\": \"en\", \"name\": \"English\"}, {\"iso...   \n",
       "1      961000000    169.0           [{\"iso_639_1\": \"en\", \"name\": \"English\"}]   \n",
       "2      880674609    148.0  [{\"iso_639_1\": \"fr\", \"name\": \"Fran\\u00e7ais\"},...   \n",
       "3     1084939099    165.0           [{\"iso_639_1\": \"en\", \"name\": \"English\"}]   \n",
       "4      284139100    132.0           [{\"iso_639_1\": \"en\", \"name\": \"English\"}]   \n",
       "...          ...      ...                                                ...   \n",
       "4798     2040920     81.0      [{\"iso_639_1\": \"es\", \"name\": \"Espa\\u00f1ol\"}]   \n",
       "4799           0     85.0                                                 []   \n",
       "4800           0    120.0           [{\"iso_639_1\": \"en\", \"name\": \"English\"}]   \n",
       "4801           0     98.0           [{\"iso_639_1\": \"en\", \"name\": \"English\"}]   \n",
       "4802           0     90.0           [{\"iso_639_1\": \"en\", \"name\": \"English\"}]   \n",
       "\n",
       "        status                                            tagline  \\\n",
       "0     Released                        Enter the World of Pandora.   \n",
       "1     Released     At the end of the world, the adventure begins.   \n",
       "2     Released                              A Plan No One Escapes   \n",
       "3     Released                                    The Legend Ends   \n",
       "4     Released               Lost in our world, found in another.   \n",
       "...        ...                                                ...   \n",
       "4798  Released  He didn't come looking for trouble, but troubl...   \n",
       "4799  Released  A newlywed couple's honeymoon is upended by th...   \n",
       "4800  Released                                                NaN   \n",
       "4801  Released                           A New Yorker in Shanghai   \n",
       "4802  Released                                                NaN   \n",
       "\n",
       "                                         title  vote_average  vote_count  \n",
       "0                                       Avatar           7.2       11800  \n",
       "1     Pirates of the Caribbean: At World's End           6.9        4500  \n",
       "2                                      Spectre           6.3        4466  \n",
       "3                        The Dark Knight Rises           7.6        9106  \n",
       "4                                  John Carter           6.1        2124  \n",
       "...                                        ...           ...         ...  \n",
       "4798                               El Mariachi           6.6         238  \n",
       "4799                                 Newlyweds           5.9           5  \n",
       "4800                 Signed, Sealed, Delivered           7.0           6  \n",
       "4801                          Shanghai Calling           5.7           7  \n",
       "4802                         My Date with Drew           6.3          16  \n",
       "\n",
       "[4803 rows x 20 columns]"
      ]
     },
     "execution_count": 4,
     "metadata": {},
     "output_type": "execute_result"
    }
   ],
   "source": [
    "movies"
   ]
  },
  {
   "cell_type": "raw",
   "id": "5aceecea",
   "metadata": {
    "papermill": {
     "duration": 0.013358,
     "end_time": "2023-04-20T18:18:53.357518",
     "exception": false,
     "start_time": "2023-04-20T18:18:53.344160",
     "status": "completed"
    },
    "tags": []
   },
   "source": [
    "credits"
   ]
  },
  {
   "cell_type": "code",
   "execution_count": 5,
   "id": "8e6bf94e",
   "metadata": {
    "execution": {
     "iopub.execute_input": "2023-04-20T18:18:53.385810Z",
     "iopub.status.busy": "2023-04-20T18:18:53.385086Z",
     "iopub.status.idle": "2023-04-20T18:18:53.394088Z",
     "shell.execute_reply": "2023-04-20T18:18:53.392856Z"
    },
    "papermill": {
     "duration": 0.026615,
     "end_time": "2023-04-20T18:18:53.396800",
     "exception": false,
     "start_time": "2023-04-20T18:18:53.370185",
     "status": "completed"
    },
    "tags": []
   },
   "outputs": [
    {
     "data": {
      "text/plain": [
       "(4803, 20)"
      ]
     },
     "execution_count": 5,
     "metadata": {},
     "output_type": "execute_result"
    }
   ],
   "source": [
    "movies.shape"
   ]
  },
  {
   "cell_type": "code",
   "execution_count": 6,
   "id": "05c5b736",
   "metadata": {
    "execution": {
     "iopub.execute_input": "2023-04-20T18:18:53.424179Z",
     "iopub.status.busy": "2023-04-20T18:18:53.423180Z",
     "iopub.status.idle": "2023-04-20T18:18:53.482268Z",
     "shell.execute_reply": "2023-04-20T18:18:53.480971Z"
    },
    "papermill": {
     "duration": 0.075739,
     "end_time": "2023-04-20T18:18:53.485216",
     "exception": false,
     "start_time": "2023-04-20T18:18:53.409477",
     "status": "completed"
    },
    "tags": []
   },
   "outputs": [
    {
     "data": {
      "text/html": [
       "<div>\n",
       "<style scoped>\n",
       "    .dataframe tbody tr th:only-of-type {\n",
       "        vertical-align: middle;\n",
       "    }\n",
       "\n",
       "    .dataframe tbody tr th {\n",
       "        vertical-align: top;\n",
       "    }\n",
       "\n",
       "    .dataframe thead th {\n",
       "        text-align: right;\n",
       "    }\n",
       "</style>\n",
       "<table border=\"1\" class=\"dataframe\">\n",
       "  <thead>\n",
       "    <tr style=\"text-align: right;\">\n",
       "      <th></th>\n",
       "      <th>budget</th>\n",
       "      <th>genres</th>\n",
       "      <th>homepage</th>\n",
       "      <th>id</th>\n",
       "      <th>keywords</th>\n",
       "      <th>original_language</th>\n",
       "      <th>original_title</th>\n",
       "      <th>overview</th>\n",
       "      <th>popularity</th>\n",
       "      <th>production_companies</th>\n",
       "      <th>...</th>\n",
       "      <th>runtime</th>\n",
       "      <th>spoken_languages</th>\n",
       "      <th>status</th>\n",
       "      <th>tagline</th>\n",
       "      <th>title</th>\n",
       "      <th>vote_average</th>\n",
       "      <th>vote_count</th>\n",
       "      <th>movie_id</th>\n",
       "      <th>cast</th>\n",
       "      <th>crew</th>\n",
       "    </tr>\n",
       "  </thead>\n",
       "  <tbody>\n",
       "    <tr>\n",
       "      <th>0</th>\n",
       "      <td>237000000</td>\n",
       "      <td>[{\"id\": 28, \"name\": \"Action\"}, {\"id\": 12, \"nam...</td>\n",
       "      <td>http://www.avatarmovie.com/</td>\n",
       "      <td>19995</td>\n",
       "      <td>[{\"id\": 1463, \"name\": \"culture clash\"}, {\"id\":...</td>\n",
       "      <td>en</td>\n",
       "      <td>Avatar</td>\n",
       "      <td>In the 22nd century, a paraplegic Marine is di...</td>\n",
       "      <td>150.437577</td>\n",
       "      <td>[{\"name\": \"Ingenious Film Partners\", \"id\": 289...</td>\n",
       "      <td>...</td>\n",
       "      <td>162.0</td>\n",
       "      <td>[{\"iso_639_1\": \"en\", \"name\": \"English\"}, {\"iso...</td>\n",
       "      <td>Released</td>\n",
       "      <td>Enter the World of Pandora.</td>\n",
       "      <td>Avatar</td>\n",
       "      <td>7.2</td>\n",
       "      <td>11800</td>\n",
       "      <td>19995</td>\n",
       "      <td>[{\"cast_id\": 242, \"character\": \"Jake Sully\", \"...</td>\n",
       "      <td>[{\"credit_id\": \"52fe48009251416c750aca23\", \"de...</td>\n",
       "    </tr>\n",
       "    <tr>\n",
       "      <th>1</th>\n",
       "      <td>300000000</td>\n",
       "      <td>[{\"id\": 12, \"name\": \"Adventure\"}, {\"id\": 14, \"...</td>\n",
       "      <td>http://disney.go.com/disneypictures/pirates/</td>\n",
       "      <td>285</td>\n",
       "      <td>[{\"id\": 270, \"name\": \"ocean\"}, {\"id\": 726, \"na...</td>\n",
       "      <td>en</td>\n",
       "      <td>Pirates of the Caribbean: At World's End</td>\n",
       "      <td>Captain Barbossa, long believed to be dead, ha...</td>\n",
       "      <td>139.082615</td>\n",
       "      <td>[{\"name\": \"Walt Disney Pictures\", \"id\": 2}, {\"...</td>\n",
       "      <td>...</td>\n",
       "      <td>169.0</td>\n",
       "      <td>[{\"iso_639_1\": \"en\", \"name\": \"English\"}]</td>\n",
       "      <td>Released</td>\n",
       "      <td>At the end of the world, the adventure begins.</td>\n",
       "      <td>Pirates of the Caribbean: At World's End</td>\n",
       "      <td>6.9</td>\n",
       "      <td>4500</td>\n",
       "      <td>285</td>\n",
       "      <td>[{\"cast_id\": 4, \"character\": \"Captain Jack Spa...</td>\n",
       "      <td>[{\"credit_id\": \"52fe4232c3a36847f800b579\", \"de...</td>\n",
       "    </tr>\n",
       "    <tr>\n",
       "      <th>2</th>\n",
       "      <td>245000000</td>\n",
       "      <td>[{\"id\": 28, \"name\": \"Action\"}, {\"id\": 12, \"nam...</td>\n",
       "      <td>http://www.sonypictures.com/movies/spectre/</td>\n",
       "      <td>206647</td>\n",
       "      <td>[{\"id\": 470, \"name\": \"spy\"}, {\"id\": 818, \"name...</td>\n",
       "      <td>en</td>\n",
       "      <td>Spectre</td>\n",
       "      <td>A cryptic message from Bond’s past sends him o...</td>\n",
       "      <td>107.376788</td>\n",
       "      <td>[{\"name\": \"Columbia Pictures\", \"id\": 5}, {\"nam...</td>\n",
       "      <td>...</td>\n",
       "      <td>148.0</td>\n",
       "      <td>[{\"iso_639_1\": \"fr\", \"name\": \"Fran\\u00e7ais\"},...</td>\n",
       "      <td>Released</td>\n",
       "      <td>A Plan No One Escapes</td>\n",
       "      <td>Spectre</td>\n",
       "      <td>6.3</td>\n",
       "      <td>4466</td>\n",
       "      <td>206647</td>\n",
       "      <td>[{\"cast_id\": 1, \"character\": \"James Bond\", \"cr...</td>\n",
       "      <td>[{\"credit_id\": \"54805967c3a36829b5002c41\", \"de...</td>\n",
       "    </tr>\n",
       "    <tr>\n",
       "      <th>3</th>\n",
       "      <td>250000000</td>\n",
       "      <td>[{\"id\": 28, \"name\": \"Action\"}, {\"id\": 80, \"nam...</td>\n",
       "      <td>http://www.thedarkknightrises.com/</td>\n",
       "      <td>49026</td>\n",
       "      <td>[{\"id\": 849, \"name\": \"dc comics\"}, {\"id\": 853,...</td>\n",
       "      <td>en</td>\n",
       "      <td>The Dark Knight Rises</td>\n",
       "      <td>Following the death of District Attorney Harve...</td>\n",
       "      <td>112.312950</td>\n",
       "      <td>[{\"name\": \"Legendary Pictures\", \"id\": 923}, {\"...</td>\n",
       "      <td>...</td>\n",
       "      <td>165.0</td>\n",
       "      <td>[{\"iso_639_1\": \"en\", \"name\": \"English\"}]</td>\n",
       "      <td>Released</td>\n",
       "      <td>The Legend Ends</td>\n",
       "      <td>The Dark Knight Rises</td>\n",
       "      <td>7.6</td>\n",
       "      <td>9106</td>\n",
       "      <td>49026</td>\n",
       "      <td>[{\"cast_id\": 2, \"character\": \"Bruce Wayne / Ba...</td>\n",
       "      <td>[{\"credit_id\": \"52fe4781c3a36847f81398c3\", \"de...</td>\n",
       "    </tr>\n",
       "    <tr>\n",
       "      <th>4</th>\n",
       "      <td>260000000</td>\n",
       "      <td>[{\"id\": 28, \"name\": \"Action\"}, {\"id\": 12, \"nam...</td>\n",
       "      <td>http://movies.disney.com/john-carter</td>\n",
       "      <td>49529</td>\n",
       "      <td>[{\"id\": 818, \"name\": \"based on novel\"}, {\"id\":...</td>\n",
       "      <td>en</td>\n",
       "      <td>John Carter</td>\n",
       "      <td>John Carter is a war-weary, former military ca...</td>\n",
       "      <td>43.926995</td>\n",
       "      <td>[{\"name\": \"Walt Disney Pictures\", \"id\": 2}]</td>\n",
       "      <td>...</td>\n",
       "      <td>132.0</td>\n",
       "      <td>[{\"iso_639_1\": \"en\", \"name\": \"English\"}]</td>\n",
       "      <td>Released</td>\n",
       "      <td>Lost in our world, found in another.</td>\n",
       "      <td>John Carter</td>\n",
       "      <td>6.1</td>\n",
       "      <td>2124</td>\n",
       "      <td>49529</td>\n",
       "      <td>[{\"cast_id\": 5, \"character\": \"John Carter\", \"c...</td>\n",
       "      <td>[{\"credit_id\": \"52fe479ac3a36847f813eaa3\", \"de...</td>\n",
       "    </tr>\n",
       "  </tbody>\n",
       "</table>\n",
       "<p>5 rows × 23 columns</p>\n",
       "</div>"
      ],
      "text/plain": [
       "      budget                                             genres  \\\n",
       "0  237000000  [{\"id\": 28, \"name\": \"Action\"}, {\"id\": 12, \"nam...   \n",
       "1  300000000  [{\"id\": 12, \"name\": \"Adventure\"}, {\"id\": 14, \"...   \n",
       "2  245000000  [{\"id\": 28, \"name\": \"Action\"}, {\"id\": 12, \"nam...   \n",
       "3  250000000  [{\"id\": 28, \"name\": \"Action\"}, {\"id\": 80, \"nam...   \n",
       "4  260000000  [{\"id\": 28, \"name\": \"Action\"}, {\"id\": 12, \"nam...   \n",
       "\n",
       "                                       homepage      id  \\\n",
       "0                   http://www.avatarmovie.com/   19995   \n",
       "1  http://disney.go.com/disneypictures/pirates/     285   \n",
       "2   http://www.sonypictures.com/movies/spectre/  206647   \n",
       "3            http://www.thedarkknightrises.com/   49026   \n",
       "4          http://movies.disney.com/john-carter   49529   \n",
       "\n",
       "                                            keywords original_language  \\\n",
       "0  [{\"id\": 1463, \"name\": \"culture clash\"}, {\"id\":...                en   \n",
       "1  [{\"id\": 270, \"name\": \"ocean\"}, {\"id\": 726, \"na...                en   \n",
       "2  [{\"id\": 470, \"name\": \"spy\"}, {\"id\": 818, \"name...                en   \n",
       "3  [{\"id\": 849, \"name\": \"dc comics\"}, {\"id\": 853,...                en   \n",
       "4  [{\"id\": 818, \"name\": \"based on novel\"}, {\"id\":...                en   \n",
       "\n",
       "                             original_title  \\\n",
       "0                                    Avatar   \n",
       "1  Pirates of the Caribbean: At World's End   \n",
       "2                                   Spectre   \n",
       "3                     The Dark Knight Rises   \n",
       "4                               John Carter   \n",
       "\n",
       "                                            overview  popularity  \\\n",
       "0  In the 22nd century, a paraplegic Marine is di...  150.437577   \n",
       "1  Captain Barbossa, long believed to be dead, ha...  139.082615   \n",
       "2  A cryptic message from Bond’s past sends him o...  107.376788   \n",
       "3  Following the death of District Attorney Harve...  112.312950   \n",
       "4  John Carter is a war-weary, former military ca...   43.926995   \n",
       "\n",
       "                                production_companies  ... runtime  \\\n",
       "0  [{\"name\": \"Ingenious Film Partners\", \"id\": 289...  ...   162.0   \n",
       "1  [{\"name\": \"Walt Disney Pictures\", \"id\": 2}, {\"...  ...   169.0   \n",
       "2  [{\"name\": \"Columbia Pictures\", \"id\": 5}, {\"nam...  ...   148.0   \n",
       "3  [{\"name\": \"Legendary Pictures\", \"id\": 923}, {\"...  ...   165.0   \n",
       "4        [{\"name\": \"Walt Disney Pictures\", \"id\": 2}]  ...   132.0   \n",
       "\n",
       "                                    spoken_languages    status  \\\n",
       "0  [{\"iso_639_1\": \"en\", \"name\": \"English\"}, {\"iso...  Released   \n",
       "1           [{\"iso_639_1\": \"en\", \"name\": \"English\"}]  Released   \n",
       "2  [{\"iso_639_1\": \"fr\", \"name\": \"Fran\\u00e7ais\"},...  Released   \n",
       "3           [{\"iso_639_1\": \"en\", \"name\": \"English\"}]  Released   \n",
       "4           [{\"iso_639_1\": \"en\", \"name\": \"English\"}]  Released   \n",
       "\n",
       "                                          tagline  \\\n",
       "0                     Enter the World of Pandora.   \n",
       "1  At the end of the world, the adventure begins.   \n",
       "2                           A Plan No One Escapes   \n",
       "3                                 The Legend Ends   \n",
       "4            Lost in our world, found in another.   \n",
       "\n",
       "                                      title vote_average vote_count movie_id  \\\n",
       "0                                    Avatar          7.2      11800    19995   \n",
       "1  Pirates of the Caribbean: At World's End          6.9       4500      285   \n",
       "2                                   Spectre          6.3       4466   206647   \n",
       "3                     The Dark Knight Rises          7.6       9106    49026   \n",
       "4                               John Carter          6.1       2124    49529   \n",
       "\n",
       "                                                cast  \\\n",
       "0  [{\"cast_id\": 242, \"character\": \"Jake Sully\", \"...   \n",
       "1  [{\"cast_id\": 4, \"character\": \"Captain Jack Spa...   \n",
       "2  [{\"cast_id\": 1, \"character\": \"James Bond\", \"cr...   \n",
       "3  [{\"cast_id\": 2, \"character\": \"Bruce Wayne / Ba...   \n",
       "4  [{\"cast_id\": 5, \"character\": \"John Carter\", \"c...   \n",
       "\n",
       "                                                crew  \n",
       "0  [{\"credit_id\": \"52fe48009251416c750aca23\", \"de...  \n",
       "1  [{\"credit_id\": \"52fe4232c3a36847f800b579\", \"de...  \n",
       "2  [{\"credit_id\": \"54805967c3a36829b5002c41\", \"de...  \n",
       "3  [{\"credit_id\": \"52fe4781c3a36847f81398c3\", \"de...  \n",
       "4  [{\"credit_id\": \"52fe479ac3a36847f813eaa3\", \"de...  \n",
       "\n",
       "[5 rows x 23 columns]"
      ]
     },
     "execution_count": 6,
     "metadata": {},
     "output_type": "execute_result"
    }
   ],
   "source": [
    "movies=movies.merge(credits,on='title')\n",
    "movies.head()"
   ]
  },
  {
   "cell_type": "code",
   "execution_count": 7,
   "id": "a0f339a6",
   "metadata": {
    "execution": {
     "iopub.execute_input": "2023-04-20T18:18:53.512961Z",
     "iopub.status.busy": "2023-04-20T18:18:53.512064Z",
     "iopub.status.idle": "2023-04-20T18:18:53.542243Z",
     "shell.execute_reply": "2023-04-20T18:18:53.540638Z"
    },
    "papermill": {
     "duration": 0.047492,
     "end_time": "2023-04-20T18:18:53.545240",
     "exception": false,
     "start_time": "2023-04-20T18:18:53.497748",
     "status": "completed"
    },
    "tags": []
   },
   "outputs": [
    {
     "name": "stdout",
     "output_type": "stream",
     "text": [
      "<class 'pandas.core.frame.DataFrame'>\n",
      "Int64Index: 4809 entries, 0 to 4808\n",
      "Data columns (total 23 columns):\n",
      " #   Column                Non-Null Count  Dtype  \n",
      "---  ------                --------------  -----  \n",
      " 0   budget                4809 non-null   int64  \n",
      " 1   genres                4809 non-null   object \n",
      " 2   homepage              1713 non-null   object \n",
      " 3   id                    4809 non-null   int64  \n",
      " 4   keywords              4809 non-null   object \n",
      " 5   original_language     4809 non-null   object \n",
      " 6   original_title        4809 non-null   object \n",
      " 7   overview              4806 non-null   object \n",
      " 8   popularity            4809 non-null   float64\n",
      " 9   production_companies  4809 non-null   object \n",
      " 10  production_countries  4809 non-null   object \n",
      " 11  release_date          4808 non-null   object \n",
      " 12  revenue               4809 non-null   int64  \n",
      " 13  runtime               4807 non-null   float64\n",
      " 14  spoken_languages      4809 non-null   object \n",
      " 15  status                4809 non-null   object \n",
      " 16  tagline               3965 non-null   object \n",
      " 17  title                 4809 non-null   object \n",
      " 18  vote_average          4809 non-null   float64\n",
      " 19  vote_count            4809 non-null   int64  \n",
      " 20  movie_id              4809 non-null   int64  \n",
      " 21  cast                  4809 non-null   object \n",
      " 22  crew                  4809 non-null   object \n",
      "dtypes: float64(3), int64(5), object(15)\n",
      "memory usage: 901.7+ KB\n"
     ]
    }
   ],
   "source": [
    "movies.info()"
   ]
  },
  {
   "cell_type": "code",
   "execution_count": 8,
   "id": "272f6da3",
   "metadata": {
    "execution": {
     "iopub.execute_input": "2023-04-20T18:18:53.573648Z",
     "iopub.status.busy": "2023-04-20T18:18:53.572723Z",
     "iopub.status.idle": "2023-04-20T18:18:53.585257Z",
     "shell.execute_reply": "2023-04-20T18:18:53.584166Z"
    },
    "papermill": {
     "duration": 0.029874,
     "end_time": "2023-04-20T18:18:53.588155",
     "exception": false,
     "start_time": "2023-04-20T18:18:53.558281",
     "status": "completed"
    },
    "tags": []
   },
   "outputs": [],
   "source": [
    "movies=movies[['id','title','overview','genres','keywords','crew','cast']]"
   ]
  },
  {
   "cell_type": "code",
   "execution_count": 9,
   "id": "2bdf751d",
   "metadata": {
    "execution": {
     "iopub.execute_input": "2023-04-20T18:18:53.615847Z",
     "iopub.status.busy": "2023-04-20T18:18:53.615393Z",
     "iopub.status.idle": "2023-04-20T18:18:53.636568Z",
     "shell.execute_reply": "2023-04-20T18:18:53.635006Z"
    },
    "papermill": {
     "duration": 0.038673,
     "end_time": "2023-04-20T18:18:53.639330",
     "exception": false,
     "start_time": "2023-04-20T18:18:53.600657",
     "status": "completed"
    },
    "tags": []
   },
   "outputs": [
    {
     "data": {
      "text/html": [
       "<div>\n",
       "<style scoped>\n",
       "    .dataframe tbody tr th:only-of-type {\n",
       "        vertical-align: middle;\n",
       "    }\n",
       "\n",
       "    .dataframe tbody tr th {\n",
       "        vertical-align: top;\n",
       "    }\n",
       "\n",
       "    .dataframe thead th {\n",
       "        text-align: right;\n",
       "    }\n",
       "</style>\n",
       "<table border=\"1\" class=\"dataframe\">\n",
       "  <thead>\n",
       "    <tr style=\"text-align: right;\">\n",
       "      <th></th>\n",
       "      <th>id</th>\n",
       "      <th>title</th>\n",
       "      <th>overview</th>\n",
       "      <th>genres</th>\n",
       "      <th>keywords</th>\n",
       "      <th>crew</th>\n",
       "      <th>cast</th>\n",
       "    </tr>\n",
       "  </thead>\n",
       "  <tbody>\n",
       "    <tr>\n",
       "      <th>0</th>\n",
       "      <td>19995</td>\n",
       "      <td>Avatar</td>\n",
       "      <td>In the 22nd century, a paraplegic Marine is di...</td>\n",
       "      <td>[{\"id\": 28, \"name\": \"Action\"}, {\"id\": 12, \"nam...</td>\n",
       "      <td>[{\"id\": 1463, \"name\": \"culture clash\"}, {\"id\":...</td>\n",
       "      <td>[{\"credit_id\": \"52fe48009251416c750aca23\", \"de...</td>\n",
       "      <td>[{\"cast_id\": 242, \"character\": \"Jake Sully\", \"...</td>\n",
       "    </tr>\n",
       "    <tr>\n",
       "      <th>1</th>\n",
       "      <td>285</td>\n",
       "      <td>Pirates of the Caribbean: At World's End</td>\n",
       "      <td>Captain Barbossa, long believed to be dead, ha...</td>\n",
       "      <td>[{\"id\": 12, \"name\": \"Adventure\"}, {\"id\": 14, \"...</td>\n",
       "      <td>[{\"id\": 270, \"name\": \"ocean\"}, {\"id\": 726, \"na...</td>\n",
       "      <td>[{\"credit_id\": \"52fe4232c3a36847f800b579\", \"de...</td>\n",
       "      <td>[{\"cast_id\": 4, \"character\": \"Captain Jack Spa...</td>\n",
       "    </tr>\n",
       "    <tr>\n",
       "      <th>2</th>\n",
       "      <td>206647</td>\n",
       "      <td>Spectre</td>\n",
       "      <td>A cryptic message from Bond’s past sends him o...</td>\n",
       "      <td>[{\"id\": 28, \"name\": \"Action\"}, {\"id\": 12, \"nam...</td>\n",
       "      <td>[{\"id\": 470, \"name\": \"spy\"}, {\"id\": 818, \"name...</td>\n",
       "      <td>[{\"credit_id\": \"54805967c3a36829b5002c41\", \"de...</td>\n",
       "      <td>[{\"cast_id\": 1, \"character\": \"James Bond\", \"cr...</td>\n",
       "    </tr>\n",
       "    <tr>\n",
       "      <th>3</th>\n",
       "      <td>49026</td>\n",
       "      <td>The Dark Knight Rises</td>\n",
       "      <td>Following the death of District Attorney Harve...</td>\n",
       "      <td>[{\"id\": 28, \"name\": \"Action\"}, {\"id\": 80, \"nam...</td>\n",
       "      <td>[{\"id\": 849, \"name\": \"dc comics\"}, {\"id\": 853,...</td>\n",
       "      <td>[{\"credit_id\": \"52fe4781c3a36847f81398c3\", \"de...</td>\n",
       "      <td>[{\"cast_id\": 2, \"character\": \"Bruce Wayne / Ba...</td>\n",
       "    </tr>\n",
       "    <tr>\n",
       "      <th>4</th>\n",
       "      <td>49529</td>\n",
       "      <td>John Carter</td>\n",
       "      <td>John Carter is a war-weary, former military ca...</td>\n",
       "      <td>[{\"id\": 28, \"name\": \"Action\"}, {\"id\": 12, \"nam...</td>\n",
       "      <td>[{\"id\": 818, \"name\": \"based on novel\"}, {\"id\":...</td>\n",
       "      <td>[{\"credit_id\": \"52fe479ac3a36847f813eaa3\", \"de...</td>\n",
       "      <td>[{\"cast_id\": 5, \"character\": \"John Carter\", \"c...</td>\n",
       "    </tr>\n",
       "    <tr>\n",
       "      <th>...</th>\n",
       "      <td>...</td>\n",
       "      <td>...</td>\n",
       "      <td>...</td>\n",
       "      <td>...</td>\n",
       "      <td>...</td>\n",
       "      <td>...</td>\n",
       "      <td>...</td>\n",
       "    </tr>\n",
       "    <tr>\n",
       "      <th>4804</th>\n",
       "      <td>9367</td>\n",
       "      <td>El Mariachi</td>\n",
       "      <td>El Mariachi just wants to play his guitar and ...</td>\n",
       "      <td>[{\"id\": 28, \"name\": \"Action\"}, {\"id\": 80, \"nam...</td>\n",
       "      <td>[{\"id\": 5616, \"name\": \"united states\\u2013mexi...</td>\n",
       "      <td>[{\"credit_id\": \"52fe44eec3a36847f80b280b\", \"de...</td>\n",
       "      <td>[{\"cast_id\": 1, \"character\": \"El Mariachi\", \"c...</td>\n",
       "    </tr>\n",
       "    <tr>\n",
       "      <th>4805</th>\n",
       "      <td>72766</td>\n",
       "      <td>Newlyweds</td>\n",
       "      <td>A newlywed couple's honeymoon is upended by th...</td>\n",
       "      <td>[{\"id\": 35, \"name\": \"Comedy\"}, {\"id\": 10749, \"...</td>\n",
       "      <td>[]</td>\n",
       "      <td>[{\"credit_id\": \"52fe487dc3a368484e0fb013\", \"de...</td>\n",
       "      <td>[{\"cast_id\": 1, \"character\": \"Buzzy\", \"credit_...</td>\n",
       "    </tr>\n",
       "    <tr>\n",
       "      <th>4806</th>\n",
       "      <td>231617</td>\n",
       "      <td>Signed, Sealed, Delivered</td>\n",
       "      <td>\"Signed, Sealed, Delivered\" introduces a dedic...</td>\n",
       "      <td>[{\"id\": 35, \"name\": \"Comedy\"}, {\"id\": 18, \"nam...</td>\n",
       "      <td>[{\"id\": 248, \"name\": \"date\"}, {\"id\": 699, \"nam...</td>\n",
       "      <td>[{\"credit_id\": \"52fe4df3c3a36847f8275ecf\", \"de...</td>\n",
       "      <td>[{\"cast_id\": 8, \"character\": \"Oliver O\\u2019To...</td>\n",
       "    </tr>\n",
       "    <tr>\n",
       "      <th>4807</th>\n",
       "      <td>126186</td>\n",
       "      <td>Shanghai Calling</td>\n",
       "      <td>When ambitious New York attorney Sam is sent t...</td>\n",
       "      <td>[]</td>\n",
       "      <td>[]</td>\n",
       "      <td>[{\"credit_id\": \"52fe4ad9c3a368484e16a36b\", \"de...</td>\n",
       "      <td>[{\"cast_id\": 3, \"character\": \"Sam\", \"credit_id...</td>\n",
       "    </tr>\n",
       "    <tr>\n",
       "      <th>4808</th>\n",
       "      <td>25975</td>\n",
       "      <td>My Date with Drew</td>\n",
       "      <td>Ever since the second grade when he first saw ...</td>\n",
       "      <td>[{\"id\": 99, \"name\": \"Documentary\"}]</td>\n",
       "      <td>[{\"id\": 1523, \"name\": \"obsession\"}, {\"id\": 224...</td>\n",
       "      <td>[{\"credit_id\": \"58ce021b9251415a390165d9\", \"de...</td>\n",
       "      <td>[{\"cast_id\": 3, \"character\": \"Herself\", \"credi...</td>\n",
       "    </tr>\n",
       "  </tbody>\n",
       "</table>\n",
       "<p>4809 rows × 7 columns</p>\n",
       "</div>"
      ],
      "text/plain": [
       "          id                                     title  \\\n",
       "0      19995                                    Avatar   \n",
       "1        285  Pirates of the Caribbean: At World's End   \n",
       "2     206647                                   Spectre   \n",
       "3      49026                     The Dark Knight Rises   \n",
       "4      49529                               John Carter   \n",
       "...      ...                                       ...   \n",
       "4804    9367                               El Mariachi   \n",
       "4805   72766                                 Newlyweds   \n",
       "4806  231617                 Signed, Sealed, Delivered   \n",
       "4807  126186                          Shanghai Calling   \n",
       "4808   25975                         My Date with Drew   \n",
       "\n",
       "                                               overview  \\\n",
       "0     In the 22nd century, a paraplegic Marine is di...   \n",
       "1     Captain Barbossa, long believed to be dead, ha...   \n",
       "2     A cryptic message from Bond’s past sends him o...   \n",
       "3     Following the death of District Attorney Harve...   \n",
       "4     John Carter is a war-weary, former military ca...   \n",
       "...                                                 ...   \n",
       "4804  El Mariachi just wants to play his guitar and ...   \n",
       "4805  A newlywed couple's honeymoon is upended by th...   \n",
       "4806  \"Signed, Sealed, Delivered\" introduces a dedic...   \n",
       "4807  When ambitious New York attorney Sam is sent t...   \n",
       "4808  Ever since the second grade when he first saw ...   \n",
       "\n",
       "                                                 genres  \\\n",
       "0     [{\"id\": 28, \"name\": \"Action\"}, {\"id\": 12, \"nam...   \n",
       "1     [{\"id\": 12, \"name\": \"Adventure\"}, {\"id\": 14, \"...   \n",
       "2     [{\"id\": 28, \"name\": \"Action\"}, {\"id\": 12, \"nam...   \n",
       "3     [{\"id\": 28, \"name\": \"Action\"}, {\"id\": 80, \"nam...   \n",
       "4     [{\"id\": 28, \"name\": \"Action\"}, {\"id\": 12, \"nam...   \n",
       "...                                                 ...   \n",
       "4804  [{\"id\": 28, \"name\": \"Action\"}, {\"id\": 80, \"nam...   \n",
       "4805  [{\"id\": 35, \"name\": \"Comedy\"}, {\"id\": 10749, \"...   \n",
       "4806  [{\"id\": 35, \"name\": \"Comedy\"}, {\"id\": 18, \"nam...   \n",
       "4807                                                 []   \n",
       "4808                [{\"id\": 99, \"name\": \"Documentary\"}]   \n",
       "\n",
       "                                               keywords  \\\n",
       "0     [{\"id\": 1463, \"name\": \"culture clash\"}, {\"id\":...   \n",
       "1     [{\"id\": 270, \"name\": \"ocean\"}, {\"id\": 726, \"na...   \n",
       "2     [{\"id\": 470, \"name\": \"spy\"}, {\"id\": 818, \"name...   \n",
       "3     [{\"id\": 849, \"name\": \"dc comics\"}, {\"id\": 853,...   \n",
       "4     [{\"id\": 818, \"name\": \"based on novel\"}, {\"id\":...   \n",
       "...                                                 ...   \n",
       "4804  [{\"id\": 5616, \"name\": \"united states\\u2013mexi...   \n",
       "4805                                                 []   \n",
       "4806  [{\"id\": 248, \"name\": \"date\"}, {\"id\": 699, \"nam...   \n",
       "4807                                                 []   \n",
       "4808  [{\"id\": 1523, \"name\": \"obsession\"}, {\"id\": 224...   \n",
       "\n",
       "                                                   crew  \\\n",
       "0     [{\"credit_id\": \"52fe48009251416c750aca23\", \"de...   \n",
       "1     [{\"credit_id\": \"52fe4232c3a36847f800b579\", \"de...   \n",
       "2     [{\"credit_id\": \"54805967c3a36829b5002c41\", \"de...   \n",
       "3     [{\"credit_id\": \"52fe4781c3a36847f81398c3\", \"de...   \n",
       "4     [{\"credit_id\": \"52fe479ac3a36847f813eaa3\", \"de...   \n",
       "...                                                 ...   \n",
       "4804  [{\"credit_id\": \"52fe44eec3a36847f80b280b\", \"de...   \n",
       "4805  [{\"credit_id\": \"52fe487dc3a368484e0fb013\", \"de...   \n",
       "4806  [{\"credit_id\": \"52fe4df3c3a36847f8275ecf\", \"de...   \n",
       "4807  [{\"credit_id\": \"52fe4ad9c3a368484e16a36b\", \"de...   \n",
       "4808  [{\"credit_id\": \"58ce021b9251415a390165d9\", \"de...   \n",
       "\n",
       "                                                   cast  \n",
       "0     [{\"cast_id\": 242, \"character\": \"Jake Sully\", \"...  \n",
       "1     [{\"cast_id\": 4, \"character\": \"Captain Jack Spa...  \n",
       "2     [{\"cast_id\": 1, \"character\": \"James Bond\", \"cr...  \n",
       "3     [{\"cast_id\": 2, \"character\": \"Bruce Wayne / Ba...  \n",
       "4     [{\"cast_id\": 5, \"character\": \"John Carter\", \"c...  \n",
       "...                                                 ...  \n",
       "4804  [{\"cast_id\": 1, \"character\": \"El Mariachi\", \"c...  \n",
       "4805  [{\"cast_id\": 1, \"character\": \"Buzzy\", \"credit_...  \n",
       "4806  [{\"cast_id\": 8, \"character\": \"Oliver O\\u2019To...  \n",
       "4807  [{\"cast_id\": 3, \"character\": \"Sam\", \"credit_id...  \n",
       "4808  [{\"cast_id\": 3, \"character\": \"Herself\", \"credi...  \n",
       "\n",
       "[4809 rows x 7 columns]"
      ]
     },
     "execution_count": 9,
     "metadata": {},
     "output_type": "execute_result"
    }
   ],
   "source": [
    "movies"
   ]
  },
  {
   "cell_type": "code",
   "execution_count": 10,
   "id": "95df9fc6",
   "metadata": {
    "execution": {
     "iopub.execute_input": "2023-04-20T18:18:53.668181Z",
     "iopub.status.busy": "2023-04-20T18:18:53.667752Z",
     "iopub.status.idle": "2023-04-20T18:18:53.682814Z",
     "shell.execute_reply": "2023-04-20T18:18:53.681463Z"
    },
    "papermill": {
     "duration": 0.033041,
     "end_time": "2023-04-20T18:18:53.685535",
     "exception": false,
     "start_time": "2023-04-20T18:18:53.652494",
     "status": "completed"
    },
    "tags": []
   },
   "outputs": [
    {
     "data": {
      "text/plain": [
       "id          0\n",
       "title       0\n",
       "overview    3\n",
       "genres      0\n",
       "keywords    0\n",
       "crew        0\n",
       "cast        0\n",
       "dtype: int64"
      ]
     },
     "execution_count": 10,
     "metadata": {},
     "output_type": "execute_result"
    }
   ],
   "source": [
    "movies.isnull().sum()"
   ]
  },
  {
   "cell_type": "code",
   "execution_count": 11,
   "id": "5ec36054",
   "metadata": {
    "execution": {
     "iopub.execute_input": "2023-04-20T18:18:53.713901Z",
     "iopub.status.busy": "2023-04-20T18:18:53.713464Z",
     "iopub.status.idle": "2023-04-20T18:18:53.721487Z",
     "shell.execute_reply": "2023-04-20T18:18:53.720288Z"
    },
    "papermill": {
     "duration": 0.025342,
     "end_time": "2023-04-20T18:18:53.723916",
     "exception": false,
     "start_time": "2023-04-20T18:18:53.698574",
     "status": "completed"
    },
    "tags": []
   },
   "outputs": [
    {
     "data": {
      "text/plain": [
       "'[{\"id\": 28, \"name\": \"Action\"}, {\"id\": 12, \"name\": \"Adventure\"}, {\"id\": 14, \"name\": \"Fantasy\"}, {\"id\": 878, \"name\": \"Science Fiction\"}]'"
      ]
     },
     "execution_count": 11,
     "metadata": {},
     "output_type": "execute_result"
    }
   ],
   "source": [
    "movies.iloc[0].genres\n"
   ]
  },
  {
   "cell_type": "code",
   "execution_count": 12,
   "id": "1c2ff200",
   "metadata": {
    "execution": {
     "iopub.execute_input": "2023-04-20T18:18:53.752906Z",
     "iopub.status.busy": "2023-04-20T18:18:53.752351Z",
     "iopub.status.idle": "2023-04-20T18:18:53.763714Z",
     "shell.execute_reply": "2023-04-20T18:18:53.762324Z"
    },
    "papermill": {
     "duration": 0.029372,
     "end_time": "2023-04-20T18:18:53.766527",
     "exception": false,
     "start_time": "2023-04-20T18:18:53.737155",
     "status": "completed"
    },
    "tags": []
   },
   "outputs": [
    {
     "data": {
      "text/plain": [
       "id                                                      19995\n",
       "title                                                  Avatar\n",
       "overview    In the 22nd century, a paraplegic Marine is di...\n",
       "genres      [{\"id\": 28, \"name\": \"Action\"}, {\"id\": 12, \"nam...\n",
       "keywords    [{\"id\": 1463, \"name\": \"culture clash\"}, {\"id\":...\n",
       "crew        [{\"credit_id\": \"52fe48009251416c750aca23\", \"de...\n",
       "cast        [{\"cast_id\": 242, \"character\": \"Jake Sully\", \"...\n",
       "Name: 0, dtype: object"
      ]
     },
     "execution_count": 12,
     "metadata": {},
     "output_type": "execute_result"
    }
   ],
   "source": [
    "movies.iloc[0]"
   ]
  },
  {
   "cell_type": "code",
   "execution_count": 13,
   "id": "1e30e474",
   "metadata": {
    "execution": {
     "iopub.execute_input": "2023-04-20T18:18:53.798958Z",
     "iopub.status.busy": "2023-04-20T18:18:53.797618Z",
     "iopub.status.idle": "2023-04-20T18:18:53.804625Z",
     "shell.execute_reply": "2023-04-20T18:18:53.803672Z"
    },
    "papermill": {
     "duration": 0.027175,
     "end_time": "2023-04-20T18:18:53.807199",
     "exception": false,
     "start_time": "2023-04-20T18:18:53.780024",
     "status": "completed"
    },
    "tags": []
   },
   "outputs": [],
   "source": [
    "def convert(obj):\n",
    "    if isinstance(obj, list):\n",
    "        return obj\n",
    "    try:\n",
    "        L = []\n",
    "        for i in ast.literal_eval(obj):\n",
    "            if 'name' in i:\n",
    "                L.append(i['name'])\n",
    "            else:\n",
    "                print(f\"Dictionary {i} does not have a 'name' key\")\n",
    "        return L\n",
    "    except ValueError as e:\n",
    "        print(f\"Failed to convert {obj} to a list of dictionaries: {e}\")"
   ]
  },
  {
   "cell_type": "code",
   "execution_count": 14,
   "id": "9f82a620",
   "metadata": {
    "execution": {
     "iopub.execute_input": "2023-04-20T18:18:53.836479Z",
     "iopub.status.busy": "2023-04-20T18:18:53.835666Z",
     "iopub.status.idle": "2023-04-20T18:18:54.008456Z",
     "shell.execute_reply": "2023-04-20T18:18:54.007436Z"
    },
    "papermill": {
     "duration": 0.19042,
     "end_time": "2023-04-20T18:18:54.010878",
     "exception": false,
     "start_time": "2023-04-20T18:18:53.820458",
     "status": "completed"
    },
    "tags": []
   },
   "outputs": [
    {
     "data": {
      "text/html": [
       "<div>\n",
       "<style scoped>\n",
       "    .dataframe tbody tr th:only-of-type {\n",
       "        vertical-align: middle;\n",
       "    }\n",
       "\n",
       "    .dataframe tbody tr th {\n",
       "        vertical-align: top;\n",
       "    }\n",
       "\n",
       "    .dataframe thead th {\n",
       "        text-align: right;\n",
       "    }\n",
       "</style>\n",
       "<table border=\"1\" class=\"dataframe\">\n",
       "  <thead>\n",
       "    <tr style=\"text-align: right;\">\n",
       "      <th></th>\n",
       "      <th>id</th>\n",
       "      <th>title</th>\n",
       "      <th>overview</th>\n",
       "      <th>genres</th>\n",
       "      <th>keywords</th>\n",
       "      <th>crew</th>\n",
       "      <th>cast</th>\n",
       "    </tr>\n",
       "  </thead>\n",
       "  <tbody>\n",
       "    <tr>\n",
       "      <th>0</th>\n",
       "      <td>19995</td>\n",
       "      <td>Avatar</td>\n",
       "      <td>In the 22nd century, a paraplegic Marine is di...</td>\n",
       "      <td>[Action, Adventure, Fantasy, Science Fiction]</td>\n",
       "      <td>[{\"id\": 1463, \"name\": \"culture clash\"}, {\"id\":...</td>\n",
       "      <td>[{\"credit_id\": \"52fe48009251416c750aca23\", \"de...</td>\n",
       "      <td>[{\"cast_id\": 242, \"character\": \"Jake Sully\", \"...</td>\n",
       "    </tr>\n",
       "    <tr>\n",
       "      <th>1</th>\n",
       "      <td>285</td>\n",
       "      <td>Pirates of the Caribbean: At World's End</td>\n",
       "      <td>Captain Barbossa, long believed to be dead, ha...</td>\n",
       "      <td>[Adventure, Fantasy, Action]</td>\n",
       "      <td>[{\"id\": 270, \"name\": \"ocean\"}, {\"id\": 726, \"na...</td>\n",
       "      <td>[{\"credit_id\": \"52fe4232c3a36847f800b579\", \"de...</td>\n",
       "      <td>[{\"cast_id\": 4, \"character\": \"Captain Jack Spa...</td>\n",
       "    </tr>\n",
       "    <tr>\n",
       "      <th>2</th>\n",
       "      <td>206647</td>\n",
       "      <td>Spectre</td>\n",
       "      <td>A cryptic message from Bond’s past sends him o...</td>\n",
       "      <td>[Action, Adventure, Crime]</td>\n",
       "      <td>[{\"id\": 470, \"name\": \"spy\"}, {\"id\": 818, \"name...</td>\n",
       "      <td>[{\"credit_id\": \"54805967c3a36829b5002c41\", \"de...</td>\n",
       "      <td>[{\"cast_id\": 1, \"character\": \"James Bond\", \"cr...</td>\n",
       "    </tr>\n",
       "    <tr>\n",
       "      <th>3</th>\n",
       "      <td>49026</td>\n",
       "      <td>The Dark Knight Rises</td>\n",
       "      <td>Following the death of District Attorney Harve...</td>\n",
       "      <td>[Action, Crime, Drama, Thriller]</td>\n",
       "      <td>[{\"id\": 849, \"name\": \"dc comics\"}, {\"id\": 853,...</td>\n",
       "      <td>[{\"credit_id\": \"52fe4781c3a36847f81398c3\", \"de...</td>\n",
       "      <td>[{\"cast_id\": 2, \"character\": \"Bruce Wayne / Ba...</td>\n",
       "    </tr>\n",
       "    <tr>\n",
       "      <th>4</th>\n",
       "      <td>49529</td>\n",
       "      <td>John Carter</td>\n",
       "      <td>John Carter is a war-weary, former military ca...</td>\n",
       "      <td>[Action, Adventure, Science Fiction]</td>\n",
       "      <td>[{\"id\": 818, \"name\": \"based on novel\"}, {\"id\":...</td>\n",
       "      <td>[{\"credit_id\": \"52fe479ac3a36847f813eaa3\", \"de...</td>\n",
       "      <td>[{\"cast_id\": 5, \"character\": \"John Carter\", \"c...</td>\n",
       "    </tr>\n",
       "  </tbody>\n",
       "</table>\n",
       "</div>"
      ],
      "text/plain": [
       "       id                                     title  \\\n",
       "0   19995                                    Avatar   \n",
       "1     285  Pirates of the Caribbean: At World's End   \n",
       "2  206647                                   Spectre   \n",
       "3   49026                     The Dark Knight Rises   \n",
       "4   49529                               John Carter   \n",
       "\n",
       "                                            overview  \\\n",
       "0  In the 22nd century, a paraplegic Marine is di...   \n",
       "1  Captain Barbossa, long believed to be dead, ha...   \n",
       "2  A cryptic message from Bond’s past sends him o...   \n",
       "3  Following the death of District Attorney Harve...   \n",
       "4  John Carter is a war-weary, former military ca...   \n",
       "\n",
       "                                          genres  \\\n",
       "0  [Action, Adventure, Fantasy, Science Fiction]   \n",
       "1                   [Adventure, Fantasy, Action]   \n",
       "2                     [Action, Adventure, Crime]   \n",
       "3               [Action, Crime, Drama, Thriller]   \n",
       "4           [Action, Adventure, Science Fiction]   \n",
       "\n",
       "                                            keywords  \\\n",
       "0  [{\"id\": 1463, \"name\": \"culture clash\"}, {\"id\":...   \n",
       "1  [{\"id\": 270, \"name\": \"ocean\"}, {\"id\": 726, \"na...   \n",
       "2  [{\"id\": 470, \"name\": \"spy\"}, {\"id\": 818, \"name...   \n",
       "3  [{\"id\": 849, \"name\": \"dc comics\"}, {\"id\": 853,...   \n",
       "4  [{\"id\": 818, \"name\": \"based on novel\"}, {\"id\":...   \n",
       "\n",
       "                                                crew  \\\n",
       "0  [{\"credit_id\": \"52fe48009251416c750aca23\", \"de...   \n",
       "1  [{\"credit_id\": \"52fe4232c3a36847f800b579\", \"de...   \n",
       "2  [{\"credit_id\": \"54805967c3a36829b5002c41\", \"de...   \n",
       "3  [{\"credit_id\": \"52fe4781c3a36847f81398c3\", \"de...   \n",
       "4  [{\"credit_id\": \"52fe479ac3a36847f813eaa3\", \"de...   \n",
       "\n",
       "                                                cast  \n",
       "0  [{\"cast_id\": 242, \"character\": \"Jake Sully\", \"...  \n",
       "1  [{\"cast_id\": 4, \"character\": \"Captain Jack Spa...  \n",
       "2  [{\"cast_id\": 1, \"character\": \"James Bond\", \"cr...  \n",
       "3  [{\"cast_id\": 2, \"character\": \"Bruce Wayne / Ba...  \n",
       "4  [{\"cast_id\": 5, \"character\": \"John Carter\", \"c...  "
      ]
     },
     "execution_count": 14,
     "metadata": {},
     "output_type": "execute_result"
    }
   ],
   "source": [
    "movies['genres']=movies['genres'].apply(convert)\n",
    "movies.head()"
   ]
  },
  {
   "cell_type": "code",
   "execution_count": 15,
   "id": "e27fb2cd",
   "metadata": {
    "execution": {
     "iopub.execute_input": "2023-04-20T18:18:54.041335Z",
     "iopub.status.busy": "2023-04-20T18:18:54.040215Z",
     "iopub.status.idle": "2023-04-20T18:18:54.459600Z",
     "shell.execute_reply": "2023-04-20T18:18:54.458219Z"
    },
    "papermill": {
     "duration": 0.437699,
     "end_time": "2023-04-20T18:18:54.462620",
     "exception": false,
     "start_time": "2023-04-20T18:18:54.024921",
     "status": "completed"
    },
    "tags": []
   },
   "outputs": [],
   "source": [
    "movies['keywords']=movies['keywords'].apply(convert)"
   ]
  },
  {
   "cell_type": "code",
   "execution_count": 16,
   "id": "85387576",
   "metadata": {
    "execution": {
     "iopub.execute_input": "2023-04-20T18:18:54.492159Z",
     "iopub.status.busy": "2023-04-20T18:18:54.491256Z",
     "iopub.status.idle": "2023-04-20T18:18:54.510541Z",
     "shell.execute_reply": "2023-04-20T18:18:54.509466Z"
    },
    "papermill": {
     "duration": 0.036773,
     "end_time": "2023-04-20T18:18:54.513008",
     "exception": false,
     "start_time": "2023-04-20T18:18:54.476235",
     "status": "completed"
    },
    "tags": []
   },
   "outputs": [
    {
     "data": {
      "text/html": [
       "<div>\n",
       "<style scoped>\n",
       "    .dataframe tbody tr th:only-of-type {\n",
       "        vertical-align: middle;\n",
       "    }\n",
       "\n",
       "    .dataframe tbody tr th {\n",
       "        vertical-align: top;\n",
       "    }\n",
       "\n",
       "    .dataframe thead th {\n",
       "        text-align: right;\n",
       "    }\n",
       "</style>\n",
       "<table border=\"1\" class=\"dataframe\">\n",
       "  <thead>\n",
       "    <tr style=\"text-align: right;\">\n",
       "      <th></th>\n",
       "      <th>id</th>\n",
       "      <th>title</th>\n",
       "      <th>overview</th>\n",
       "      <th>genres</th>\n",
       "      <th>keywords</th>\n",
       "      <th>crew</th>\n",
       "      <th>cast</th>\n",
       "    </tr>\n",
       "  </thead>\n",
       "  <tbody>\n",
       "    <tr>\n",
       "      <th>0</th>\n",
       "      <td>19995</td>\n",
       "      <td>Avatar</td>\n",
       "      <td>In the 22nd century, a paraplegic Marine is di...</td>\n",
       "      <td>[Action, Adventure, Fantasy, Science Fiction]</td>\n",
       "      <td>[culture clash, future, space war, space colon...</td>\n",
       "      <td>[{\"credit_id\": \"52fe48009251416c750aca23\", \"de...</td>\n",
       "      <td>[{\"cast_id\": 242, \"character\": \"Jake Sully\", \"...</td>\n",
       "    </tr>\n",
       "    <tr>\n",
       "      <th>1</th>\n",
       "      <td>285</td>\n",
       "      <td>Pirates of the Caribbean: At World's End</td>\n",
       "      <td>Captain Barbossa, long believed to be dead, ha...</td>\n",
       "      <td>[Adventure, Fantasy, Action]</td>\n",
       "      <td>[ocean, drug abuse, exotic island, east india ...</td>\n",
       "      <td>[{\"credit_id\": \"52fe4232c3a36847f800b579\", \"de...</td>\n",
       "      <td>[{\"cast_id\": 4, \"character\": \"Captain Jack Spa...</td>\n",
       "    </tr>\n",
       "    <tr>\n",
       "      <th>2</th>\n",
       "      <td>206647</td>\n",
       "      <td>Spectre</td>\n",
       "      <td>A cryptic message from Bond’s past sends him o...</td>\n",
       "      <td>[Action, Adventure, Crime]</td>\n",
       "      <td>[spy, based on novel, secret agent, sequel, mi...</td>\n",
       "      <td>[{\"credit_id\": \"54805967c3a36829b5002c41\", \"de...</td>\n",
       "      <td>[{\"cast_id\": 1, \"character\": \"James Bond\", \"cr...</td>\n",
       "    </tr>\n",
       "    <tr>\n",
       "      <th>3</th>\n",
       "      <td>49026</td>\n",
       "      <td>The Dark Knight Rises</td>\n",
       "      <td>Following the death of District Attorney Harve...</td>\n",
       "      <td>[Action, Crime, Drama, Thriller]</td>\n",
       "      <td>[dc comics, crime fighter, terrorist, secret i...</td>\n",
       "      <td>[{\"credit_id\": \"52fe4781c3a36847f81398c3\", \"de...</td>\n",
       "      <td>[{\"cast_id\": 2, \"character\": \"Bruce Wayne / Ba...</td>\n",
       "    </tr>\n",
       "    <tr>\n",
       "      <th>4</th>\n",
       "      <td>49529</td>\n",
       "      <td>John Carter</td>\n",
       "      <td>John Carter is a war-weary, former military ca...</td>\n",
       "      <td>[Action, Adventure, Science Fiction]</td>\n",
       "      <td>[based on novel, mars, medallion, space travel...</td>\n",
       "      <td>[{\"credit_id\": \"52fe479ac3a36847f813eaa3\", \"de...</td>\n",
       "      <td>[{\"cast_id\": 5, \"character\": \"John Carter\", \"c...</td>\n",
       "    </tr>\n",
       "  </tbody>\n",
       "</table>\n",
       "</div>"
      ],
      "text/plain": [
       "       id                                     title  \\\n",
       "0   19995                                    Avatar   \n",
       "1     285  Pirates of the Caribbean: At World's End   \n",
       "2  206647                                   Spectre   \n",
       "3   49026                     The Dark Knight Rises   \n",
       "4   49529                               John Carter   \n",
       "\n",
       "                                            overview  \\\n",
       "0  In the 22nd century, a paraplegic Marine is di...   \n",
       "1  Captain Barbossa, long believed to be dead, ha...   \n",
       "2  A cryptic message from Bond’s past sends him o...   \n",
       "3  Following the death of District Attorney Harve...   \n",
       "4  John Carter is a war-weary, former military ca...   \n",
       "\n",
       "                                          genres  \\\n",
       "0  [Action, Adventure, Fantasy, Science Fiction]   \n",
       "1                   [Adventure, Fantasy, Action]   \n",
       "2                     [Action, Adventure, Crime]   \n",
       "3               [Action, Crime, Drama, Thriller]   \n",
       "4           [Action, Adventure, Science Fiction]   \n",
       "\n",
       "                                            keywords  \\\n",
       "0  [culture clash, future, space war, space colon...   \n",
       "1  [ocean, drug abuse, exotic island, east india ...   \n",
       "2  [spy, based on novel, secret agent, sequel, mi...   \n",
       "3  [dc comics, crime fighter, terrorist, secret i...   \n",
       "4  [based on novel, mars, medallion, space travel...   \n",
       "\n",
       "                                                crew  \\\n",
       "0  [{\"credit_id\": \"52fe48009251416c750aca23\", \"de...   \n",
       "1  [{\"credit_id\": \"52fe4232c3a36847f800b579\", \"de...   \n",
       "2  [{\"credit_id\": \"54805967c3a36829b5002c41\", \"de...   \n",
       "3  [{\"credit_id\": \"52fe4781c3a36847f81398c3\", \"de...   \n",
       "4  [{\"credit_id\": \"52fe479ac3a36847f813eaa3\", \"de...   \n",
       "\n",
       "                                                cast  \n",
       "0  [{\"cast_id\": 242, \"character\": \"Jake Sully\", \"...  \n",
       "1  [{\"cast_id\": 4, \"character\": \"Captain Jack Spa...  \n",
       "2  [{\"cast_id\": 1, \"character\": \"James Bond\", \"cr...  \n",
       "3  [{\"cast_id\": 2, \"character\": \"Bruce Wayne / Ba...  \n",
       "4  [{\"cast_id\": 5, \"character\": \"John Carter\", \"c...  "
      ]
     },
     "execution_count": 16,
     "metadata": {},
     "output_type": "execute_result"
    }
   ],
   "source": [
    "movies.head()"
   ]
  },
  {
   "cell_type": "code",
   "execution_count": 17,
   "id": "b22e50d3",
   "metadata": {
    "execution": {
     "iopub.execute_input": "2023-04-20T18:18:54.543681Z",
     "iopub.status.busy": "2023-04-20T18:18:54.542812Z",
     "iopub.status.idle": "2023-04-20T18:18:54.548924Z",
     "shell.execute_reply": "2023-04-20T18:18:54.547889Z"
    },
    "papermill": {
     "duration": 0.024345,
     "end_time": "2023-04-20T18:18:54.551699",
     "exception": false,
     "start_time": "2023-04-20T18:18:54.527354",
     "status": "completed"
    },
    "tags": []
   },
   "outputs": [],
   "source": [
    "def convert3(obj):\n",
    "    obj\n",
    "    L=[]\n",
    "    count=0\n",
    "    for i in ast.literal_eval(obj):\n",
    "        if count!=3:\n",
    "            L.append(i['name'])\n",
    "            count += 1\n",
    "        else:\n",
    "            break\n",
    "    return L"
   ]
  },
  {
   "cell_type": "code",
   "execution_count": null,
   "id": "d28b964c",
   "metadata": {
    "papermill": {
     "duration": 0.013473,
     "end_time": "2023-04-20T18:18:54.579398",
     "exception": false,
     "start_time": "2023-04-20T18:18:54.565925",
     "status": "completed"
    },
    "tags": []
   },
   "outputs": [],
   "source": []
  },
  {
   "cell_type": "code",
   "execution_count": 18,
   "id": "1fcaaa8a",
   "metadata": {
    "execution": {
     "iopub.execute_input": "2023-04-20T18:18:54.609607Z",
     "iopub.status.busy": "2023-04-20T18:18:54.609132Z",
     "iopub.status.idle": "2023-04-20T18:18:58.052535Z",
     "shell.execute_reply": "2023-04-20T18:18:58.051180Z"
    },
    "papermill": {
     "duration": 3.462222,
     "end_time": "2023-04-20T18:18:58.056012",
     "exception": false,
     "start_time": "2023-04-20T18:18:54.593790",
     "status": "completed"
    },
    "tags": []
   },
   "outputs": [],
   "source": [
    "movies['cast']=movies['cast'].apply(convert3)"
   ]
  },
  {
   "cell_type": "code",
   "execution_count": 19,
   "id": "ba7eb5be",
   "metadata": {
    "execution": {
     "iopub.execute_input": "2023-04-20T18:18:58.086390Z",
     "iopub.status.busy": "2023-04-20T18:18:58.085638Z",
     "iopub.status.idle": "2023-04-20T18:18:58.108428Z",
     "shell.execute_reply": "2023-04-20T18:18:58.106870Z"
    },
    "papermill": {
     "duration": 0.041862,
     "end_time": "2023-04-20T18:18:58.111644",
     "exception": false,
     "start_time": "2023-04-20T18:18:58.069782",
     "status": "completed"
    },
    "tags": []
   },
   "outputs": [
    {
     "data": {
      "text/html": [
       "<div>\n",
       "<style scoped>\n",
       "    .dataframe tbody tr th:only-of-type {\n",
       "        vertical-align: middle;\n",
       "    }\n",
       "\n",
       "    .dataframe tbody tr th {\n",
       "        vertical-align: top;\n",
       "    }\n",
       "\n",
       "    .dataframe thead th {\n",
       "        text-align: right;\n",
       "    }\n",
       "</style>\n",
       "<table border=\"1\" class=\"dataframe\">\n",
       "  <thead>\n",
       "    <tr style=\"text-align: right;\">\n",
       "      <th></th>\n",
       "      <th>id</th>\n",
       "      <th>title</th>\n",
       "      <th>overview</th>\n",
       "      <th>genres</th>\n",
       "      <th>keywords</th>\n",
       "      <th>crew</th>\n",
       "      <th>cast</th>\n",
       "    </tr>\n",
       "  </thead>\n",
       "  <tbody>\n",
       "    <tr>\n",
       "      <th>0</th>\n",
       "      <td>19995</td>\n",
       "      <td>Avatar</td>\n",
       "      <td>In the 22nd century, a paraplegic Marine is di...</td>\n",
       "      <td>[Action, Adventure, Fantasy, Science Fiction]</td>\n",
       "      <td>[culture clash, future, space war, space colon...</td>\n",
       "      <td>[{\"credit_id\": \"52fe48009251416c750aca23\", \"de...</td>\n",
       "      <td>[Sam Worthington, Zoe Saldana, Sigourney Weaver]</td>\n",
       "    </tr>\n",
       "    <tr>\n",
       "      <th>1</th>\n",
       "      <td>285</td>\n",
       "      <td>Pirates of the Caribbean: At World's End</td>\n",
       "      <td>Captain Barbossa, long believed to be dead, ha...</td>\n",
       "      <td>[Adventure, Fantasy, Action]</td>\n",
       "      <td>[ocean, drug abuse, exotic island, east india ...</td>\n",
       "      <td>[{\"credit_id\": \"52fe4232c3a36847f800b579\", \"de...</td>\n",
       "      <td>[Johnny Depp, Orlando Bloom, Keira Knightley]</td>\n",
       "    </tr>\n",
       "    <tr>\n",
       "      <th>2</th>\n",
       "      <td>206647</td>\n",
       "      <td>Spectre</td>\n",
       "      <td>A cryptic message from Bond’s past sends him o...</td>\n",
       "      <td>[Action, Adventure, Crime]</td>\n",
       "      <td>[spy, based on novel, secret agent, sequel, mi...</td>\n",
       "      <td>[{\"credit_id\": \"54805967c3a36829b5002c41\", \"de...</td>\n",
       "      <td>[Daniel Craig, Christoph Waltz, Léa Seydoux]</td>\n",
       "    </tr>\n",
       "    <tr>\n",
       "      <th>3</th>\n",
       "      <td>49026</td>\n",
       "      <td>The Dark Knight Rises</td>\n",
       "      <td>Following the death of District Attorney Harve...</td>\n",
       "      <td>[Action, Crime, Drama, Thriller]</td>\n",
       "      <td>[dc comics, crime fighter, terrorist, secret i...</td>\n",
       "      <td>[{\"credit_id\": \"52fe4781c3a36847f81398c3\", \"de...</td>\n",
       "      <td>[Christian Bale, Michael Caine, Gary Oldman]</td>\n",
       "    </tr>\n",
       "    <tr>\n",
       "      <th>4</th>\n",
       "      <td>49529</td>\n",
       "      <td>John Carter</td>\n",
       "      <td>John Carter is a war-weary, former military ca...</td>\n",
       "      <td>[Action, Adventure, Science Fiction]</td>\n",
       "      <td>[based on novel, mars, medallion, space travel...</td>\n",
       "      <td>[{\"credit_id\": \"52fe479ac3a36847f813eaa3\", \"de...</td>\n",
       "      <td>[Taylor Kitsch, Lynn Collins, Samantha Morton]</td>\n",
       "    </tr>\n",
       "  </tbody>\n",
       "</table>\n",
       "</div>"
      ],
      "text/plain": [
       "       id                                     title  \\\n",
       "0   19995                                    Avatar   \n",
       "1     285  Pirates of the Caribbean: At World's End   \n",
       "2  206647                                   Spectre   \n",
       "3   49026                     The Dark Knight Rises   \n",
       "4   49529                               John Carter   \n",
       "\n",
       "                                            overview  \\\n",
       "0  In the 22nd century, a paraplegic Marine is di...   \n",
       "1  Captain Barbossa, long believed to be dead, ha...   \n",
       "2  A cryptic message from Bond’s past sends him o...   \n",
       "3  Following the death of District Attorney Harve...   \n",
       "4  John Carter is a war-weary, former military ca...   \n",
       "\n",
       "                                          genres  \\\n",
       "0  [Action, Adventure, Fantasy, Science Fiction]   \n",
       "1                   [Adventure, Fantasy, Action]   \n",
       "2                     [Action, Adventure, Crime]   \n",
       "3               [Action, Crime, Drama, Thriller]   \n",
       "4           [Action, Adventure, Science Fiction]   \n",
       "\n",
       "                                            keywords  \\\n",
       "0  [culture clash, future, space war, space colon...   \n",
       "1  [ocean, drug abuse, exotic island, east india ...   \n",
       "2  [spy, based on novel, secret agent, sequel, mi...   \n",
       "3  [dc comics, crime fighter, terrorist, secret i...   \n",
       "4  [based on novel, mars, medallion, space travel...   \n",
       "\n",
       "                                                crew  \\\n",
       "0  [{\"credit_id\": \"52fe48009251416c750aca23\", \"de...   \n",
       "1  [{\"credit_id\": \"52fe4232c3a36847f800b579\", \"de...   \n",
       "2  [{\"credit_id\": \"54805967c3a36829b5002c41\", \"de...   \n",
       "3  [{\"credit_id\": \"52fe4781c3a36847f81398c3\", \"de...   \n",
       "4  [{\"credit_id\": \"52fe479ac3a36847f813eaa3\", \"de...   \n",
       "\n",
       "                                               cast  \n",
       "0  [Sam Worthington, Zoe Saldana, Sigourney Weaver]  \n",
       "1     [Johnny Depp, Orlando Bloom, Keira Knightley]  \n",
       "2      [Daniel Craig, Christoph Waltz, Léa Seydoux]  \n",
       "3      [Christian Bale, Michael Caine, Gary Oldman]  \n",
       "4    [Taylor Kitsch, Lynn Collins, Samantha Morton]  "
      ]
     },
     "execution_count": 19,
     "metadata": {},
     "output_type": "execute_result"
    }
   ],
   "source": [
    "movies.head()"
   ]
  },
  {
   "cell_type": "code",
   "execution_count": 20,
   "id": "af1c61f4",
   "metadata": {
    "execution": {
     "iopub.execute_input": "2023-04-20T18:18:58.141981Z",
     "iopub.status.busy": "2023-04-20T18:18:58.141508Z",
     "iopub.status.idle": "2023-04-20T18:18:58.147900Z",
     "shell.execute_reply": "2023-04-20T18:18:58.146415Z"
    },
    "papermill": {
     "duration": 0.024771,
     "end_time": "2023-04-20T18:18:58.150631",
     "exception": false,
     "start_time": "2023-04-20T18:18:58.125860",
     "status": "completed"
    },
    "tags": []
   },
   "outputs": [],
   "source": [
    "def fetch_director(obj):\n",
    "    L = []\n",
    "    for i in ast.literal_eval(obj):\n",
    "        if i['job'] == 'Director':\n",
    "            L.append(i['name'])\n",
    "    return L "
   ]
  },
  {
   "cell_type": "code",
   "execution_count": 21,
   "id": "074bea7f",
   "metadata": {
    "execution": {
     "iopub.execute_input": "2023-04-20T18:18:58.180985Z",
     "iopub.status.busy": "2023-04-20T18:18:58.180519Z",
     "iopub.status.idle": "2023-04-20T18:19:01.866316Z",
     "shell.execute_reply": "2023-04-20T18:19:01.864735Z"
    },
    "papermill": {
     "duration": 3.704552,
     "end_time": "2023-04-20T18:19:01.869356",
     "exception": false,
     "start_time": "2023-04-20T18:18:58.164804",
     "status": "completed"
    },
    "tags": []
   },
   "outputs": [],
   "source": [
    "movies['crew'] = movies['crew'].apply(fetch_director)"
   ]
  },
  {
   "cell_type": "code",
   "execution_count": null,
   "id": "47cf22a0",
   "metadata": {
    "papermill": {
     "duration": 0.014084,
     "end_time": "2023-04-20T18:19:01.897980",
     "exception": false,
     "start_time": "2023-04-20T18:19:01.883896",
     "status": "completed"
    },
    "tags": []
   },
   "outputs": [],
   "source": []
  },
  {
   "cell_type": "code",
   "execution_count": 22,
   "id": "541d6660",
   "metadata": {
    "execution": {
     "iopub.execute_input": "2023-04-20T18:19:01.929723Z",
     "iopub.status.busy": "2023-04-20T18:19:01.929220Z",
     "iopub.status.idle": "2023-04-20T18:19:01.951019Z",
     "shell.execute_reply": "2023-04-20T18:19:01.949802Z"
    },
    "papermill": {
     "duration": 0.040878,
     "end_time": "2023-04-20T18:19:01.953751",
     "exception": false,
     "start_time": "2023-04-20T18:19:01.912873",
     "status": "completed"
    },
    "tags": []
   },
   "outputs": [
    {
     "data": {
      "text/html": [
       "<div>\n",
       "<style scoped>\n",
       "    .dataframe tbody tr th:only-of-type {\n",
       "        vertical-align: middle;\n",
       "    }\n",
       "\n",
       "    .dataframe tbody tr th {\n",
       "        vertical-align: top;\n",
       "    }\n",
       "\n",
       "    .dataframe thead th {\n",
       "        text-align: right;\n",
       "    }\n",
       "</style>\n",
       "<table border=\"1\" class=\"dataframe\">\n",
       "  <thead>\n",
       "    <tr style=\"text-align: right;\">\n",
       "      <th></th>\n",
       "      <th>id</th>\n",
       "      <th>title</th>\n",
       "      <th>overview</th>\n",
       "      <th>genres</th>\n",
       "      <th>keywords</th>\n",
       "      <th>crew</th>\n",
       "      <th>cast</th>\n",
       "    </tr>\n",
       "  </thead>\n",
       "  <tbody>\n",
       "    <tr>\n",
       "      <th>0</th>\n",
       "      <td>19995</td>\n",
       "      <td>Avatar</td>\n",
       "      <td>In the 22nd century, a paraplegic Marine is di...</td>\n",
       "      <td>[Action, Adventure, Fantasy, Science Fiction]</td>\n",
       "      <td>[culture clash, future, space war, space colon...</td>\n",
       "      <td>[James Cameron]</td>\n",
       "      <td>[Sam Worthington, Zoe Saldana, Sigourney Weaver]</td>\n",
       "    </tr>\n",
       "    <tr>\n",
       "      <th>1</th>\n",
       "      <td>285</td>\n",
       "      <td>Pirates of the Caribbean: At World's End</td>\n",
       "      <td>Captain Barbossa, long believed to be dead, ha...</td>\n",
       "      <td>[Adventure, Fantasy, Action]</td>\n",
       "      <td>[ocean, drug abuse, exotic island, east india ...</td>\n",
       "      <td>[Gore Verbinski]</td>\n",
       "      <td>[Johnny Depp, Orlando Bloom, Keira Knightley]</td>\n",
       "    </tr>\n",
       "    <tr>\n",
       "      <th>2</th>\n",
       "      <td>206647</td>\n",
       "      <td>Spectre</td>\n",
       "      <td>A cryptic message from Bond’s past sends him o...</td>\n",
       "      <td>[Action, Adventure, Crime]</td>\n",
       "      <td>[spy, based on novel, secret agent, sequel, mi...</td>\n",
       "      <td>[Sam Mendes]</td>\n",
       "      <td>[Daniel Craig, Christoph Waltz, Léa Seydoux]</td>\n",
       "    </tr>\n",
       "    <tr>\n",
       "      <th>3</th>\n",
       "      <td>49026</td>\n",
       "      <td>The Dark Knight Rises</td>\n",
       "      <td>Following the death of District Attorney Harve...</td>\n",
       "      <td>[Action, Crime, Drama, Thriller]</td>\n",
       "      <td>[dc comics, crime fighter, terrorist, secret i...</td>\n",
       "      <td>[Christopher Nolan]</td>\n",
       "      <td>[Christian Bale, Michael Caine, Gary Oldman]</td>\n",
       "    </tr>\n",
       "    <tr>\n",
       "      <th>4</th>\n",
       "      <td>49529</td>\n",
       "      <td>John Carter</td>\n",
       "      <td>John Carter is a war-weary, former military ca...</td>\n",
       "      <td>[Action, Adventure, Science Fiction]</td>\n",
       "      <td>[based on novel, mars, medallion, space travel...</td>\n",
       "      <td>[Andrew Stanton]</td>\n",
       "      <td>[Taylor Kitsch, Lynn Collins, Samantha Morton]</td>\n",
       "    </tr>\n",
       "  </tbody>\n",
       "</table>\n",
       "</div>"
      ],
      "text/plain": [
       "       id                                     title  \\\n",
       "0   19995                                    Avatar   \n",
       "1     285  Pirates of the Caribbean: At World's End   \n",
       "2  206647                                   Spectre   \n",
       "3   49026                     The Dark Knight Rises   \n",
       "4   49529                               John Carter   \n",
       "\n",
       "                                            overview  \\\n",
       "0  In the 22nd century, a paraplegic Marine is di...   \n",
       "1  Captain Barbossa, long believed to be dead, ha...   \n",
       "2  A cryptic message from Bond’s past sends him o...   \n",
       "3  Following the death of District Attorney Harve...   \n",
       "4  John Carter is a war-weary, former military ca...   \n",
       "\n",
       "                                          genres  \\\n",
       "0  [Action, Adventure, Fantasy, Science Fiction]   \n",
       "1                   [Adventure, Fantasy, Action]   \n",
       "2                     [Action, Adventure, Crime]   \n",
       "3               [Action, Crime, Drama, Thriller]   \n",
       "4           [Action, Adventure, Science Fiction]   \n",
       "\n",
       "                                            keywords                 crew  \\\n",
       "0  [culture clash, future, space war, space colon...      [James Cameron]   \n",
       "1  [ocean, drug abuse, exotic island, east india ...     [Gore Verbinski]   \n",
       "2  [spy, based on novel, secret agent, sequel, mi...         [Sam Mendes]   \n",
       "3  [dc comics, crime fighter, terrorist, secret i...  [Christopher Nolan]   \n",
       "4  [based on novel, mars, medallion, space travel...     [Andrew Stanton]   \n",
       "\n",
       "                                               cast  \n",
       "0  [Sam Worthington, Zoe Saldana, Sigourney Weaver]  \n",
       "1     [Johnny Depp, Orlando Bloom, Keira Knightley]  \n",
       "2      [Daniel Craig, Christoph Waltz, Léa Seydoux]  \n",
       "3      [Christian Bale, Michael Caine, Gary Oldman]  \n",
       "4    [Taylor Kitsch, Lynn Collins, Samantha Morton]  "
      ]
     },
     "execution_count": 22,
     "metadata": {},
     "output_type": "execute_result"
    }
   ],
   "source": [
    "movies.head()"
   ]
  },
  {
   "cell_type": "code",
   "execution_count": 23,
   "id": "e2ef980e",
   "metadata": {
    "execution": {
     "iopub.execute_input": "2023-04-20T18:19:01.985816Z",
     "iopub.status.busy": "2023-04-20T18:19:01.985358Z",
     "iopub.status.idle": "2023-04-20T18:19:01.994176Z",
     "shell.execute_reply": "2023-04-20T18:19:01.992584Z"
    },
    "papermill": {
     "duration": 0.028185,
     "end_time": "2023-04-20T18:19:01.997118",
     "exception": false,
     "start_time": "2023-04-20T18:19:01.968933",
     "status": "completed"
    },
    "tags": []
   },
   "outputs": [
    {
     "name": "stdout",
     "output_type": "stream",
     "text": [
      "3\n"
     ]
    }
   ],
   "source": [
    "print(movies['overview'].isnull().sum())\n",
    "\n"
   ]
  },
  {
   "cell_type": "code",
   "execution_count": 24,
   "id": "10c1d515",
   "metadata": {
    "execution": {
     "iopub.execute_input": "2023-04-20T18:19:02.028349Z",
     "iopub.status.busy": "2023-04-20T18:19:02.027907Z",
     "iopub.status.idle": "2023-04-20T18:19:02.036039Z",
     "shell.execute_reply": "2023-04-20T18:19:02.034726Z"
    },
    "papermill": {
     "duration": 0.026756,
     "end_time": "2023-04-20T18:19:02.038787",
     "exception": false,
     "start_time": "2023-04-20T18:19:02.012031",
     "status": "completed"
    },
    "tags": []
   },
   "outputs": [],
   "source": [
    "movies['overview'] = movies['overview'].fillna('')"
   ]
  },
  {
   "cell_type": "code",
   "execution_count": 25,
   "id": "26957279",
   "metadata": {
    "execution": {
     "iopub.execute_input": "2023-04-20T18:19:02.070453Z",
     "iopub.status.busy": "2023-04-20T18:19:02.070033Z",
     "iopub.status.idle": "2023-04-20T18:19:02.109301Z",
     "shell.execute_reply": "2023-04-20T18:19:02.107705Z"
    },
    "papermill": {
     "duration": 0.059183,
     "end_time": "2023-04-20T18:19:02.112384",
     "exception": false,
     "start_time": "2023-04-20T18:19:02.053201",
     "status": "completed"
    },
    "tags": []
   },
   "outputs": [],
   "source": [
    "movies['overview'] = movies['overview'].apply(lambda x: x if isinstance(x, list) else x.split())"
   ]
  },
  {
   "cell_type": "code",
   "execution_count": 26,
   "id": "e6952c73",
   "metadata": {
    "execution": {
     "iopub.execute_input": "2023-04-20T18:19:02.144462Z",
     "iopub.status.busy": "2023-04-20T18:19:02.143824Z",
     "iopub.status.idle": "2023-04-20T18:19:02.158158Z",
     "shell.execute_reply": "2023-04-20T18:19:02.156871Z"
    },
    "papermill": {
     "duration": 0.033668,
     "end_time": "2023-04-20T18:19:02.160945",
     "exception": false,
     "start_time": "2023-04-20T18:19:02.127277",
     "status": "completed"
    },
    "tags": []
   },
   "outputs": [
    {
     "data": {
      "text/plain": [
       "0       [In, the, 22nd, century,, a, paraplegic, Marin...\n",
       "1       [Captain, Barbossa,, long, believed, to, be, d...\n",
       "2       [A, cryptic, message, from, Bond’s, past, send...\n",
       "3       [Following, the, death, of, District, Attorney...\n",
       "4       [John, Carter, is, a, war-weary,, former, mili...\n",
       "                              ...                        \n",
       "4804    [El, Mariachi, just, wants, to, play, his, gui...\n",
       "4805    [A, newlywed, couple's, honeymoon, is, upended...\n",
       "4806    [\"Signed,, Sealed,, Delivered\", introduces, a,...\n",
       "4807    [When, ambitious, New, York, attorney, Sam, is...\n",
       "4808    [Ever, since, the, second, grade, when, he, fi...\n",
       "Name: overview, Length: 4809, dtype: object"
      ]
     },
     "execution_count": 26,
     "metadata": {},
     "output_type": "execute_result"
    }
   ],
   "source": [
    "movies['overview']"
   ]
  },
  {
   "cell_type": "code",
   "execution_count": 27,
   "id": "64b55b46",
   "metadata": {
    "execution": {
     "iopub.execute_input": "2023-04-20T18:19:02.193353Z",
     "iopub.status.busy": "2023-04-20T18:19:02.192882Z",
     "iopub.status.idle": "2023-04-20T18:19:02.200035Z",
     "shell.execute_reply": "2023-04-20T18:19:02.198312Z"
    },
    "papermill": {
     "duration": 0.027073,
     "end_time": "2023-04-20T18:19:02.202899",
     "exception": false,
     "start_time": "2023-04-20T18:19:02.175826",
     "status": "completed"
    },
    "tags": []
   },
   "outputs": [],
   "source": [
    "def collapse(L):\n",
    "    L1 = []\n",
    "    for i in L:\n",
    "        L1.append(i.replace(\" \",\"\"))\n",
    "    return L1"
   ]
  },
  {
   "cell_type": "code",
   "execution_count": 28,
   "id": "2bef6a87",
   "metadata": {
    "execution": {
     "iopub.execute_input": "2023-04-20T18:19:02.235822Z",
     "iopub.status.busy": "2023-04-20T18:19:02.235369Z",
     "iopub.status.idle": "2023-04-20T18:19:02.288329Z",
     "shell.execute_reply": "2023-04-20T18:19:02.286896Z"
    },
    "papermill": {
     "duration": 0.073639,
     "end_time": "2023-04-20T18:19:02.291320",
     "exception": false,
     "start_time": "2023-04-20T18:19:02.217681",
     "status": "completed"
    },
    "tags": []
   },
   "outputs": [],
   "source": [
    "movies['genres']=movies['genres'].apply(collapse)\n",
    "movies['keywords']=movies['keywords'].apply(collapse)\n",
    "movies['cast']=movies['cast'].apply(collapse)\n",
    "movies['crew']=movies['crew'].apply(collapse)\n"
   ]
  },
  {
   "cell_type": "code",
   "execution_count": 29,
   "id": "0487e2d7",
   "metadata": {
    "execution": {
     "iopub.execute_input": "2023-04-20T18:19:02.326040Z",
     "iopub.status.busy": "2023-04-20T18:19:02.325430Z",
     "iopub.status.idle": "2023-04-20T18:19:02.355958Z",
     "shell.execute_reply": "2023-04-20T18:19:02.354428Z"
    },
    "papermill": {
     "duration": 0.051758,
     "end_time": "2023-04-20T18:19:02.358833",
     "exception": false,
     "start_time": "2023-04-20T18:19:02.307075",
     "status": "completed"
    },
    "tags": []
   },
   "outputs": [
    {
     "data": {
      "text/html": [
       "<div>\n",
       "<style scoped>\n",
       "    .dataframe tbody tr th:only-of-type {\n",
       "        vertical-align: middle;\n",
       "    }\n",
       "\n",
       "    .dataframe tbody tr th {\n",
       "        vertical-align: top;\n",
       "    }\n",
       "\n",
       "    .dataframe thead th {\n",
       "        text-align: right;\n",
       "    }\n",
       "</style>\n",
       "<table border=\"1\" class=\"dataframe\">\n",
       "  <thead>\n",
       "    <tr style=\"text-align: right;\">\n",
       "      <th></th>\n",
       "      <th>id</th>\n",
       "      <th>title</th>\n",
       "      <th>overview</th>\n",
       "      <th>genres</th>\n",
       "      <th>keywords</th>\n",
       "      <th>crew</th>\n",
       "      <th>cast</th>\n",
       "    </tr>\n",
       "  </thead>\n",
       "  <tbody>\n",
       "    <tr>\n",
       "      <th>0</th>\n",
       "      <td>19995</td>\n",
       "      <td>Avatar</td>\n",
       "      <td>[In, the, 22nd, century,, a, paraplegic, Marin...</td>\n",
       "      <td>[Action, Adventure, Fantasy, ScienceFiction]</td>\n",
       "      <td>[cultureclash, future, spacewar, spacecolony, ...</td>\n",
       "      <td>[JamesCameron]</td>\n",
       "      <td>[SamWorthington, ZoeSaldana, SigourneyWeaver]</td>\n",
       "    </tr>\n",
       "    <tr>\n",
       "      <th>1</th>\n",
       "      <td>285</td>\n",
       "      <td>Pirates of the Caribbean: At World's End</td>\n",
       "      <td>[Captain, Barbossa,, long, believed, to, be, d...</td>\n",
       "      <td>[Adventure, Fantasy, Action]</td>\n",
       "      <td>[ocean, drugabuse, exoticisland, eastindiatrad...</td>\n",
       "      <td>[GoreVerbinski]</td>\n",
       "      <td>[JohnnyDepp, OrlandoBloom, KeiraKnightley]</td>\n",
       "    </tr>\n",
       "    <tr>\n",
       "      <th>2</th>\n",
       "      <td>206647</td>\n",
       "      <td>Spectre</td>\n",
       "      <td>[A, cryptic, message, from, Bond’s, past, send...</td>\n",
       "      <td>[Action, Adventure, Crime]</td>\n",
       "      <td>[spy, basedonnovel, secretagent, sequel, mi6, ...</td>\n",
       "      <td>[SamMendes]</td>\n",
       "      <td>[DanielCraig, ChristophWaltz, LéaSeydoux]</td>\n",
       "    </tr>\n",
       "    <tr>\n",
       "      <th>3</th>\n",
       "      <td>49026</td>\n",
       "      <td>The Dark Knight Rises</td>\n",
       "      <td>[Following, the, death, of, District, Attorney...</td>\n",
       "      <td>[Action, Crime, Drama, Thriller]</td>\n",
       "      <td>[dccomics, crimefighter, terrorist, secretiden...</td>\n",
       "      <td>[ChristopherNolan]</td>\n",
       "      <td>[ChristianBale, MichaelCaine, GaryOldman]</td>\n",
       "    </tr>\n",
       "    <tr>\n",
       "      <th>4</th>\n",
       "      <td>49529</td>\n",
       "      <td>John Carter</td>\n",
       "      <td>[John, Carter, is, a, war-weary,, former, mili...</td>\n",
       "      <td>[Action, Adventure, ScienceFiction]</td>\n",
       "      <td>[basedonnovel, mars, medallion, spacetravel, p...</td>\n",
       "      <td>[AndrewStanton]</td>\n",
       "      <td>[TaylorKitsch, LynnCollins, SamanthaMorton]</td>\n",
       "    </tr>\n",
       "  </tbody>\n",
       "</table>\n",
       "</div>"
      ],
      "text/plain": [
       "       id                                     title  \\\n",
       "0   19995                                    Avatar   \n",
       "1     285  Pirates of the Caribbean: At World's End   \n",
       "2  206647                                   Spectre   \n",
       "3   49026                     The Dark Knight Rises   \n",
       "4   49529                               John Carter   \n",
       "\n",
       "                                            overview  \\\n",
       "0  [In, the, 22nd, century,, a, paraplegic, Marin...   \n",
       "1  [Captain, Barbossa,, long, believed, to, be, d...   \n",
       "2  [A, cryptic, message, from, Bond’s, past, send...   \n",
       "3  [Following, the, death, of, District, Attorney...   \n",
       "4  [John, Carter, is, a, war-weary,, former, mili...   \n",
       "\n",
       "                                         genres  \\\n",
       "0  [Action, Adventure, Fantasy, ScienceFiction]   \n",
       "1                  [Adventure, Fantasy, Action]   \n",
       "2                    [Action, Adventure, Crime]   \n",
       "3              [Action, Crime, Drama, Thriller]   \n",
       "4           [Action, Adventure, ScienceFiction]   \n",
       "\n",
       "                                            keywords                crew  \\\n",
       "0  [cultureclash, future, spacewar, spacecolony, ...      [JamesCameron]   \n",
       "1  [ocean, drugabuse, exoticisland, eastindiatrad...     [GoreVerbinski]   \n",
       "2  [spy, basedonnovel, secretagent, sequel, mi6, ...         [SamMendes]   \n",
       "3  [dccomics, crimefighter, terrorist, secretiden...  [ChristopherNolan]   \n",
       "4  [basedonnovel, mars, medallion, spacetravel, p...     [AndrewStanton]   \n",
       "\n",
       "                                            cast  \n",
       "0  [SamWorthington, ZoeSaldana, SigourneyWeaver]  \n",
       "1     [JohnnyDepp, OrlandoBloom, KeiraKnightley]  \n",
       "2      [DanielCraig, ChristophWaltz, LéaSeydoux]  \n",
       "3      [ChristianBale, MichaelCaine, GaryOldman]  \n",
       "4    [TaylorKitsch, LynnCollins, SamanthaMorton]  "
      ]
     },
     "execution_count": 29,
     "metadata": {},
     "output_type": "execute_result"
    }
   ],
   "source": [
    "movies.head(5)"
   ]
  },
  {
   "cell_type": "code",
   "execution_count": 30,
   "id": "2048e17a",
   "metadata": {
    "execution": {
     "iopub.execute_input": "2023-04-20T18:19:02.391070Z",
     "iopub.status.busy": "2023-04-20T18:19:02.390621Z",
     "iopub.status.idle": "2023-04-20T18:19:02.463685Z",
     "shell.execute_reply": "2023-04-20T18:19:02.462402Z"
    },
    "papermill": {
     "duration": 0.092394,
     "end_time": "2023-04-20T18:19:02.466484",
     "exception": false,
     "start_time": "2023-04-20T18:19:02.374090",
     "status": "completed"
    },
    "tags": []
   },
   "outputs": [],
   "source": [
    "movies['tags'] = movies['overview'] + movies['genres'] + movies['keywords'] + movies['cast'] + movies['crew']"
   ]
  },
  {
   "cell_type": "code",
   "execution_count": 31,
   "id": "f50de34f",
   "metadata": {
    "execution": {
     "iopub.execute_input": "2023-04-20T18:19:02.499464Z",
     "iopub.status.busy": "2023-04-20T18:19:02.498904Z",
     "iopub.status.idle": "2023-04-20T18:19:02.509021Z",
     "shell.execute_reply": "2023-04-20T18:19:02.507427Z"
    },
    "papermill": {
     "duration": 0.030298,
     "end_time": "2023-04-20T18:19:02.512030",
     "exception": false,
     "start_time": "2023-04-20T18:19:02.481732",
     "status": "completed"
    },
    "tags": []
   },
   "outputs": [
    {
     "data": {
      "text/plain": [
       "['In',\n",
       " 'the',\n",
       " '22nd',\n",
       " 'century,',\n",
       " 'a',\n",
       " 'paraplegic',\n",
       " 'Marine',\n",
       " 'is',\n",
       " 'dispatched',\n",
       " 'to',\n",
       " 'the',\n",
       " 'moon',\n",
       " 'Pandora',\n",
       " 'on',\n",
       " 'a',\n",
       " 'unique',\n",
       " 'mission,',\n",
       " 'but',\n",
       " 'becomes',\n",
       " 'torn',\n",
       " 'between',\n",
       " 'following',\n",
       " 'orders',\n",
       " 'and',\n",
       " 'protecting',\n",
       " 'an',\n",
       " 'alien',\n",
       " 'civilization.',\n",
       " 'Action',\n",
       " 'Adventure',\n",
       " 'Fantasy',\n",
       " 'ScienceFiction',\n",
       " 'cultureclash',\n",
       " 'future',\n",
       " 'spacewar',\n",
       " 'spacecolony',\n",
       " 'society',\n",
       " 'spacetravel',\n",
       " 'futuristic',\n",
       " 'romance',\n",
       " 'space',\n",
       " 'alien',\n",
       " 'tribe',\n",
       " 'alienplanet',\n",
       " 'cgi',\n",
       " 'marine',\n",
       " 'soldier',\n",
       " 'battle',\n",
       " 'loveaffair',\n",
       " 'antiwar',\n",
       " 'powerrelations',\n",
       " 'mindandsoul',\n",
       " '3d',\n",
       " 'SamWorthington',\n",
       " 'ZoeSaldana',\n",
       " 'SigourneyWeaver',\n",
       " 'JamesCameron']"
      ]
     },
     "execution_count": 31,
     "metadata": {},
     "output_type": "execute_result"
    }
   ],
   "source": [
    "movies['tags'][0]"
   ]
  },
  {
   "cell_type": "code",
   "execution_count": 32,
   "id": "f6442a25",
   "metadata": {
    "execution": {
     "iopub.execute_input": "2023-04-20T18:19:02.546823Z",
     "iopub.status.busy": "2023-04-20T18:19:02.546374Z",
     "iopub.status.idle": "2023-04-20T18:19:02.555027Z",
     "shell.execute_reply": "2023-04-20T18:19:02.553699Z"
    },
    "papermill": {
     "duration": 0.029504,
     "end_time": "2023-04-20T18:19:02.558019",
     "exception": false,
     "start_time": "2023-04-20T18:19:02.528515",
     "status": "completed"
    },
    "tags": []
   },
   "outputs": [],
   "source": [
    "newtable=movies[['id','title','tags']]\n"
   ]
  },
  {
   "cell_type": "code",
   "execution_count": 33,
   "id": "3a8ef793",
   "metadata": {
    "execution": {
     "iopub.execute_input": "2023-04-20T18:19:02.592443Z",
     "iopub.status.busy": "2023-04-20T18:19:02.591956Z",
     "iopub.status.idle": "2023-04-20T18:19:02.610276Z",
     "shell.execute_reply": "2023-04-20T18:19:02.608679Z"
    },
    "papermill": {
     "duration": 0.039504,
     "end_time": "2023-04-20T18:19:02.612929",
     "exception": false,
     "start_time": "2023-04-20T18:19:02.573425",
     "status": "completed"
    },
    "tags": []
   },
   "outputs": [
    {
     "data": {
      "text/html": [
       "<div>\n",
       "<style scoped>\n",
       "    .dataframe tbody tr th:only-of-type {\n",
       "        vertical-align: middle;\n",
       "    }\n",
       "\n",
       "    .dataframe tbody tr th {\n",
       "        vertical-align: top;\n",
       "    }\n",
       "\n",
       "    .dataframe thead th {\n",
       "        text-align: right;\n",
       "    }\n",
       "</style>\n",
       "<table border=\"1\" class=\"dataframe\">\n",
       "  <thead>\n",
       "    <tr style=\"text-align: right;\">\n",
       "      <th></th>\n",
       "      <th>id</th>\n",
       "      <th>title</th>\n",
       "      <th>tags</th>\n",
       "    </tr>\n",
       "  </thead>\n",
       "  <tbody>\n",
       "    <tr>\n",
       "      <th>0</th>\n",
       "      <td>19995</td>\n",
       "      <td>Avatar</td>\n",
       "      <td>[In, the, 22nd, century,, a, paraplegic, Marin...</td>\n",
       "    </tr>\n",
       "    <tr>\n",
       "      <th>1</th>\n",
       "      <td>285</td>\n",
       "      <td>Pirates of the Caribbean: At World's End</td>\n",
       "      <td>[Captain, Barbossa,, long, believed, to, be, d...</td>\n",
       "    </tr>\n",
       "    <tr>\n",
       "      <th>2</th>\n",
       "      <td>206647</td>\n",
       "      <td>Spectre</td>\n",
       "      <td>[A, cryptic, message, from, Bond’s, past, send...</td>\n",
       "    </tr>\n",
       "    <tr>\n",
       "      <th>3</th>\n",
       "      <td>49026</td>\n",
       "      <td>The Dark Knight Rises</td>\n",
       "      <td>[Following, the, death, of, District, Attorney...</td>\n",
       "    </tr>\n",
       "    <tr>\n",
       "      <th>4</th>\n",
       "      <td>49529</td>\n",
       "      <td>John Carter</td>\n",
       "      <td>[John, Carter, is, a, war-weary,, former, mili...</td>\n",
       "    </tr>\n",
       "  </tbody>\n",
       "</table>\n",
       "</div>"
      ],
      "text/plain": [
       "       id                                     title  \\\n",
       "0   19995                                    Avatar   \n",
       "1     285  Pirates of the Caribbean: At World's End   \n",
       "2  206647                                   Spectre   \n",
       "3   49026                     The Dark Knight Rises   \n",
       "4   49529                               John Carter   \n",
       "\n",
       "                                                tags  \n",
       "0  [In, the, 22nd, century,, a, paraplegic, Marin...  \n",
       "1  [Captain, Barbossa,, long, believed, to, be, d...  \n",
       "2  [A, cryptic, message, from, Bond’s, past, send...  \n",
       "3  [Following, the, death, of, District, Attorney...  \n",
       "4  [John, Carter, is, a, war-weary,, former, mili...  "
      ]
     },
     "execution_count": 33,
     "metadata": {},
     "output_type": "execute_result"
    }
   ],
   "source": [
    "newtable.head(5)"
   ]
  },
  {
   "cell_type": "code",
   "execution_count": 34,
   "id": "4badd104",
   "metadata": {
    "execution": {
     "iopub.execute_input": "2023-04-20T18:19:02.647447Z",
     "iopub.status.busy": "2023-04-20T18:19:02.647013Z",
     "iopub.status.idle": "2023-04-20T18:19:02.702769Z",
     "shell.execute_reply": "2023-04-20T18:19:02.700944Z"
    },
    "papermill": {
     "duration": 0.076607,
     "end_time": "2023-04-20T18:19:02.705819",
     "exception": false,
     "start_time": "2023-04-20T18:19:02.629212",
     "status": "completed"
    },
    "tags": []
   },
   "outputs": [
    {
     "name": "stderr",
     "output_type": "stream",
     "text": [
      "/opt/conda/lib/python3.7/site-packages/ipykernel_launcher.py:1: SettingWithCopyWarning: \n",
      "A value is trying to be set on a copy of a slice from a DataFrame.\n",
      "Try using .loc[row_indexer,col_indexer] = value instead\n",
      "\n",
      "See the caveats in the documentation: https://pandas.pydata.org/pandas-docs/stable/user_guide/indexing.html#returning-a-view-versus-a-copy\n",
      "  \"\"\"Entry point for launching an IPython kernel.\n"
     ]
    }
   ],
   "source": [
    "newtable['tags'] = newtable['tags'].astype(str).apply(lambda x: x.lower())"
   ]
  },
  {
   "cell_type": "code",
   "execution_count": 35,
   "id": "6e516212",
   "metadata": {
    "execution": {
     "iopub.execute_input": "2023-04-20T18:19:02.738170Z",
     "iopub.status.busy": "2023-04-20T18:19:02.737708Z",
     "iopub.status.idle": "2023-04-20T18:19:04.396010Z",
     "shell.execute_reply": "2023-04-20T18:19:04.394477Z"
    },
    "papermill": {
     "duration": 1.678139,
     "end_time": "2023-04-20T18:19:04.399176",
     "exception": false,
     "start_time": "2023-04-20T18:19:02.721037",
     "status": "completed"
    },
    "tags": []
   },
   "outputs": [],
   "source": [
    "from sklearn.feature_extraction.text import CountVectorizer\n",
    "from sklearn.metrics.pairwise import cosine_similarity\n",
    "cv=CountVectorizer(max_features=5000,stop_words='english')\n",
    "vector = cv.fit_transform(newtable['tags'])\n",
    "\n",
    "\n"
   ]
  },
  {
   "cell_type": "code",
   "execution_count": 36,
   "id": "7c4481e1",
   "metadata": {
    "execution": {
     "iopub.execute_input": "2023-04-20T18:19:04.432643Z",
     "iopub.status.busy": "2023-04-20T18:19:04.432184Z",
     "iopub.status.idle": "2023-04-20T18:19:05.186015Z",
     "shell.execute_reply": "2023-04-20T18:19:05.184368Z"
    },
    "papermill": {
     "duration": 0.773875,
     "end_time": "2023-04-20T18:19:05.189125",
     "exception": false,
     "start_time": "2023-04-20T18:19:04.415250",
     "status": "completed"
    },
    "tags": []
   },
   "outputs": [
    {
     "name": "stdout",
     "output_type": "stream",
     "text": [
      "[[1.         0.09107651 0.05976143 ... 0.02519763 0.02672612 0.        ]\n",
      " [0.09107651 1.         0.06350006 ... 0.02677398 0.         0.        ]\n",
      " [0.05976143 0.06350006 1.         ... 0.02635231 0.         0.        ]\n",
      " ...\n",
      " [0.02519763 0.02677398 0.02635231 ... 1.         0.07071068 0.04836508]\n",
      " [0.02672612 0.         0.         ... 0.07071068 1.         0.05129892]\n",
      " [0.         0.         0.         ... 0.04836508 0.05129892 1.        ]]\n"
     ]
    }
   ],
   "source": [
    "similarity = cosine_similarity(vector)\n",
    "print(similarity)\n"
   ]
  },
  {
   "cell_type": "code",
   "execution_count": 37,
   "id": "25326c50",
   "metadata": {
    "execution": {
     "iopub.execute_input": "2023-04-20T18:19:05.223510Z",
     "iopub.status.busy": "2023-04-20T18:19:05.223071Z",
     "iopub.status.idle": "2023-04-20T18:19:05.233742Z",
     "shell.execute_reply": "2023-04-20T18:19:05.232271Z"
    },
    "papermill": {
     "duration": 0.031478,
     "end_time": "2023-04-20T18:19:05.236872",
     "exception": false,
     "start_time": "2023-04-20T18:19:05.205394",
     "status": "completed"
    },
    "tags": []
   },
   "outputs": [
    {
     "data": {
      "text/plain": [
       "744"
      ]
     },
     "execution_count": 37,
     "metadata": {},
     "output_type": "execute_result"
    }
   ],
   "source": [
    "newtable[newtable['title'] == 'The Lego Movie'].index[0]"
   ]
  },
  {
   "cell_type": "code",
   "execution_count": 38,
   "id": "a4dd0e7a",
   "metadata": {
    "execution": {
     "iopub.execute_input": "2023-04-20T18:19:05.273092Z",
     "iopub.status.busy": "2023-04-20T18:19:05.272658Z",
     "iopub.status.idle": "2023-04-20T18:19:05.279658Z",
     "shell.execute_reply": "2023-04-20T18:19:05.278179Z"
    },
    "papermill": {
     "duration": 0.028467,
     "end_time": "2023-04-20T18:19:05.282442",
     "exception": false,
     "start_time": "2023-04-20T18:19:05.253975",
     "status": "completed"
    },
    "tags": []
   },
   "outputs": [],
   "source": [
    "def recommend(movie):\n",
    "    index = newtable[newtable['title'] == movie].index[0]\n",
    "    distances = sorted(list(enumerate(similarity[index])),reverse=True,key = lambda x: x[1])\n",
    "    for i in distances[0:10]:\n",
    "        print(newtable.iloc[i[0]].title)"
   ]
  },
  {
   "cell_type": "code",
   "execution_count": 39,
   "id": "e6072ce0",
   "metadata": {
    "execution": {
     "iopub.execute_input": "2023-04-20T18:19:05.316142Z",
     "iopub.status.busy": "2023-04-20T18:19:05.315721Z",
     "iopub.status.idle": "2023-04-20T18:19:05.329009Z",
     "shell.execute_reply": "2023-04-20T18:19:05.327315Z"
    },
    "papermill": {
     "duration": 0.034031,
     "end_time": "2023-04-20T18:19:05.332326",
     "exception": false,
     "start_time": "2023-04-20T18:19:05.298295",
     "status": "completed"
    },
    "tags": []
   },
   "outputs": [
    {
     "name": "stdout",
     "output_type": "stream",
     "text": [
      "Spectre\n",
      "Quantum of Solace\n",
      "Never Say Never Again\n",
      "Skyfall\n",
      "Thunderball\n",
      "From Russia with Love\n",
      "Safe Haven\n",
      "Diamonds Are Forever\n",
      "Dr. No\n",
      "Die Another Day\n"
     ]
    }
   ],
   "source": [
    "recommend('Spectre')"
   ]
  },
  {
   "cell_type": "code",
   "execution_count": 40,
   "id": "e2650da4",
   "metadata": {
    "execution": {
     "iopub.execute_input": "2023-04-20T18:19:05.367156Z",
     "iopub.status.busy": "2023-04-20T18:19:05.366522Z",
     "iopub.status.idle": "2023-04-20T18:19:05.376032Z",
     "shell.execute_reply": "2023-04-20T18:19:05.374481Z"
    },
    "papermill": {
     "duration": 0.030932,
     "end_time": "2023-04-20T18:19:05.379362",
     "exception": false,
     "start_time": "2023-04-20T18:19:05.348430",
     "status": "completed"
    },
    "tags": []
   },
   "outputs": [
    {
     "data": {
      "text/plain": [
       "array(['Avatar', \"Pirates of the Caribbean: At World's End\", 'Spectre',\n",
       "       ..., 'Signed, Sealed, Delivered', 'Shanghai Calling',\n",
       "       'My Date with Drew'], dtype=object)"
      ]
     },
     "execution_count": 40,
     "metadata": {},
     "output_type": "execute_result"
    }
   ],
   "source": [
    "newtable['title'].values"
   ]
  },
  {
   "cell_type": "code",
   "execution_count": 41,
   "id": "19d36fef",
   "metadata": {
    "execution": {
     "iopub.execute_input": "2023-04-20T18:19:05.414491Z",
     "iopub.status.busy": "2023-04-20T18:19:05.413946Z",
     "iopub.status.idle": "2023-04-20T18:19:05.436671Z",
     "shell.execute_reply": "2023-04-20T18:19:05.435034Z"
    },
    "papermill": {
     "duration": 0.044362,
     "end_time": "2023-04-20T18:19:05.439823",
     "exception": false,
     "start_time": "2023-04-20T18:19:05.395461",
     "status": "completed"
    },
    "tags": []
   },
   "outputs": [],
   "source": [
    "newtable=newtable.to_dict()"
   ]
  },
  {
   "cell_type": "code",
   "execution_count": 42,
   "id": "f601981c",
   "metadata": {
    "execution": {
     "iopub.execute_input": "2023-04-20T18:19:05.474769Z",
     "iopub.status.busy": "2023-04-20T18:19:05.474324Z",
     "iopub.status.idle": "2023-04-20T18:19:05.491164Z",
     "shell.execute_reply": "2023-04-20T18:19:05.490157Z"
    },
    "papermill": {
     "duration": 0.041761,
     "end_time": "2023-04-20T18:19:05.497701",
     "exception": false,
     "start_time": "2023-04-20T18:19:05.455940",
     "status": "completed"
    },
    "tags": []
   },
   "outputs": [
    {
     "data": {
      "text/plain": [
       "dict_values(['Avatar', \"Pirates of the Caribbean: At World's End\", 'Spectre', 'The Dark Knight Rises', 'John Carter', 'Spider-Man 3', 'Tangled', 'Avengers: Age of Ultron', 'Harry Potter and the Half-Blood Prince', 'Batman v Superman: Dawn of Justice', 'Superman Returns', 'Quantum of Solace', \"Pirates of the Caribbean: Dead Man's Chest\", 'The Lone Ranger', 'Man of Steel', 'The Chronicles of Narnia: Prince Caspian', 'The Avengers', 'Pirates of the Caribbean: On Stranger Tides', 'Men in Black 3', 'The Hobbit: The Battle of the Five Armies', 'The Amazing Spider-Man', 'Robin Hood', 'The Hobbit: The Desolation of Smaug', 'The Golden Compass', 'King Kong', 'Titanic', 'Captain America: Civil War', 'Battleship', 'Jurassic World', 'Skyfall', 'Spider-Man 2', 'Iron Man 3', 'Alice in Wonderland', 'X-Men: The Last Stand', 'Monsters University', 'Transformers: Revenge of the Fallen', 'Transformers: Age of Extinction', 'Oz: The Great and Powerful', 'The Amazing Spider-Man 2', 'TRON: Legacy', 'Cars 2', 'Green Lantern', 'Toy Story 3', 'Terminator Salvation', 'Furious 7', 'World War Z', 'X-Men: Days of Future Past', 'Star Trek Into Darkness', 'Jack the Giant Slayer', 'The Great Gatsby', 'Prince of Persia: The Sands of Time', 'Pacific Rim', 'Transformers: Dark of the Moon', 'Indiana Jones and the Kingdom of the Crystal Skull', 'The Good Dinosaur', 'Brave', 'Star Trek Beyond', 'WALL·E', 'Rush Hour 3', '2012', 'A Christmas Carol', 'Jupiter Ascending', 'The Legend of Tarzan', 'The Chronicles of Narnia: The Lion, the Witch and the Wardrobe', 'X-Men: Apocalypse', 'The Dark Knight', 'Up', 'Monsters vs Aliens', 'Iron Man', 'Hugo', 'Wild Wild West', 'The Mummy: Tomb of the Dragon Emperor', 'Suicide Squad', 'Evan Almighty', 'Edge of Tomorrow', 'Waterworld', 'G.I. Joe: The Rise of Cobra', 'Inside Out', 'The Jungle Book', 'Iron Man 2', 'Snow White and the Huntsman', 'Maleficent', 'Dawn of the Planet of the Apes', 'The Lovers', '47 Ronin', 'Captain America: The Winter Soldier', 'Shrek Forever After', 'Tomorrowland', 'Big Hero 6', 'Wreck-It Ralph', 'The Polar Express', 'Independence Day: Resurgence', 'How to Train Your Dragon', 'Terminator 3: Rise of the Machines', 'Guardians of the Galaxy', 'Interstellar', 'Inception', 'Shin Godzilla', 'The Hobbit: An Unexpected Journey', 'The Fast and the Furious', 'The Curious Case of Benjamin Button', 'X-Men: First Class', 'The Hunger Games: Mockingjay - Part 2', \"The Sorcerer's Apprentice\", 'Poseidon', 'Alice Through the Looking Glass', 'Shrek the Third', 'Warcraft', 'Terminator Genisys', 'The Chronicles of Narnia: The Voyage of the Dawn Treader', 'Pearl Harbor', 'Transformers', 'Alexander', 'Harry Potter and the Order of the Phoenix', 'Harry Potter and the Goblet of Fire', 'Hancock', 'I Am Legend', 'Charlie and the Chocolate Factory', 'Ratatouille', 'Batman Begins', 'Madagascar: Escape 2 Africa', 'Night at the Museum: Battle of the Smithsonian', 'X-Men Origins: Wolverine', 'The Matrix Revolutions', 'Frozen', 'The Matrix Reloaded', 'Thor: The Dark World', 'Mad Max: Fury Road', 'Angels & Demons', 'Thor', 'Bolt', 'G-Force', 'Wrath of the Titans', 'Dark Shadows', 'Mission: Impossible - Rogue Nation', 'The Wolfman', 'Bee Movie', 'Kung Fu Panda 2', 'The Last Airbender', 'Mission: Impossible III', 'White House Down', 'Mars Needs Moms', 'Flushed Away', 'Pan', 'Mr. Peabody & Sherman', 'Troy', \"Madagascar 3: Europe's Most Wanted\", 'Die Another Day', 'Ghostbusters', 'Armageddon', 'Men in Black II', 'Beowulf', 'Kung Fu Panda 3', 'Mission: Impossible - Ghost Protocol', 'Rise of the Guardians', 'Fun with Dick and Jane', 'The Last Samurai', 'Exodus: Gods and Kings', 'Star Trek', 'Spider-Man', 'How to Train Your Dragon 2', 'Gods of Egypt', 'Stealth', 'Watchmen', 'Lethal Weapon 4', 'Hulk', 'G.I. Joe: Retaliation', 'Sahara', 'Final Fantasy: The Spirits Within', 'Captain America: The First Avenger', 'The World Is Not Enough', 'Master and Commander: The Far Side of the World', 'The Twilight Saga: Breaking Dawn - Part 2', 'Happy Feet Two', 'The Incredible Hulk', 'The BFG', 'The Revenant', 'Turbo', 'Rango', 'Penguins of Madagascar', 'The Bourne Ultimatum', 'Kung Fu Panda', 'Ant-Man', 'The Hunger Games: Catching Fire', 'Home', 'War of the Worlds', 'Bad Boys II', 'Puss in Boots', 'Salt', 'Noah', 'The Adventures of Tintin', 'Harry Potter and the Prisoner of Azkaban', 'Australia', 'After Earth', 'Dinosaur', 'Night at the Museum: Secret of the Tomb', 'Megamind', \"Harry Potter and the Philosopher's Stone\", 'R.I.P.D.', 'Pirates of the Caribbean: The Curse of the Black Pearl', 'The Hunger Games: Mockingjay - Part 1', 'The Da Vinci Code', 'Rio 2', 'X2', 'Fast Five', 'Sherlock Holmes: A Game of Shadows', 'Clash of the Titans', 'Total Recall', 'The 13th Warrior', 'The Bourne Legacy', 'Batman & Robin', 'How the Grinch Stole Christmas', 'The Day After Tomorrow', 'Mission: Impossible II', 'The Perfect Storm', 'Fantastic 4: Rise of the Silver Surfer', 'Life of Pi', 'Ghost Rider', 'Jason Bourne', \"Charlie's Angels: Full Throttle\", 'Prometheus', 'Stuart Little 2', 'Elysium', 'The Chronicles of Riddick', 'RoboCop', 'Speed Racer', 'How Do You Know', 'Knight and Day', 'Oblivion', 'Star Wars: Episode III - Revenge of the Sith', 'Star Wars: Episode II - Attack of the Clones', 'Monsters, Inc.', 'The Wolverine', 'Star Wars: Episode I - The Phantom Menace', 'The Croods', 'Asterix at the Olympic Games', 'Windtalkers', \"The Huntsman: Winter's War\", 'Teenage Mutant Ninja Turtles', 'Gravity', \"Dante's Peak\", 'Teenage Mutant Ninja Turtles: Out of the Shadows', 'Fantastic Four', 'Night at the Museum', 'San Andreas', 'Tomorrow Never Dies', 'The Patriot', \"Ocean's Twelve\", 'Mr. & Mrs. Smith', 'Insurgent', 'The Aviator', \"Gulliver's Travels\", 'The Green Hornet', '300: Rise of an Empire', 'The Smurfs', 'Home on the Range', 'Allegiant', 'Real Steel', 'The Smurfs 2', 'Speed 2: Cruise Control', \"Ender's Game\", 'Live Free or Die Hard', 'The Lord of the Rings: The Fellowship of the Ring', 'Around the World in 80 Days', 'Ali', 'The Cat in the Hat', 'I, Robot', 'Kingdom of Heaven', 'Stuart Little', 'The Princess and the Frog', 'The Martian', 'The Island', 'Town & Country', 'Gone in Sixty Seconds', 'Gladiator', 'Minority Report', 'Harry Potter and the Chamber of Secrets', 'Casino Royale', 'Planet of the Apes', 'Terminator 2: Judgment Day', 'Public Enemies', 'American Gangster', 'True Lies', 'The Taking of Pelham 1 2 3', 'Little Fockers', 'The Other Guys', 'Eraser', 'Django Unchained', 'The Hunchback of Notre Dame', \"The Emperor's New Groove\", 'The Expendables 2', 'National Treasure', 'Eragon', 'Where the Wild Things Are', 'Epic', 'The Tourist', 'End of Days', 'Blood Diamond', 'The Wolf of Wall Street', 'Batman Forever', 'Starship Troopers', 'Cloud Atlas', \"Legend of the Guardians: The Owls of Ga'Hoole\", 'Catwoman', 'Hercules', 'Treasure Planet', 'Land of the Lost', 'The Expendables 3', 'Point Break', 'Son of the Mask', 'In the Heart of the Sea', 'The Adventures of Pluto Nash', 'Green Zone', 'The Peanuts Movie', 'The Spanish Prisoner', 'The Mummy Returns', 'Gangs of New York', 'The Flowers of War', \"Surf's Up\", 'The Stepford Wives', 'Black Hawk Down', 'The Campaign', 'The Fifth Element', 'Sex and the City 2', 'The Road to El Dorado', 'Ice Age: Continental Drift', 'Cinderella', 'The Lovely Bones', 'Finding Nemo', 'The Lord of the Rings: The Return of the King', 'The Lord of the Rings: The Two Towers', 'Seventh Son', 'Lara Croft: Tomb Raider', 'Transcendence', 'Jurassic Park III', 'Rise of the Planet of the Apes', 'The Spiderwick Chronicles', 'A Good Day to Die Hard', 'The Alamo', 'The Incredibles', 'Cutthroat Island', 'Percy Jackson & the Olympians: The Lightning Thief', 'Men in Black', 'Toy Story 2', 'Unstoppable', 'Rush Hour 2', 'What Lies Beneath', 'Cloudy with a Chance of Meatballs', 'Ice Age: Dawn of the Dinosaurs', 'The Secret Life of Walter Mitty', \"Charlie's Angels\", 'The Departed', 'Mulan', 'Tropic Thunder', 'The Girl with the Dragon Tattoo', 'Die Hard: With a Vengeance', 'Sherlock Holmes', 'Ben-Hur', 'Atlantis: The Lost Empire', 'Alvin and the Chipmunks: The Road Chip', 'Valkyrie', \"You Don't Mess with the Zohan\", 'Pixels', 'A.I. Artificial Intelligence', 'The Haunted Mansion', 'Contact', 'Hollow Man', 'The Interpreter', 'Percy Jackson: Sea of Monsters', 'Lara Croft Tomb Raider: The Cradle of Life', 'Now You See Me 2', 'The Saint', 'Spy Game', 'Mission to Mars', 'Rio', 'Bicentennial Man', 'Volcano', \"The Devil's Own\", 'K-19: The Widowmaker', 'Conan the Barbarian', 'Cinderella Man', 'The Nutcracker: The Untold Story', 'Seabiscuit', 'Twister', 'Cast Away', 'Happy Feet', 'The Bourne Supremacy', 'Air Force One', \"Ocean's Eleven\", 'The Three Musketeers', 'Hotel Transylvania', 'Enchanted', 'Safe House', '102 Dalmatians', 'Tower Heist', 'The Holiday', 'Enemy of the State', \"It's Complicated\", \"Ocean's Thirteen\", 'Open Season', 'Divergent', 'Enemy at the Gates', 'The Rundown', 'Last Action Hero', 'Memoirs of a Geisha', 'The Fast and the Furious: Tokyo Drift', 'Arthur Christmas', 'Meet Joe Black', 'Collateral Damage', 'All That Jazz', 'Mirror Mirror', 'Scott Pilgrim vs. the World', 'The Core', 'Nutty Professor II: The Klumps', 'Scooby-Doo', 'Dredd', 'Click', 'Creepshow', 'Cats & Dogs 2 : The Revenge of Kitty Galore', 'Jumper', 'Hellboy II: The Golden Army', 'Zodiac', 'The 6th Day', 'Bruce Almighty', 'The Expendables', 'Mission: Impossible', 'The Hunger Games', 'The Hangover Part II', 'Batman Returns', 'Over the Hedge', 'Lilo & Stitch', \"Charlotte's Web\", 'Deep Impact', 'RED 2', 'The Longest Yard', 'Alvin and the Chipmunks: Chipwrecked', 'Grown Ups 2', 'Get Smart', \"Something's Gotta Give\", 'Shutter Island', 'Four Christmases', 'Robots', 'Face/Off', 'Bedtime Stories', 'Road to Perdition', 'Just Go with It', 'Con Air', 'Eagle Eye', 'Cold Mountain', 'The Book of Eli', 'Flubber', 'The Haunting', 'Space Jam', 'The Pink Panther', 'The Day the Earth Stood Still', 'Conspiracy Theory', 'Fury', 'Six Days Seven Nights', 'Yogi Bear', 'Spirit: Stallion of the Cimarron', 'Zookeeper', 'Lost in Space', 'The Manchurian Candidate', 'Déjà Vu', 'Hotel Transylvania 2', 'Fantasia 2000', 'The Time Machine', 'Mighty Joe Young', 'Swordfish', 'The Legend of Zorro', 'What Dreams May Come', 'Little Nicky', 'The Brothers Grimm', 'Mars Attacks!', 'Evolution', 'The Edge', 'Surrogates', 'Thirteen Days', 'Daylight', 'Walking With Dinosaurs', 'Battlefield Earth', 'Looney Tunes: Back in Action', 'Nine', 'Timeline', 'The Postman', 'Babe: Pig in the City', 'The Last Witch Hunter', 'Red Planet', 'Arthur and the Invisibles', 'Oceans', 'A Sound of Thunder', 'Pompeii', 'Top Cat Begins', 'A Beautiful Mind', 'The Lion King', 'Journey 2: The Mysterious Island', 'Cloudy with a Chance of Meatballs 2', 'Red Dragon', 'Hidalgo', 'Jack and Jill', '2 Fast 2 Furious', 'The Little Prince', 'The Invasion', 'The Adventures of Rocky & Bullwinkle', 'The Secret Life of Pets', 'The League of Extraordinary Gentlemen', 'Despicable Me 2', 'Independence Day', 'The Lost World: Jurassic Park', 'Madagascar', 'Children of Men', 'X-Men', 'Wanted', 'The Rock', 'Ice Age: The Meltdown', '50 First Dates', 'Hairspray', 'Exorcist: The Beginning', 'Inspector Gadget', 'Now You See Me', 'Grown Ups', 'The Terminal', 'Hotel for Dogs', 'Vertical Limit', \"Charlie Wilson's War\", 'Shark Tale', 'Dreamgirls', 'Be Cool', 'Munich', 'Tears of the Sun', 'Killers', 'The Man from U.N.C.L.E.', 'Spanglish', 'Monster House', 'Bandits', 'First Knight', 'Anna and the King', 'Immortals', 'Hostage', 'Titan A.E.', 'Hollywood Homicide', 'Soldier', 'Carriers', 'Monkeybone', 'Flight of the Phoenix', 'Unbreakable', 'Minions', 'Sucker Punch', 'Snake Eyes', 'Sphere', 'The Angry Birds Movie', \"Fool's Gold\", 'Funny People', 'The Kingdom', 'Talladega Nights: The Ballad of Ricky Bobby', 'Dr. Dolittle 2', 'Braveheart', 'Jarhead', 'The Simpsons Movie', 'The Majestic', 'Driven', 'Two Brothers', 'The Village', 'Doctor Dolittle', 'Signs', 'Shrek 2', 'Cars', 'Runaway Bride', 'xXx', 'The SpongeBob Movie: Sponge Out of Water', 'Ransom', 'Inglourious Basterds', 'Hook', 'Die Hard 2', 'S.W.A.T.', 'Vanilla Sky', 'Lady in the Water', 'AVP: Alien vs. Predator', 'Alvin and the Chipmunks: The Squeakquel', 'We Were Soldiers', 'Olympus Has Fallen', 'Star Trek: Insurrection', 'Battle: Los Angeles', 'Big Fish', 'Wolf', 'War Horse', 'The Monuments Men', 'The Abyss', 'Wall Street: Money Never Sleeps', 'Dracula Untold', 'The Siege', 'Stardust', 'Seven Years in Tibet', 'The Dilemma', 'Bad Company', 'Doom', 'I Spy', 'Underworld: Awakening', 'Rock of Ages', \"Hart's War\", 'Killer Elite', 'Rollerball', 'Ballistic: Ecks vs. Sever', 'Hard Rain', 'Osmosis Jones', \"Legends of Oz: Dorothy's Return\", 'Blackhat', 'Sky Captain and the World of Tomorrow', 'Basic Instinct 2', 'Escape Plan', 'The Legend of Hercules', 'The Sum of All Fears', 'The Twilight Saga: Eclipse', 'The Score', 'Despicable Me', 'Money Train', 'Ted 2', 'Agora', 'Mystery Men', 'Hall Pass', 'The Insider', 'The Finest Hours', 'Body of Lies', 'Dinner for Schmucks', 'Abraham Lincoln: Vampire Hunter', 'Entrapment', 'The X Files', 'The Last Legion', 'Saving Private Ryan', 'Need for Speed', 'What Women Want', 'Ice Age', 'Dreamcatcher', 'Lincoln', 'The Matrix', 'Apollo 13', 'The Santa Clause 2', 'Les Misérables', \"You've Got Mail\", 'Step Brothers', 'The Mask of Zorro', 'Due Date', 'Unbroken', 'Space Cowboys', 'Cliffhanger', 'Broken Arrow', 'The Kid', 'World Trade Center', 'Mona Lisa Smile', 'The Dictator', 'Eyes Wide Shut', 'Annie', 'Focus', 'This Means War', 'Blade: Trinity', 'Red Dawn', 'Primary Colors', 'Resident Evil: Retribution', 'Death Race', 'The Long Kiss Goodnight', 'Proof of Life', 'Zathura: A Space Adventure', 'Fight Club', 'We Are Marshall', 'Hudson Hawk', 'Lucky Numbers', 'I, Frankenstein', 'Oliver Twist', 'Elektra', 'Sin City: A Dame to Kill For', 'Random Hearts', 'Everest', 'Perfume: The Story of a Murderer', 'Austin Powers in Goldmember', 'Astro Boy', 'Jurassic Park', 'Wyatt Earp', 'Clear and Present Danger', 'Dragon Blade', 'Little Man', 'U-571', 'The American President', 'The Love Guru', '3000 Miles to Graceland', 'The Hateful Eight', 'Blades of Glory', 'Hop', '300', 'Meet the Fockers', 'Marley & Me', 'The Green Mile', 'Wild Hogs', 'Chicken Little', 'Gone Girl', 'The Bourne Identity', 'GoldenEye', \"The General's Daughter\", 'The Truman Show', 'The Prince of Egypt', 'Daddy Day Care', '2 Guns', 'Cats & Dogs', 'The Italian Job', 'Two Weeks Notice', 'Antz', 'Couples Retreat', 'Days of Thunder', 'Cheaper by the Dozen 2', 'Maze Runner: The Scorch Trials', 'Eat Pray Love', 'The Family Man', 'RED', 'Any Given Sunday', 'The Horse Whisperer', 'Collateral', 'The Scorpion King', 'Ladder 49', 'Jack Reacher', 'Deep Blue Sea', 'This Is It', 'Contagion', 'Kangaroo Jack', 'Coraline', 'The Happening', 'Man on Fire', 'The Shaggy Dog', 'Starsky & Hutch', 'Jingle All the Way', 'Hellboy', 'A Civil Action', 'ParaNorman', 'The Jackal', 'Paycheck', 'Up Close & Personal', 'The Tale of Despereaux', 'The Tuxedo', 'Under Siege 2: Dark Territory', 'Jack Ryan: Shadow Recruit', 'Joy', 'London Has Fallen', 'Alien: Resurrection', 'Shooter', 'The Boxtrolls', 'Practical Magic', 'The Lego Movie', 'Miss Congeniality 2: Armed and Fabulous', 'Reign of Fire', 'Gangster Squad', 'Year One', 'Invictus', 'State of Play', 'Duplicity', 'My Favorite Martian', 'The Sentinel', 'Planet 51', 'Star Trek: Nemesis', 'Intolerable Cruelty', 'Trouble with the Curve', 'Edge of Darkness', 'The Relic', 'Analyze That', 'Righteous Kill', 'Mercury Rising', 'The Soloist', 'The Legend of Bagger Vance', 'Almost Famous', 'Garfield: A Tail of Two Kitties', 'xXx: State of the Union', 'Priest', 'Sinbad: Legend of the Seven Seas', 'Event Horizon', 'Dragonfly', 'The Black Dahlia', 'Flyboys', 'The Last Castle', 'Supernova', \"Winter's Tale\", 'The Mortal Instruments: City of Bones', 'Meet Dave', 'Dark Water', 'Edtv', 'Inkheart', 'The Spirit', 'Mortdecai', 'In the Name of the King: A Dungeon Siege Tale', 'Beyond Borders', 'The Monkey King 2', 'The Great Raid', 'Deadpool', 'Holy Man', 'American Sniper', 'Goosebumps', 'Just Like Heaven', 'The Flintstones in Viva Rock Vegas', 'Rambo III', 'Leatherheads', 'The Ridiculous 6', 'Did You Hear About the Morgans?', 'The Internship', 'Resident Evil: Afterlife', 'Red Tails', \"The Devil's Advocate\", \"That's My Boy\", 'DragonHeart', 'After the Sunset', 'Ghost Rider: Spirit of Vengeance', \"Captain Corelli's Mandolin\", 'The Pacifier', 'Walking Tall', 'Forrest Gump', 'Alvin and the Chipmunks', 'Meet the Parents', 'Pocahontas', 'Superman', 'The Nutty Professor', 'Hitch', 'George of the Jungle', 'American Wedding', 'Captain Phillips', 'Date Night', 'Casper', 'The Equalizer', 'Maid in Manhattan', 'Crimson Tide', 'The Pursuit of Happyness', 'Flightplan', 'Disclosure', 'City of Angels', 'Kill Bill: Vol. 1', 'Bowfinger', 'Kill Bill: Vol. 2', 'Tango & Cash', 'Death Becomes Her', 'Shanghai Noon', 'Executive Decision', \"Mr. Popper's Penguins\", 'The Forbidden Kingdom', 'Free Birds', 'Alien³', 'Evita', 'Ronin', 'The Ghost and the Darkness', 'Paddington', 'The Watch', 'The Hunted', 'Instinct', 'Stuck on You', 'Semi-Pro', 'The Pirates! In an Adventure with Scientists!', 'Changeling', 'Chain Reaction', 'The Fan', 'The Phantom of the Opera', 'Elizabeth: The Golden Age', 'Æon Flux', 'Gods and Generals', 'Turbulence', 'Imagine That', 'Muppets Most Wanted', 'Thunderbirds', 'Burlesque', 'A Very Long Engagement', 'Lolita', 'D-Tox', 'Blade II', 'Seven Pounds', 'Bullet to the Head', 'The Godfather: Part III', 'Elizabethtown', 'You, Me and Dupree', 'Superman II', 'Gigli', \"All the King's Men\", 'Shaft', 'Anastasia', 'Moulin Rouge!', 'Domestic Disturbance', 'Black Mass', 'Flags of Our Fathers', 'Law Abiding Citizen', 'Grindhouse', 'Beloved', 'Lucky You', 'Catch Me If You Can', 'Zero Dark Thirty', 'The Break-Up', 'Mamma Mia!', \"Valentine's Day\", 'The Dukes of Hazzard', 'The Thin Red Line', 'The Change-Up', 'Man on the Moon', 'Casino', 'From Paris with Love', 'Bulletproof Monk', 'Me, Myself & Irene', 'Barnyard', 'Deck the Halls', 'The Twilight Saga: New Moon', 'Shrek', 'The Adjustment Bureau', 'Robin Hood: Prince of Thieves', 'Jerry Maguire', 'Ted', 'As Good as It Gets', 'Patch Adams', 'Anchorman 2: The Legend Continues', 'Mr. Deeds', 'Super 8', 'Erin Brockovich', 'How to Lose a Guy in 10 Days', '22 Jump Street', 'Interview with the Vampire', 'Yes Man', 'Central Intelligence', 'Stepmom', \"Daddy's Home\", 'Into the Woods', 'Inside Man', 'Payback', 'Congo', 'We Bought a Zoo', 'Knowing', 'Failure to Launch', 'The Ring Two', 'Crazy, Stupid, Love.', 'Garfield', 'Christmas with the Kranks', 'Moneyball', 'Outbreak', 'Non-Stop', 'Race to Witch Mountain', 'V for Vendetta', 'Shanghai Knights', 'Curious George', 'Herbie Fully Loaded', \"Don't Say a Word\", 'Hansel & Gretel: Witch Hunters', 'Unfaithful', 'I Am Number Four', 'Syriana', '13 Hours: The Secret Soldiers of Benghazi', 'The Book of Life', 'Firewall', 'Absolute Power', 'G.I. Jane', 'The Game', 'Silent Hill', 'The Replacements', 'American Reunion', 'The Negotiator', 'Into the Storm', 'Beverly Hills Cop III', 'Gremlins 2: The New Batch', 'The Judge', 'The Peacemaker', 'Resident Evil: Apocalypse', 'Bridget Jones: The Edge of Reason', 'Out of Time', 'On Deadly Ground', 'The Adventures of Sharkboy and Lavagirl', 'The Beach', 'Raising Helen', 'Ninja Assassin', 'For Love of the Game', 'Striptease', 'Marmaduke', 'Hereafter', 'Murder by Numbers', 'Assassins', 'Hannibal Rising', 'The Story of Us', 'The Host', 'The Host', 'The Host', 'The Host', 'Basic', 'Blood Work', 'The International', 'Escape from L.A.', 'The Iron Giant', 'The Life Aquatic with Steve Zissou', 'Free State of Jones', 'The Life of David Gale', 'Man of the House', 'Run All Night', 'Eastern Promises', 'Into the Blue', 'The Messenger: The Story of Joan of Arc', 'Your Highness', 'Dream House', 'Mad City', \"Baby's Day Out\", 'The Scarlet Letter', 'Fair Game', 'Domino', 'Jade', 'Gamer', 'Beautiful Creatures', 'Death to Smoochy', 'Zoolander 2', 'The Big Bounce', 'What Planet Are You From?', 'Drive Angry', 'Street Fighter: The Legend of Chun-Li', 'The One', 'The Adventures of Ford Fairlane', 'The Boat That Rocked', 'Traffic', 'Indiana Jones and the Last Crusade', 'Anna Karenina', 'Chappie', 'The Bone Collector', 'Panic Room', 'The Tooth Fairy', 'Three Kings', 'Child 44', 'Rat Race', 'K-PAX', 'Kate & Leopold', 'Bedazzled', 'The Cotton Club', '3:10 to Yuma', 'Taken 3', 'Out of Sight', 'The Cable Guy', 'Earth', 'Dick Tracy', 'The Thomas Crown Affair', 'Riding in Cars with Boys', 'First Blood', 'Solaris', \"Happily N'Ever After\", 'Mary Reilly', \"My Best Friend's Wedding\", \"America's Sweethearts\", 'Insomnia', 'Star Trek: First Contact', 'Jonah Hex', 'Courage Under Fire', 'Liar Liar', 'The Infiltrator', 'Inchon', 'The Flintstones', 'Taken 2', 'Scary Movie 3', 'Miss Congeniality', 'Journey to the Center of the Earth', 'The Princess Diaries 2: Royal Engagement', 'The Pelican Brief', 'The Client', 'The Bucket List', 'Patriot Games', 'Monster-in-Law', 'Prisoners', 'Training Day', 'Galaxy Quest', 'Scary Movie 2', 'The Muppets', 'Blade', 'Coach Carter', 'Changing Lanes', 'Anaconda', 'Coyote Ugly', 'Love Actually', \"A Bug's Life\", 'From Hell', 'The Specialist', 'Tin Cup', 'Yours, Mine and Ours', 'Kicking & Screaming', \"The Hitchhiker's Guide to the Galaxy\", 'Fat Albert', 'Resident Evil: Extinction', 'Blended', 'Last Holiday', 'The River Wild', 'The Indian in the Cupboard', 'Savages', 'Cellular', 'Johnny English', 'The Ant Bully', 'Dune', 'Across the Universe', 'Revolutionary Road', '16 Blocks', 'Babylon A.D.', 'The Glimmer Man', 'Multiplicity', 'Aliens in the Attic', 'The Pledge', 'The Producers', 'The Phantom', 'All the Pretty Horses', 'Nixon', 'The Ghost Writer', 'Deep Rising', 'Miracle at St. Anna', 'Curse of the Golden Flower', 'Bangkok Dangerous', 'Big Trouble', 'Love in the Time of Cholera', 'Shadow Conspiracy', 'Johnny English Reborn', 'Foodfight!', 'Argo', 'The Fugitive', 'The Bounty Hunter', 'Sleepers', 'Rambo: First Blood Part II', 'The Juror', 'Pinocchio', \"Heaven's Gate\", 'Underworld: Evolution', 'Victor Frankenstein', 'Finding Forrester', '28 Days', 'Unleashed', 'The Sweetest Thing', 'The Firm', 'Charlie St. Cloud', 'The Mechanic', '21 Jump Street', 'Notting Hill', 'Chicken Run', 'Along Came Polly', 'Boomerang', 'The Heat', 'Cleopatra', 'Here Comes the Boom', 'High Crimes', 'The Mirror Has Two Faces', 'The Mothman Prophecies', 'Brüno', 'Licence to Kill', 'Red Riding Hood', '15 Minutes', 'Super Mario Bros.', 'Lord of War', 'Hero', 'One for the Money', 'The Interview', \"The Warrior's Way\", 'Micmacs', '8 Mile', 'Why I Did (Not) Eat My Father', \"A Knight's Tale\", 'The Medallion', 'The Sixth Sense', 'Man on a Ledge', 'The Big Year', 'The Karate Kid', 'American Hustle', 'The Proposal', 'Double Jeopardy', 'Back to the Future Part II', 'Lucy', 'Fifty Shades of Grey', 'Spy Kids 3-D: Game Over', 'A Time to Kill', 'Cheaper by the Dozen', 'Lone Survivor', 'A League of Their Own', 'The Conjuring 2', 'The Social Network', \"He's Just Not That Into You\", 'Scary Movie 4', 'Scream 3', 'Back to the Future Part III', 'Get Hard', 'Dracula', 'Julie & Julia', '42', 'The Talented Mr. Ripley', 'Dumb and Dumber To', 'Eight Below', 'The Intern', 'Ride Along 2', 'The Last of the Mohicans', 'Ray', 'Sin City', 'Vantage Point', 'I Love You, Man', 'Shallow Hal', 'JFK', \"Big Momma's House 2\", 'The Mexican', '17 Again', 'The Other Woman', 'The Final Destination', 'Bridge of Spies', 'Behind Enemy Lines', 'Get Him to the Greek', 'Shall We Dance?', 'Small Soldiers', 'Spawn', 'The Count of Monte Cristo', 'The Lincoln Lawyer', 'Unknown', 'The Prestige', 'Horrible Bosses 2', 'Escape from Planet Earth', 'Apocalypto', 'The Living Daylights', 'Predators', 'Legal Eagles', 'Secret Window', 'The Lake House', 'The Skeleton Key', 'The Odd Life of Timothy Green', 'Made of Honor', 'Jersey Boys', 'The Rainmaker', 'Gothika', 'Amistad', 'Medicine Man', 'Aliens vs Predator: Requiem', 'Ri¢hie Ri¢h', 'Autumn in New York', 'Music and Lyrics', 'Paul', 'The Guilt Trip', 'Scream 4', '8MM', 'The Doors', 'Sex Tape', 'Hanging Up', 'Final Destination 5', 'Mickey Blue Eyes', 'Pay It Forward', 'Fever Pitch', 'Drillbit Taylor', 'A Million Ways to Die in the West', 'The Shadow', 'Extremely Loud & Incredibly Close', 'Morning Glory', \"Get Rich or Die Tryin'\", 'The Art of War', 'Rent', 'Bless the Child', 'The Out-of-Towners', 'The Island of Dr. Moreau', 'The Musketeer', 'The Other Boleyn Girl', 'Sweet November', 'The Reaping', 'Mean Streets', 'Renaissance Man', 'Colombiana', 'Quest for Camelot', 'City By The Sea', 'At First Sight', 'Torque', 'City Hall', 'Showgirls', 'Marie Antoinette', 'Kiss of Death', 'Get Carter', 'The Impossible', 'Ishtar', 'Fantastic Mr. Fox', 'Life or Something Like It', 'Memoirs of an Invisible Man', 'Amélie', 'New York Minute', 'Alfie', 'Big Miracle', 'The Deep End of the Ocean', 'FearDotCom', \"Cirque du Freak: The Vampire's Assistant\", 'Duplex', 'Soul Men', 'Raise the Titanic', 'Universal Soldier: The Return', 'Pandorum', 'Impostor', 'Extreme Ops', 'Just Visiting', 'Sunshine', 'A Thousand Words', 'Delgo', 'The Gunman', 'Stormbreaker', 'Disturbia', 'Hackers', 'The Hunting Party', 'The Hudsucker Proxy', 'The Warlords', 'Nomad: The Warrior', 'Snowpiercer', 'A Monster in Paris', 'The Last Shot', 'The Crow', 'Baahubali: The Beginning', \"The Time Traveler's Wife\", 'Because I Said So', 'Frankenweenie', 'Serenity', 'Against the Ropes', 'Superman III', 'Grudge Match', 'Red Cliff', 'Sweet Home Alabama', 'The Ugly Truth', 'Sgt. Bilko', 'Spy Kids 2: The Island of Lost Dreams', 'Star Trek: Generations', 'The Grandmaster', 'Water for Elephants', \"Dragon Nest: Warriors' Dawn\", 'The Hurricane', 'Enough', 'Heartbreakers', 'Paul Blart: Mall Cop 2', 'Angel Eyes', 'Joe Somebody', 'The Ninth Gate', 'Extreme Measures', 'Rock Star', 'Precious', 'White Squall', 'The Thing', 'Riddick', 'Switchback', 'Texas Rangers', 'City of Ember', 'The Master', 'Virgin Territory', 'The Express', 'The 5th Wave', 'Creed', 'The Town', \"What to Expect When You're Expecting\", 'Burn After Reading', \"Nim's Island\", 'Rush', 'Magnolia', 'Cop Out', 'How to Be Single', 'Dolphin Tale', 'Twilight', 'John Q', 'Blue Streak', \"We're the Millers\", 'The Inhabited Island', 'Breakdown', 'Never Say Never Again', 'Hot Tub Time Machine', 'Dolphin Tale 2', 'Reindeer Games', 'A Man Apart', 'Aloha', 'Ghosts of Mississippi', 'Snow Falling on Cedars', 'The Rite', 'Gattaca', \"Isn't She Great\", 'Space Chimps', 'Head of State', 'The Hangover', 'Ip Man 3', 'Austin Powers: The Spy Who Shagged Me', 'Batman', 'Batman', 'Batman', 'Batman', 'There Be Dragons', 'Lethal Weapon 3', 'The Blind Side', 'Spy Kids', 'Horrible Bosses', 'True Grit', 'The Devil Wears Prada', 'Star Trek: The Motion Picture', 'Identity Thief', 'Cape Fear', '21', 'Trainwreck', 'Guess Who', 'The English Patient', 'L.A. Confidential', 'Sky High', 'In & Out', 'Species', 'A Nightmare on Elm Street', 'The Cell', 'The Man in the Iron Mask', 'Secretariat', 'TMNT', 'Radio', 'Friends with Benefits', 'Neighbors 2: Sorority Rising', 'Saving Mr. Banks', 'Malcolm X', 'This Is 40', 'Old Dogs', 'Underworld: Rise of the Lycans', 'License to Wed', 'The Benchwarmers', 'Must Love Dogs', 'Donnie Brasco', 'Resident Evil', 'Poltergeist', 'The Ladykillers', 'Max Payne', 'In Time', 'The Back-Up Plan', 'Something Borrowed', 'Black Knight', 'The Bad News Bears', 'Street Fighter', 'The Pianist', 'The Nativity Story', 'House of Wax', 'Closer', 'J. Edgar', 'Mirrors', 'Queen of the Damned', 'Predator 2', 'Untraceable', 'Blast from the Past', 'Flash Gordon', 'Jersey Girl', 'Alex Cross', 'Midnight in the Garden of Good and Evil', 'Heist', 'Nanny McPhee and the Big Bang', 'Hoffa', 'The X Files: I Want to Believe', 'Ella Enchanted', 'Concussion', 'Abduction', 'Valiant', 'Wonder Boys', 'Superhero Movie', 'Broken City', 'Cursed', 'Premium Rush', 'Hot Pursuit', 'The Four Feathers', 'Parker', 'Wimbledon', 'Furry Vengeance', 'Bait', 'Krull', 'Lions for Lambs', 'Flight of the Intruder', 'Walk Hard: The Dewey Cox Story', 'The Shipping News', 'American Outlaws', 'The Young Victoria', 'Whiteout', 'The Tree of Life', 'Knock Off', 'Sabotage', 'The Order', 'Punisher: War Zone', 'Zoom', 'The Walk', 'Warriors of Virtue', 'A Good Year', 'Radio Flyer', 'Bound by Honor', \"Smilla's Sense of Snow\", 'Femme Fatale', 'Lion of the Desert', 'The Horseman on the Roof', 'Ride with the Devil', 'Biutiful', 'Bandidas', 'Black Water Transit', 'The Maze Runner', 'Unfinished Business', 'The Age of Innocence', 'The Fountain', 'Chill Factor', 'Stolen', 'Ponyo', 'The Longest Ride', \"The Astronaut's Wife\", 'I Dreamed of Africa', 'Playing for Keeps', 'Mandela: Long Walk to Freedom', 'Reds', 'A Few Good Men', 'Exit Wounds', \"Big Momma's House\", 'Thunder and the House of Magic', 'The Darkest Hour', 'Step Up Revolution', 'Snakes on a Plane', 'The Watcher', 'The Punisher', 'Goal!: The Dream Begins', 'Safe', 'Pushing Tin', 'Return of the Jedi', 'Doomsday', 'The Reader', 'Wanderlust', 'Elf', 'Phenomenon', 'Snow Dogs', 'Scrooged', 'Nacho Libre', 'Bridesmaids', 'This Is the End', 'Stigmata', 'Men of Honor', 'Takers', 'The Big Wedding', 'Big Mommas: Like Father, Like Son', 'Source Code', 'Alive', 'The Number 23', 'The Young and Prodigious T.S. Spivet', '1941', 'Dreamer: Inspired By a True Story', 'A History of Violence', 'Transporter 2', 'The Quick and the Dead', 'Laws of Attraction', 'Bringing Out the Dead', 'Repo Men', 'Dragon Wars: D-War', 'Bogus', 'The Incredible Burt Wonderstone', \"Cats Don't Dance\", 'Cradle Will Rock', 'The Good German', 'George and the Dragon', 'Apocalypse Now', 'Going the Distance', \"Mr. Holland's Opus\", 'Criminal', 'Out of Africa', 'Flight', 'Moonraker', 'The Grand Budapest Hotel', 'Hearts in Atlantis', 'Arachnophobia', 'Frequency', 'Vacation', 'Get Shorty', 'Chicago', 'Big Daddy', 'American Pie 2', 'Toy Story', 'Speed', 'The Vow', 'Extraordinary Measures', 'Remember the Titans', 'The Hunt for Red October', 'The Butler', 'DodgeBall: A True Underdog Story', 'The Addams Family', 'Ace Ventura: When Nature Calls', 'The Princess Diaries', 'The First Wives Club', 'Se7en', 'District 9', 'The SpongeBob SquarePants Movie', 'Mystic River', 'Million Dollar Baby', 'Analyze This', 'The Notebook', '27 Dresses', 'Hannah Montana: The Movie', 'Rugrats in Paris: The Movie', 'The Prince of Tides', 'Legends of the Fall', 'Up in the Air', 'About Schmidt', 'Warm Bodies', 'Looper', 'Down to Earth', 'Babe', 'Hope Springs', 'Forgetting Sarah Marshall', 'Four Brothers', 'Baby Mama', 'Hope Floats', 'Bride Wars', 'Without a Paddle', '13 Going on 30', 'Midnight in Paris', 'The Nut Job', 'Blow', 'Message in a Bottle', 'Star Trek V: The Final Frontier', 'Like Mike', 'The Naked Gun 33⅓: The Final Insult', 'A View to a Kill', 'The Curse of the Were-Rabbit', 'P.S. I Love You', 'Racing Stripes', 'Atonement', 'Letters to Juliet', 'Black Rain', 'The Three Stooges', 'Corpse Bride', 'Glory Road', 'Sicario', 'Southpaw', 'Drag Me to Hell', 'The Age of Adaline', 'Secondhand Lions', 'Step Up 3D', 'Blue Crush', 'Stranger Than Fiction', '30 Days of Night', 'The Cabin in the Woods', 'Meet the Spartans', 'Midnight Run', 'The Running Man', 'Little Shop of Horrors', 'Hanna', 'Mortal Kombat: Annihilation', 'Larry Crowne', 'Carrie', 'Take the Lead', 'Gridiron Gang', \"What's the Worst That Could Happen?\", '9', 'Side Effects', 'The Prince & Me', 'Winnie the Pooh', 'Dumb and Dumberer: When Harry Met Lloyd', 'Bulworth', 'Get on Up', 'One True Thing', 'Virtuosity', 'My Super Ex-Girlfriend', 'Deliver Us from Evil', 'Sanctum', 'Little Black Book', 'The Five-Year Engagement', 'Mr. 3000', 'The Next Three Days', 'Ultraviolet', 'Assault on Precinct 13', 'The Replacement Killers', 'Fled', 'Eight Legged Freaks', 'Love & Other Drugs', '88 Minutes', 'North Country', 'The Whole Ten Yards', 'Splice', 'Howard the Duck', 'Pride and Glory', 'The Cave', 'Alex & Emma', 'Wicker Park', 'Fright Night', 'The New World', 'Wing Commander', 'In Dreams', 'Dragonball Evolution', 'The Last Stand', 'Godsend', 'Chasing Liberty', 'Hoodwinked Too! Hood VS. Evil', 'An Unfinished Life', 'The Imaginarium of Doctor Parnassus', \"Barney's Version\", 'Runner Runner', 'Antitrust', 'Glory', 'Once Upon a Time in America', 'Dead Man Down', 'The Merchant of Venice', 'The Good Thief', 'Supercross', 'Miss Potter', 'The Promise', 'DOA: Dead or Alive', 'The Assassination of Jesse James by the Coward Robert Ford', '1911', 'Little Nicholas', 'Wild Card', 'Machine Gun Preacher', 'Animals United', 'Goodbye Bafana', 'United Passions', 'Grace of Monaco', 'Savva. Heart of the Warrior', \"Ripley's Game\", 'Sausage Party', 'Pitch Perfect 2', 'Walk the Line', 'Keeping the Faith', 'The Borrowers', 'Frost/Nixon', 'Confessions of a Dangerous Mind', 'Serving Sara', 'The Boss', 'Cry Freedom', 'Mumford', 'Seed of Chucky', 'The Jacket', 'Aladdin', 'Straight Outta Compton', 'Indiana Jones and the Temple of Doom', 'The Rugrats Movie', 'Along Came a Spider', 'Florence Foster Jenkins', 'Once Upon a Time in Mexico', 'Die Hard', 'Role Models', 'The Big Short', 'Taking Woodstock', 'Miracle', 'Dawn of the Dead', 'The Wedding Planner', 'Space Pirate Captain Harlock', 'The Royal Tenenbaums', 'Identity', 'Last Vegas', 'For Your Eyes Only', 'Serendipity', 'Timecop', 'Zoolander', 'Safe Haven', 'Hocus Pocus', 'No Reservations', 'Kick-Ass', '30 Minutes or Less', 'Dracula 2000', 'Alexander and the Terrible, Horrible, No Good, Very Bad Day', 'Pride & Prejudice', 'Blade Runner', 'Rob Roy', '3 Days to Kill', 'We Own the Night', 'Lost Souls', 'Winged Migration', 'Just My Luck', 'Mystery, Alaska', 'The Spy Next Door', 'A Simple Wish', 'Ghosts of Mars', 'Our Brand Is Crisis', 'Pride and Prejudice and Zombies', 'Kundun', 'How to Lose Friends & Alienate People', 'Kick-Ass 2', 'Alatriste', 'Brick Mansions', 'Octopussy', 'Knocked Up', \"My Sister's Keeper\", 'Welcome Home Roscoe Jenkins', 'A Passage to India', 'Notes on a Scandal', 'Rendition', 'Star Trek VI: The Undiscovered Country', 'Divine Secrets of the Ya-Ya Sisterhood', 'Kiss the Girls', 'The Blues Brothers', 'The Sisterhood of the Traveling Pants 2', 'Joyful Noise', 'About a Boy', 'Lake Placid', 'Lucky Number Slevin', 'The Right Stuff', 'Anonymous', 'The NeverEnding Story', 'Dark City', 'The Duchess', 'Return to Oz', 'The Newton Boys', 'Case 39', 'Suspect Zero', 'Martian Child', 'Spy Kids: All the Time in the World', 'Money Monster', 'The 51st State', 'Flawless', 'Mindhunters', 'What Just Happened', 'The Statement', 'The Magic Flute', 'Paul Blart: Mall Cop', 'Freaky Friday', 'The 40 Year Old Virgin', 'Shakespeare in Love', 'A Walk Among the Tombstones', 'Kindergarten Cop', 'Pineapple Express', 'Ever After: A Cinderella Story', 'Open Range', 'Flatliners', 'A Bridge Too Far', 'Red Eye', 'Final Destination 2', 'O Brother, Where Art Thou?', 'Legion', 'Pain & Gain', 'In Good Company', 'Clockstoppers', 'Silverado', 'Brothers', 'Agent Cody Banks 2: Destination London', \"New Year's Eve\", 'Original Sin', 'The Raven', 'Welcome to Mooseport', 'Highlander: The Final Dimension', 'Blood and Wine', 'Snow White: A Tale of Terror', 'The Curse of the Jade Scorpion', 'Accidental Love', 'Flipper', 'Self/less', 'The Constant Gardener', 'The Passion of the Christ', 'Mrs. Doubtfire', 'Rain Man', 'Gran Torino', 'W.', 'Taken', 'The Best of Me', 'The Bodyguard', \"Schindler's List\", 'The Help', 'The Fifth Estate', 'Scooby-Doo 2: Monsters Unleashed', 'Forbidden Kingdom', 'Freddy vs. Jason', 'The Face of an Angel', 'Jimmy Neutron: Boy Genius', 'Cloverfield', 'Teenage Mutant Ninja Turtles II: The Secret of the Ooze', 'The Untouchables', 'No Country for Old Men', 'Ride Along', \"Bridget Jones's Diary\", 'Chocolat', 'Legally Blonde 2: Red, White & Blonde', 'Parental Guidance', 'No Strings Attached', 'Tombstone', 'Romeo Must Die', 'The Omen', 'Final Destination 3', 'The Lucky One', 'Bridge to Terabithia', 'Finding Neverland', 'A Madea Christmas', 'The Grey', 'Hide and Seek', 'Anchorman: The Legend of Ron Burgundy', 'GoodFellas', 'Agent Cody Banks', 'Nanny McPhee', 'Scarface', 'Nothing to Lose', 'The Last Emperor', 'Contraband', 'Money Talks', 'There Will Be Blood', 'The Wild Thornberrys Movie', 'Rugrats Go Wild', 'Undercover Brother', 'The Sisterhood of the Traveling Pants', 'Kiss of the Dragon', 'The House Bunny', 'Beauty Shop', 'Million Dollar Arm', 'The Giver', 'What a Girl Wants', 'Jeepers Creepers 2', 'Good Luck Chuck', 'Cradle 2 the Grave', 'The Hours', \"She's the Man\", \"Mr. Bean's Holiday\", 'Anacondas: The Hunt for the Blood Orchid', 'Blood Ties', 'August Rush', 'Elizabeth', 'Bride of Chucky', 'Tora! Tora! Tora!', 'Spice World', 'The Sitter', 'Dance Flick', 'The Shawshank Redemption', 'Crocodile Dundee in Los Angeles', 'Kingpin', 'The Gambler', 'August: Osage County', 'Ice Princess', 'A Lot Like Love', 'Eddie the Eagle', 'He Got Game', 'Don Juan DeMarco', 'Dear John', 'The Losers', \"Don't Be Afraid of the Dark\", 'War', 'Punch-Drunk Love', 'EuroTrip', 'Half Past Dead', 'Unaccompanied Minors', 'Bright Lights, Big City', 'The Adventures of Pinocchio', 'The Greatest Game Ever Played', 'The Box', 'The Ruins', 'The Next Best Thing', 'My Soul to Take', 'The Girl Next Door', 'Maximum Risk', 'Stealing Harvard', 'Legend', 'Hot Rod', 'Shark Night', \"Angela's Ashes\", 'Draft Day', 'Lifeforce', 'The Conspirator', 'Lords of Dogtown', 'The 33', 'Big Trouble in Little China', 'Fly Me to the Moon', 'Warrior', 'Michael Collins', 'Gettysburg', 'Stop-Loss', 'Abandon', 'Brokedown Palace', 'The Possession', 'Mrs. Winterbourne', 'Straw Dogs', 'The Hoax', 'Stone Cold', 'The Road', 'Sheena', 'Underclassman', \"Say It Isn't So\", \"The World's Fastest Indian\", 'Tank Girl', \"King's Ransom\", 'Blindness', 'BloodRayne', 'Carnage', 'Where the Truth Lies', 'Cirque du Soleil: Worlds Away', 'Without Limits', 'Me and Orson Welles', 'The Best Offer', 'The Bad Lieutenant: Port of Call - New Orleans', \"A Turtle's Tale: Sammy's Adventures\", 'Little White Lies', 'Love Ranch', \"The True Story of Puss 'n Boots\", 'Space Dogs', 'The Counselor', 'Ironclad', 'Waterloo', 'Kung Fu Jungle', 'Red Sky', 'Dangerous Liaisons', 'On the Road', 'Star Trek IV: The Voyage Home', 'Rocky Balboa', 'Scream 2', 'Jane Got a Gun', 'Think Like a Man Too', 'The Whole Nine Yards', 'Footloose', 'Old School', 'The Fisher King', 'I Still Know What You Did Last Summer', 'Return to Me', 'Zack and Miri Make a Porno', 'Nurse Betty', 'The Men Who Stare at Goats', 'Double Take', 'Girl, Interrupted', 'Win a Date with Tad Hamilton!', 'Muppets from Space', 'The Wiz', 'Ready to Rumble', 'Play It to the Bone', \"I Don't Know How She Does It\", 'Piranha 3D', 'Beyond the Sea', 'Meet the Deedles', 'The Thief and the Cobbler', 'The Bridge of San Luis Rey', 'Faster', \"Howl's Moving Castle\", 'Zombieland', 'The Waterboy', 'The Empire Strikes Back', 'Bad Boys', 'The Naked Gun 2½: The Smell of Fear', 'Final Destination', 'The Ides of March', 'Pitch Black', 'Someone Like You...', 'Her', 'Joy Ride', 'The Adventurer: The Curse of the Midas Box', 'Anywhere But Here', 'The Crew', 'Haywire', 'Jaws: The Revenge', \"Marvin's Room\", 'The Longshots', 'The End of the Affair', 'Harley Davidson and the Marlboro Man', 'In the Valley of Elah', 'Coco Before Chanel', 'Forsaken', 'Cheri', 'Vanity Fair', 'Bodyguards and Assassins', '1408', 'Spaceballs', 'The Water Diviner', 'Ghost', \"There's Something About Mary\", 'The Santa Clause', 'The Rookie', 'The Game Plan', 'The Bridges of Madison County', 'The Animal', 'Gandhi', 'The Hundred-Foot Journey', 'The Net', 'I Am Sam', 'Son of God', 'Underworld', 'Derailed', 'The Informant!', 'Shadowlands', 'Deuce Bigalow: European Gigolo', 'Delivery Man', 'Our Kind of Traitor', 'Saving Silverman', 'Diary of a Wimpy Kid: Dog Days', 'Summer of Sam', 'Jay and Silent Bob Strike Back', 'The Glass House', 'Hail, Caesar!', 'Josie and the Pussycats', 'Homefront', 'The Little Vampire', 'I Heart Huckabees', 'RoboCop 3', 'Megiddo: The Omega Code 2', 'Darling Lili', 'Dudley Do-Right', 'The Transporter Refueled', 'The Libertine', 'Black Book', 'Joyeux Noël', 'Hit & Run', 'Mad Money', 'Before I Go to Sleep', 'Sorcerer', 'Stone', 'Moliere', 'Out of the Furnace', 'Michael Clayton', 'My Fellow Americans', 'Arlington Road', 'Underdogs', 'To Rome with Love', 'Firefox', 'South Park: Bigger, Longer & Uncut', 'Death at a Funeral', 'Teenage Mutant Ninja Turtles III', 'Hardball', 'Silver Linings Playbook', 'Freedom Writers', 'For Colored Girls', 'The Transporter', 'Never Back Down', 'The Rage: Carrie 2', 'Away We Go', 'Swing Vote', 'Moonlight Mile', 'Tinker Tailor Soldier Spy', 'Molly', 'The Beaver', 'The Best Little Whorehouse in Texas', 'eXistenZ', 'Raiders of the Lost Ark', 'Home Alone 2: Lost in New York', 'Close Encounters of the Third Kind', 'Pulse', 'Beverly Hills Cop II', 'Bringing Down the House', 'The Silence of the Lambs', \"Wayne's World\", 'Jackass 3D', 'Jaws 2', 'Beverly Hills Chihuahua', 'The Conjuring', 'Are We There Yet?', 'Tammy', 'School of Rock', 'Mortal Kombat', 'White Chicks', 'The Descendants', 'Holes', 'The Last Song', '12 Years a Slave', 'Drumline', 'Why Did I Get Married Too?', 'Edward Scissorhands', 'Me Before You', \"Madea's Witness Protection\", 'The French Connection', 'Bad Moms', 'Date Movie', 'Return to Never Land', 'Selma', 'The Jungle Book 2', 'Boogeyman', 'Premonition', 'The Tigger Movie', 'Orphan', 'Max', 'Epic Movie', 'Spotlight', 'Lakeview Terrace', 'The Grudge 2', 'How Stella Got Her Groove Back', \"Bill & Ted's Bogus Journey\", 'Man of the Year', 'The Black Hole', 'The American', 'Selena', 'Vampires Suck', 'Babel', 'This Is Where I Leave You', 'Doubt', 'Team America: World Police', 'Texas Chainsaw 3D', 'Copycat', 'Scary Movie 5', 'Paint Your Wagon', 'Milk', 'Risen', 'Ghost Ship', 'A Very Harold & Kumar Christmas', 'Wild Things', 'The Stepfather', 'The Debt', 'High Fidelity', 'One Missed Call', 'Eye for an Eye', 'The Bank Job', 'Eternal Sunshine of the Spotless Mind', 'You Again', 'Street Kings', \"The World's End\", 'Nancy Drew', 'Daybreakers', \"She's Out of My League\", 'Monte Carlo', 'Stay Alive', 'Quigley Down Under', 'Alpha and Omega', 'The Covenant', 'Stick It', 'Shorts', 'To Die For', 'Nerve', 'Appaloosa', 'Vampires', 'Psycho', \"My Best Friend's Girl\", 'Endless Love', 'Georgia Rule', 'Under the Rainbow', 'Ladyhawke', 'Simon Birch', 'Reign Over Me', 'Into the Wild', 'School for Scoundrels', 'Silent Hill: Revelation 3D', 'From Dusk Till Dawn', \"Pooh's Heffalump Movie\", 'Home for the Holidays', 'Kung Fu Hustle', 'The Country Bears', 'The Kite Runner', '21 Grams', 'Paparazzi', 'A Guy Thing', 'Loser', 'Capitalism: A Love Story', 'The Greatest Story Ever Told', 'Secret in Their Eyes', 'Disaster Movie', 'Armored', 'The Man Who Knew Too Little', \"What's Your Number?\", 'Lockout', 'Envy', 'Crank: High Voltage', 'Bullets Over Broadway', 'One Night with the King', 'The Quiet American', 'The Weather Man', 'Undisputed', 'Ghost Town', '12 Rounds', 'Let Me In', '3 Ninjas Kick Back', 'Be Kind Rewind', 'Mrs Henderson Presents', 'Triple 9', 'Deconstructing Harry', 'Three to Tango', 'Burnt', \"We're No Angels\", 'Everyone Says I Love You', 'Death Sentence', \"Everybody's Fine\", 'Superbabies: Baby Geniuses 2', 'The Man', 'Code Name: The Cleaner', 'Connie and Carla', 'Sweet Charity', 'Inherent Vice', 'Doogal', 'Battle of the Year', 'An American Carol', 'Machete Kills', 'Willard', 'Strange Wilderness', 'Topsy-Turvy', 'Little Boy', 'A Dangerous Method', 'A Scanner Darkly', 'Chasing Mavericks', 'Alone in the Dark', 'Bandslam', 'Birth', 'A Most Violent Year', 'Passchendaele', 'Flash of Genius', \"I'm Not There.\", 'The Cold Light of Day', 'The Brothers Bloom', 'Synecdoche, New York', 'Princess Mononoke', 'Bon voyage', \"Can't Stop the Music\", 'The Proposition', 'My All American', 'Marci X', 'Equilibrium', 'The Children of Huang Shi', 'The Yards', 'The Oogieloves in the Big Balloon Adventure', 'By the Sea', 'Steamboy', 'The Game of Their Lives', 'All Good Things', 'Rapa Nui', 'CJ7', 'The Visitors II: The Corridors of Time', 'Dylan Dog: Dead of Night', 'People I Know', 'The Tempest', 'Regression', 'Three Kingdoms: Resurrection of the Dragon', 'Butterfly on a Wheel', 'Zambezia', 'Ramanujan', 'Dwegons', 'Hands of Stone', 'Survivor', 'The Frozen Ground', 'The Painted Veil', 'The Baader Meinhof Complex', 'Dances with Wolves', 'Bad Teacher', 'Sea of Love', 'A Cinderella Story', 'Scream', 'Thir13en Ghosts', 'The Shining', 'Back to the Future', 'House on Haunted Hill', 'I Can Do Bad All By Myself', 'Fight Valley', 'The Switch', 'Just Married', \"The Devil's Double\", 'Thomas and the Magic Railroad', 'The Crazies', 'Spirited Away', 'Firestorm', 'The Bounty', 'The Book Thief', 'Sex Drive', 'Leap Year', 'The Fall of the Roman Empire', 'Take Me Home Tonight', \"Won't Back Down\", 'The Nutcracker', 'Kansas City', 'Indignation', 'The Amityville Horror', 'Adaptation.', 'Land of the Dead', 'Out of Inferno', 'Fear and Loathing in Las Vegas', 'The Invention of Lying', 'Neighbors', 'The Mask', 'Big', 'Borat: Cultural Learnings of America for Make Benefit Glorious Nation of Kazakhstan', 'Legally Blonde', 'Star Trek III: The Search for Spock', 'The Exorcism of Emily Rose', 'Deuce Bigalow: Male Gigolo', 'Left Behind', 'The Family Stone', 'Barbershop 2:  Back in Business', 'Bad Santa', 'Austin Powers: International Man of Mystery', 'My Big Fat Greek Wedding 2', 'Diary of a Wimpy Kid: Rodrick Rules', 'Predator', 'Amadeus', 'Prom Night', 'Mean Girls', 'Under the Tuscan Sun', 'Gosford Park', 'Peggy Sue Got Married', 'Birdman', 'Blue Jasmine', 'United 93', 'Honey', 'Spy Hard', 'The Fog', 'Soul Surfer', 'Catch-22', 'Observe and Report', 'Conan the Destroyer', 'Raging Bull', 'Love Happens', 'Young Sherlock Holmes', 'Fame', '127 Hours', 'Small Time Crooks', 'Center Stage', 'Love the Coopers', 'Catch That Kid', 'Life as a House', 'Steve Jobs', 'I Love You, Beth Cooper', 'Youth in Revolt', 'The Legend of the Lone Ranger', 'The Tailor of Panama', 'Blow Out', 'Getaway', 'The Ice Storm', 'And So It Goes', 'Troop Beverly Hills', 'Being Julia', 'Nine 1/2 Weeks', 'Dragonslayer', 'The Last Station', 'Ed Wood', 'Labor Day', 'Mongol: The Rise of Genghis Khan', 'RockNRolla', 'Megaforce', 'Hamlet', \"Mao's Last Dancer\", 'Midnight Special', 'Anything Else', 'The Railway Man', 'The White Ribbon', 'Restoration', 'The Wraith', 'Salton Sea', 'Metallica: Through the Never', 'The Informers', 'Carlos', 'I Come with the Rain', \"One Man's Hero\", 'Day of the Dead', 'I Am Wrath', 'Renaissance', 'Red Sonja', 'Red Lights', 'Superbad', 'Madea Goes to Jail', 'Wolves', 'Step Up 2: The Streets', 'Hoodwinked!', 'Hotel Rwanda', 'Hitman', 'Black Nativity', 'The Prince', 'City of Ghosts', 'The Others', 'Aliens', 'My Fair Lady', 'I Know What You Did Last Summer', \"Let's Be Cops\", 'Sideways', 'Beerfest', 'Halloween', 'Good Boy!', 'The Best Man Holiday', \"Smokin' Aces\", 'Saw: The Final Chapter', '40 Days and 40 Nights', 'A Night at the Roxbury', 'Beastly', 'The Hills Have Eyes', 'Dickie Roberts: Former Child Star', 'McFarland, USA', 'Lottery Ticket', 'ATL', 'Pitch Perfect', 'Summer Catch', 'A Simple Plan', 'They', 'Larry the Cable Guy: Health Inspector', 'The Adventures of Elmo in Grouchland', \"Brooklyn's Finest\", '55 Days at Peking', 'Evil Dead', 'My Life in Ruins', 'American Dreamz', 'Superman IV: The Quest for Peace', 'How She Move', 'Running Scared', 'Bobby Jones: Stroke of Genius', 'Shanghai Surprise', 'The Illusionist', 'Roar', 'Veronica Guerin', 'Escobar: Paradise Lost', 'Southland Tales', 'Dragon Hunters', 'Damnation Alley', 'The Apparition', 'My Girl', 'Fur: An Imaginary Portrait of Diane Arbus', 'Wall Street', 'Sense and Sensibility', 'Becoming Jane', 'Sydney White', 'House of Sand and Fog', 'Dead Poets Society', 'Dumb and Dumber', 'When Harry Met Sally...', 'The Verdict', 'Road Trip', 'Varsity Blues', 'The Artist', 'The Unborn', 'Moonrise Kingdom', 'The Texas Chainsaw Massacre: The Beginning', 'The Young Messiah', 'The Master of Disguise', \"Pan's Labyrinth\", 'See Spot Run', 'Baby Boy', 'The Roommate', 'Joe Dirt', 'Double Impact', 'Hot Fuzz', 'The Women', 'Vicky Cristina Barcelona', 'Arn: The Knight Templar', 'Boys and Girls', 'White Oleander', \"Jennifer's Body\", 'Drowning Mona', 'Radio Days', 'Remember Me', 'How to Deal', 'My Stepmother is an Alien', 'Philadelphia', 'The Thirteenth Floor', 'The Cookout', 'Meteor', 'Duets', 'Hollywood Ending', 'Detroit Rock City', 'Highlander', 'Things We Lost in the Fire', 'Steel', 'The Immigrant', 'The White Countess', 'Trance', 'Soul Plane', 'Welcome to the Sticks', 'Good', 'Enter the Void', 'Vamps', \"Hachi: A Dog's Tale\", 'Zulu', 'The Homesman', 'Juwanna Mann', 'Ararat', 'Madison', 'Slow Burn', 'Wasabi', 'Slither', 'Beverly Hills Cop', 'Home Alone', 'Three Men and a Baby', 'Tootsie', 'Top Gun', 'Crouching Tiger, Hidden Dragon', 'American Beauty', \"The King's Speech\", 'Twins', 'The Yellow Handkerchief', 'The Color Purple', 'Tidal Wave', 'The Imitation Game', 'Private Benjamin', \"Coal Miner's Daughter\", 'Diary of a Wimpy Kid', 'Mama', \"National Lampoon's Vacation\", 'Bad Grandpa', 'The Queen', 'Beetlejuice', 'Why Did I Get Married?', 'Little Women', 'The Woman in Black', 'When a Stranger Calls', 'Big Fat Liar', 'The Deer Hunter', 'Wag the Dog', 'The Lizzie McGuire Movie', 'Snitch', 'Krampus', 'The Faculty', \"What's Love Got to Do with It\", 'Cop Land', 'Not Another Teen Movie', 'End of Watch', 'The Skulls', 'The Theory of Everything', \"Malibu's Most Wanted\", 'Where the Heart Is', 'Lawrence of Arabia', 'Halloween II', 'Wild', 'The Last House on the Left', 'The Wedding Date', 'Halloween: Resurrection', 'The Princess Bride', 'The Great Debaters', 'Drive', 'Confessions of a Teenage Drama Queen', 'The Object of My Affection', '28 Weeks Later', 'When the Game Stands Tall', 'Because of Winn-Dixie', 'Love & Basketball', 'Grosse Pointe Blank', 'All About Steve', 'Book of Shadows: Blair Witch 2', 'The Craft', 'Match Point', 'Ramona and Beezus', 'The Remains of the Day', 'Boogie Nights', 'Nowhere to Run', 'Flicka', 'The Hills Have Eyes 2', 'Urban Legends: Final Cut', 'Tuck Everlasting', 'The Marine', 'Keanu', 'Country Strong', 'Disturbing Behavior', 'The Place Beyond the Pines', 'The November Man', 'Eye of the Beholder', 'The Hurt Locker', 'Firestarter', 'Killing Them Softly', 'A Most Wanted Man', 'Freddy Got Fingered', \"VeggieTales: The Pirates Who Don't Do Anything\", 'U2 3D', 'Highlander: Endgame', 'Idlewild', 'One Day', 'Whip It', 'Knockaround Guys', 'Confidence', 'The Muse', 'De-Lovely', 'New York Stories', \"Barney's Great Adventure\", 'The Man with the Iron Fists', 'Home Fries', 'Here On Earth', 'Brazil', 'Raise Your Voice', 'The Big Lebowski', 'Black Snake Moan', 'Dark Blue', 'A Mighty Heart', 'Whatever It Takes', 'Boat Trip', 'The Importance of Being Earnest', 'The Love Letter', 'Hoot', 'In Bruges', 'Peeples', 'The Rocker', 'Post Grad', 'Promised Land', 'Whatever Works', 'The In Crowd', 'The Three Burials of Melquiades Estrada', 'Jakob the Liar', 'Kiss Kiss Bang Bang', 'Idle Hands', 'Mulholland Drive', 'Blood and Chocolate', 'You Will Meet a Tall Dark Stranger', 'Never Let Me Go', 'The Company', 'Transsiberian', 'The Clan of the Cave Bear', 'Crazy in Alabama', 'Funny Games', 'Listening', \"Felicia's Journey\", 'Metropolis', 'District B13', \"Things to Do in Denver When You're Dead\", 'The Assassin', 'Buffalo Soldiers', 'The Return', 'Ong Bak 2', 'Centurion', 'Silent Trigger', 'The Midnight Meat Train', 'Winnie Mandela', 'The Son of No One', \"All The Queen's Men\", 'The Good Night', 'Bathory: Countess of Blood', 'Khumba', 'Automata', 'Dungeons & Dragons: Wrath of the Dragon God', 'Chiamatemi Francesco - Il Papa della gente', 'Shinjuku Incident', 'Pandaemonium', 'Groundhog Day', 'Magic Mike XXL', 'Romeo + Juliet', \"Sarah's Key\", 'Freedom', 'Unforgiven', 'Manderlay', 'Slumdog Millionaire', 'Fatal Attraction', 'Pretty Woman', 'Crocodile Dundee II', 'Broken Horses', 'Born on the Fourth of July', 'Cool Runnings', 'My Bloody Valentine', 'Stomp the Yard', 'The Spy Who Loved Me', 'Urban Legend', 'Good Deeds', 'White Fang', 'Superstar', 'The Iron Lady', 'Jonah: A VeggieTales Movie', 'Poetic Justice', 'All About the Benjamins', 'Vampire in Brooklyn', 'Exorcist II: The Heretic', 'An American Haunting', \"My Boss's Daughter\", 'A Perfect Getaway', 'Our Family Wedding', 'Dead Man on Campus', 'Tea with Mussolini', 'Thinner', 'New York, New York', 'Crooklyn', 'I Think I Love My Wife', 'Jason X', 'Bobby', 'Head Over Heels', 'Fun Size', 'The Diving Bell and the Butterfly', 'Little Children', 'Gossip', 'A Walk on the Moon', 'Catch a Fire', 'Soul Survivors', 'Jefferson in Paris', 'Easy Virtue', 'Caravans', 'Mr. Turner', 'Wild Grass', 'Amen.', 'Reign of Assassins', 'The Lucky Ones', 'Margaret', 'Stan Helsing', 'Flipped', 'Brokeback Mountain', 'Clueless', 'Far from Heaven', 'Hot Tub Time Machine 2', 'Quills', 'Seven Psychopaths', \"The Caveman's Valentine\", 'Downfall', 'The Sea Inside', 'Under the Skin', 'Good Morning, Vietnam', 'The Last Godfather', 'Justin Bieber: Never Say Never', 'Black Swan', 'The Godfather: Part II', 'Save the Last Dance', 'A Nightmare on Elm Street 4: The Dream Master', 'Miracles from Heaven', 'Dude, Where’s My Car?', 'Young Guns', 'St. Vincent', 'About Last Night', '10 Things I Hate About You', 'The New Guy', \"National Lampoon's Loaded Weapon 1\", 'The Shallows', 'The Butterfly Effect', 'Snow Day', 'This Christmas', 'Baby Geniuses', 'The Big Hit', 'Harriet the Spy', \"Child's Play 2\", 'No Good Deed', 'The Mist', 'Ex Machina', 'Being John Malkovich', 'Two Can Play That Game', 'Earth to Echo', 'Crazy/Beautiful', 'Letters from Iwo Jima', 'The Astronaut Farmer', 'Woo', 'Room', 'Dirty Work', 'Serial Mom', 'Dick', 'Light It Up', '54', 'Bubble Boy', 'Birthday Girl', '21 & Over', \"Paris, je t'aime\", 'Resurrecting the Champ', 'Admission', 'The Widow of Saint-Pierre', 'Chloe', 'Faithful', 'Find Me Guilty', 'The Perks of Being a Wallflower', 'Excessive Force', 'Infamous', 'The Claim', 'The Vatican Tapes', 'Attack the Block', 'In the Land of Blood and Honey', 'The Call', 'Operation Chromite', 'The Crocodile Hunter: Collision Course', 'I Love You Phillip Morris', 'Quest for Fire', 'Antwone Fisher', \"The Emperor's Club\", 'True Romance', 'Womb', 'Glengarry Glen Ross', 'The Killer Inside Me', 'Cat People', 'Sorority Row', 'The Prisoner of Zenda', 'Lars and the Real Girl', 'The Boy in the Striped Pyjamas', 'Dancer in the Dark', 'Oscar and Lucinda', 'The Funeral', 'Solitary Man', 'Machete', 'Casino Jack', 'The Land Before Time', 'Tae Guk Gi: The Brotherhood of War', 'The Perfect Game', 'The Exorcist', 'Jaws', 'American Pie', 'Ernest & Celestine', 'The Golden Child', 'Think Like a Man', 'Barbershop', 'Star Trek II: The Wrath of Khan', 'Ace Ventura: Pet Detective', 'WarGames', 'Witness', 'Act of Valor', 'Step Up', 'Beavis and Butt-Head Do America', 'Jackie Brown', 'Harold & Kumar Escape from Guantanamo Bay', 'Chronicle', 'Yentl', 'Time Bandits', 'Crossroads', 'Project X', 'Patton', 'One Hour Photo', 'Quarantine', 'The Eye', 'Johnson Family Vacation', 'How High', 'The Muppet Christmas Carol', 'Frida', 'Katy Perry: Part of Me', 'The Fault in Our Stars', 'Rounders', 'Top Five', 'Prophecy', 'Stir of Echoes', 'Philomena', 'The Upside of Anger', 'The Boys from Brazil', 'Aquamarine', 'Paper Towns', \"My Baby's Daddy\", 'Nebraska', 'Tales from the Crypt: Demon Knight', \"Max Keeble's Big Move\", 'Young Adult', 'Crank', \"Def Jam's How to Be a Player\", 'Living Out Loud', 'Just Wright', 'Rachel Getting Married', 'The Postman Always Rings Twice', 'Girl with a Pearl Earring', 'Das Boot', 'Sorority Boys', 'About Time', 'House of Flying Daggers', 'Arbitrage', 'Project Almanac', 'Cadillac Records', 'Screwed', 'Fortress', 'For Your Consideration', 'Celebrity', 'Running with Scissors', 'From Justin to Kelly', 'Girl 6', 'In the Cut', 'Two Lovers', 'Last Orders', 'The Pursuit of D.B. Cooper', 'Ravenous', 'Charlie Bartlett', 'The Great Beauty', 'The Dangerous Lives of Altar Boys', 'Stoker', '2046', 'Married Life', 'Duma', 'Ondine', 'Brother', 'Welcome to Collinwood', 'Critical Care', 'The Life Before Her Eyes', 'Darling Companion', 'Trade', 'Fateless', 'Breakfast of Champions', 'A Woman, a Gun and a Noodle Shop', 'Cypher', 'City of Life and Death', 'Legend of a Rabbit', 'Space Battleship Yamato', '5 Days of War', 'Triangle', '10 Days in a Madhouse', 'Heaven is for Real', 'Snatch', \"Dancin' It's On\", 'Pet Sematary', 'Madadayo', 'The Cry of the Owl', 'A Tale of Three Cities', 'Gremlins', 'Star Wars', 'Dirty Grandpa', 'Doctor Zhivago', 'Trash', 'High School Musical 3: Senior Year', 'The Fighter', 'Jackass Number Two', 'My Cousin Vinny', 'If I Stay', 'Drive Hard', 'Major League', \"St. Trinian's\", 'Phone Booth', 'A Walk to Remember', 'Dead Man Walking', 'Cruel Intentions', 'Saw VI', 'History of the World: Part I', 'The Secret Life of Bees', 'Corky Romano', 'Raising Cain', 'F.I.S.T.', 'Invaders from Mars', 'Brooklyn', 'Barry Lyndon', 'Out Cold', 'The Ladies Man', 'Quartet', 'Tomcats', 'Frailty', 'Woman in Gold', 'Kinsey', 'Army of Darkness', 'Slackers', \"What's Eating Gilbert Grape\", 'The Visual Bible: The Gospel of John', 'Vera Drake', 'The Guru', 'The Perez Family', 'Inside Llewyn Davis', 'O', 'Return to the Blue Lagoon', 'The Molly Maguires', 'Romance & Cigarettes', 'Copying Beethoven', 'Brighton Rock', 'Saw V', 'Machine Gun McCain', 'LOL', 'Jindabyne', 'Kabhi Alvida Naa Kehna', 'An Ideal Husband', 'The Last Days on Mars', 'Darkness', '2001: A Space Odyssey', 'E.T. the Extra-Terrestrial', 'In the Land of Women', 'The Blue Butterfly', 'There Goes My Baby', 'Housefull', 'September Dawn', 'For Greater Glory - The True Story of Cristiada', 'The Bélier Family', 'Good Will Hunting', 'Misconduct', 'Saw III', 'Stripes', 'Bring It On', 'The Purge: Election Year', \"She's All That\", 'Saw IV', 'White Noise', \"Madea's Family Reunion\", 'The Color of Money', 'The Longest Day', 'The Mighty Ducks', 'The Grudge', 'Happy Gilmore', 'Jeepers Creepers', \"Bill & Ted's Excellent Adventure\", 'Oliver!', 'The Best Exotic Marigold Hotel', \"Recess: School's Out\", 'Mad Max Beyond Thunderdome', 'Commando', 'The Boy', 'Devil', 'Friday After Next', 'Insidious: Chapter 3', 'The Last Dragon', 'The Lawnmower Man', \"Nick and Norah's Infinite Playlist\", 'Dogma', 'The Banger Sisters', 'Twilight Zone: The Movie', 'Road House', 'A Low Down Dirty Shame', 'Swimfan', 'Employee of the Month', \"Can't Hardly Wait\", 'The Outsiders', \"Pete's Dragon\", 'The Dead Zone', 'Sinister 2', 'Sparkle', 'Valentine', 'The Fourth Kind', 'A Prairie Home Companion', 'Sugar Hill', 'Invasion U.S.A.', 'Roll Bounce', 'Rushmore', 'Skyline', 'The Second Best Exotic Marigold Hotel', 'Kit Kittredge: An American Girl', 'The Perfect Man', \"Mo' Better Blues\", 'Kung Pow: Enter the Fist', 'Tremors', 'Wrong Turn', 'The Long Riders', 'The Corruptor', 'Mud', 'Reno 911!: Miami', 'One Direction: This Is Us', 'The Goods: Live Hard, Sell Hard', 'Hey Arnold! The Movie', 'My Week with Marilyn', 'The Matador', 'Love Jones', 'The Gift', 'End of the Spear', 'Get Over It', 'Office Space', 'Drop Dead Gorgeous', 'Big Eyes', 'Very Bad Things', 'Sleepover', 'Body Double', 'MacGruber', 'Dirty Pretty Things', 'Movie 43', 'Over Her Dead Body', 'Seeking a Friend for the End of the World', 'Cedar Rapids', 'American History X', 'The Collection', \"Teacher's Pet\", 'The Red Violin', 'The Straight Story', 'Deuces Wild', 'Bad Words', 'Run, Fatboy, Run', 'Heartbeeps', 'Black or White', 'On the Line', 'Rescue Dawn', 'Danny Collins', 'Jeff, Who Lives at Home', 'I Am Love', 'Atlas Shrugged Part II', 'Romeo Is Bleeding', 'The Limey', 'Crash', 'The House of Mirth', 'Malone', 'Peaceful Warrior', 'Bucky Larson: Born to Be a Star', 'Bamboozled', 'The Forest', 'Sphinx', \"While We're Young\", 'A Better Life', 'Spider', 'Gun Shy', 'Nicholas Nickleby', 'The Iceman', 'Krrish', 'Cecil B. Demented', 'Killer Joe', 'The Joneses', 'Owning Mahowny', 'The Brothers Solomon', 'My Blueberry Nights', 'Illuminata', 'Swept Away', 'War, Inc.', 'Shaolin Soccer', 'The Brown Bunny', 'The Swindle', 'Rosewater', 'The Chambermaid on the Titanic', 'Coriolanus', 'Imaginary Heroes', 'High Heels and Low Lifes', \"World's Greatest Dad\", 'Severance', 'Edmond', 'Welcome to the Rileys', 'Police Academy: Mission to Moscow', 'Blood Done Sign My Name', 'Cinco de Mayo: La Batalla', 'Elsa & Fred', 'An Alan Smithee Film: Burn, Hollywood, Burn', 'The Open Road', 'The Good Guy', 'Motherhood', 'Free Style', 'Strangerland', 'Janky Promoters', 'Blonde Ambition', 'The Oxford Murders', 'The Reef', 'Eulogy', 'White Noise 2: The Light', 'Beat the World', 'Fifty Dead Men Walking', 'Jungle Shuffle', 'Adam Resurrected', 'Of Horses and Men', \"It's a Wonderful Afterlife\", \"The Devil's Tomb\", 'Partition', 'Good Intentions', 'The Good, The Bad, The Weird', 'Nurse 3-D', 'Gunless', 'Adventureland', 'The Lost City', 'Next Friday', 'American Heist', 'You Only Live Twice', 'Plastic', 'Amour', 'Poltergeist III', 'Re-Kill', \"It's a Mad, Mad, Mad, Mad World\", 'Volver', 'Heavy Metal', 'Gentlemen Broncos', 'Richard III', 'Into the Grizzly Maze', 'Kites', 'Melancholia', 'Red Dog', 'Jab Tak Hai Jaan', 'Alien', 'The Texas Chain Saw Massacre', 'The Runaways', 'Fiddler on the Roof', 'Thunderball', 'Detention', 'Loose Cannons', 'Set It Off', 'The Best Man', \"Child's Play\", 'Sicko', 'The Purge: Anarchy', 'Down to You', 'Harold & Kumar Go to White Castle', 'The Contender', 'Boiler Room', 'Trading Places', 'Black Christmas', \"Breakin' All the Rules\", 'Henry V', 'The Savages', 'Chasing Papi', 'The Way of the Gun', 'Igby Goes Down', 'PCU', 'The Ultimate Gift', 'The Ice Pirates', 'Gracie', 'Trust the Man', 'Hamlet 2', 'Velvet Goldmine', 'The Wailing', 'Glee: The Concert Movie', 'The Legend of Suriyothai', 'Two Evil Eyes', 'Barbecue', 'All or Nothing', 'Princess Kaiulani', 'Opal Dream', 'Flame & Citron', 'Undiscovered', 'Red Riding: In the Year of Our Lord 1974', 'The Girl on the Train', 'Veronika Decides to Die', 'Crocodile Dundee', 'Ultramarines: A Warhammer 40,000 Movie', 'The I Inside', 'Beneath Hill 60', 'Polisse', 'Awake', 'Star Wars: Clone Wars: Volume 1', 'Skin Trade', 'The Lost Boys', 'Crazy Heart', 'The Rose', 'Baggage Claim', 'Barbarella', 'Shipwrecked', 'Election', 'The Namesake', 'The DUFF', 'Glitter', 'The Haunting in Connecticut 2: Ghosts of Georgia', 'Silmido', 'Bright Star', 'My Name Is Khan', 'All Is Lost', 'Limbo', 'Namastey London', 'The Wind That Shakes the Barley', 'Yeh Jawaani Hai Deewani', 'Quo Vadis', 'Repo! The Genetic Opera', 'Valley of the Wolves: Iraq', 'Pulp Fiction', 'The Muppet Movie', 'Nightcrawler', 'Club Dread', 'The Sound of Music', 'Splash', 'Little Miss Sunshine', 'Stand by Me', '28 Days Later', 'You Got Served', 'Escape from Alcatraz', 'Brown Sugar', 'A Thin Line Between Love and Hate', '50/50', 'Shutter', 'That Awkward Moment', 'Modern Problems', 'Kicks', 'Much Ado About Nothing', \"On Her Majesty's Secret Service\", 'New Nightmare', 'Drive Me Crazy', 'Akeelah and the Bee', 'Half Baked', 'New in Town', 'American Psycho', 'The Good Girl', 'Bon Cop Bad Cop', 'The Boondock Saints II: All Saints Day', 'The City of Your Final Destination', 'Enough Said', 'Easy A', 'The Inkwell', 'Shadow of the Vampire', 'Prom', 'The Pallbearer', 'Held Up', 'Woman on Top', 'Howards End', 'Anomalisa', 'Another Year', '8 Women', 'Showdown in Little Tokyo', 'Clay Pigeons', \"It's Kind of a Funny Story\", 'Made in Dagenham', 'When Did You Last See Your Father?', 'Prefontaine', 'The Wicked Lady', 'The Secret of Kells', 'Begin Again', 'Down in the Valley', 'Brooklyn Rules', 'Restless', 'The Singing Detective', 'The Land Girls', 'Fido', 'The Wendell Baker Story', 'Wild Target', 'Pathology', 'Wuthering Heights', '10th & Wolf', 'Dear Wendy', 'Aloft', 'Akira', 'The Death and Life of Bobby Z', 'The Rocket: The Legend of Rocket Richard', 'Swelter', 'My Lucky Star', 'Imagine Me & You', 'Mr. Church', 'Swimming Pool', 'Green Street Hooligans: Underground', 'The Blood of Heroes', 'Code of Honor', 'Driving Miss Daisy', 'Soul Food', 'Rumble in the Bronx', 'Far from Men', 'Thank You for Smoking', 'Hostel: Part II', 'An Education', 'Shopgirl', 'The Hotel New Hampshire', 'Narc', 'Men with Brooms', 'Witless Protection', 'The Work and the Glory', 'Extract', 'Masked and Anonymous', 'Betty Fisher and Other Stories', 'Code 46', 'Outside Bet', 'Albert Nobbs', 'Black November', 'Ta Ra Rum Pum', 'Persepolis', 'The Hole', 'The Wave', 'The Neon Demon', 'Harry Brown', 'The Omega Code', 'Juno', 'Pound of Flesh', 'Diamonds Are Forever', 'The Godfather', 'Flashdance', '(500) Days of Summer', 'The Piano', 'Magic Mike', 'Darkness Falls', 'Live and Let Die', 'My Dog Skip', 'Definitely, Maybe', 'Jumping the Broom', 'Good Night, and Good Luck.', 'Capote', 'Desperado', \"Logan's Run\", 'The Man with the Golden Gun', 'Action Jackson', 'The Descent', 'Michael Jordan to the Max', \"Devil's Due\", 'Flirting with Disaster', \"The Devil's Rejects\", 'Dope', 'In Too Deep', 'House of 1000 Corpses', 'Alien Zone', 'A Serious Man', 'Get Low', 'Warlock', 'Beyond the Lights', 'A Single Man', 'The Last Temptation of Christ', 'Outside Providence', 'Bride & Prejudice', 'Rabbit-Proof Fence', \"Who's Your Caddy?\", 'Split Second', 'The Other Side of Heaven', 'Veer-Zaara', 'Redbelt', 'Cyrus', 'A Dog Of Flanders', 'Auto Focus', 'Factory Girl', 'We Need to Talk About Kevin', 'The Christmas Candle', 'The Mighty Macs', \"Losin' It\", 'Mother and Child', 'March or Die', 'The Visitors', 'Somewhere', 'I Hope They Serve Beer in Hell', 'Chairman of the Board', 'Hesher', 'Dom Hemingway', 'Gerry', 'The Heart of Me', 'Freeheld', 'The Extra Man', 'Hard to Be a God', 'Ca$h', 'Wah-Wah', 'The Boondock Saints', 'Z Storm', 'Twixt', 'The Snow Queen', 'Alpha and Omega: The Legend of the Saw Tooth Cave', 'Pale Rider', 'Stargate: The Ark of Truth', 'Dazed and Confused', 'High School Musical 2', 'Two Lovers and a Bear', 'Criminal Activities', 'Aimee & Jaguar', 'The Chumscrubber', 'Shade', 'House at the End of the Street', 'Incendies', 'Remember Me, My Love', 'Perrier’s Bounty', 'Elite Squad', 'Annabelle', 'Bran Nue Dae', 'Boyz n the Hood', 'La Bamba', 'The Four Seasons', 'Dressed to Kill', 'The Adventures of Huck Finn', 'Go', 'Friends with Money', 'The Andromeda Strain', 'Bats', 'Nowhere in Africa', 'Shame', 'Layer Cake', 'The Work and the Glory II: American Zion', 'The East', 'A Home at the End of the World', 'Aberdeen', 'The Messenger', 'Tracker', 'Control', 'The Terminator', 'Good bye, Lenin!', 'The Damned United', 'The Return of the Living Dead', 'Mallrats', 'Grease', 'Platoon', 'Fahrenheit 9/11', 'Butch Cassidy and the Sundance Kid', 'Mary Poppins', 'Ordinary People', 'West Side Story', 'Caddyshack', 'The Brothers', 'The Wood', 'The Usual Suspects', 'A Nightmare on Elm Street 5: The Dream Child', 'National Lampoon’s Van Wilder', 'The Wrestler', 'Duel in the Sun', 'Best in Show', 'Escape from New York', 'School Daze', 'Daddy Day Camp', 'Mr. Nice Guy', 'A Mighty Wind', 'Mystic Pizza', 'Sliding Doors', 'Tales from the Hood', 'The Last King of Scotland', 'Halloween 5: The Revenge of Michael Myers', 'Bernie', 'Dolphins and Whales: Tribes of the Ocean', 'Pollock', '200 Cigarettes', 'The Words', 'Casa De Mi Padre', 'City Island', 'The Guard', 'College', 'The Virgin Suicides', 'Little Voice', 'Miss March', 'Wish I Was Here', 'Simply Irresistible', 'Hedwig and the Angry Inch', 'Only the Strong', 'Goddess of Love', 'Shattered Glass', 'Novocaine', 'The Business of Strangers', 'The Wild Bunch', 'The Wackness', 'The First Great Train Robbery', 'Morvern Callar', 'Beastmaster 2: Through the Portal of Time', 'The 5th Quarter', 'The Flower of Evil', 'The Greatest', 'Snow Flower and the Secret Fan', 'Come Early Morning', 'Lucky Break', 'Julia', 'Surfer, Dude', 'Lake of Fire', '11:14', 'Men of War', 'Don McKay', 'Deadfall', 'A Shine of Rainbows', 'The Hit List', 'Emma', 'Videodrome', 'The Spanish Apartment', 'Song One', 'Winter in Wartime', 'Freaky Deaky', 'The Train', 'Trade Of Innocents', 'The Protector', 'Stiff Upper Lips', 'Bend It Like Beckham', 'Sunshine State', 'Crossover', 'Khiladi 786', '[REC]²', 'Standing Ovation', 'The Sting', 'Chariots of Fire', 'Diary of a Mad Black Woman', 'Shine', 'Don Jon', 'High Plains Drifter', 'Ghost World', 'Iris', 'Galaxina', 'The Chorus', 'Mambo Italiano', 'Wonderland', 'Do the Right Thing', 'Harvard Man', 'Le Havre', 'Irreversible', 'R100', 'Rang De Basanti', 'Animals', 'Salvation Boulevard', 'The Ten', 'A Room for Romeo Brass', 'Headhunters', 'Grabbers', 'Saint Ralph', 'Miss Julie', 'Somewhere in Time', 'Dum Maaro Dum', 'Insidious: Chapter 2', 'Saw II', '10 Cloverfield Lane', 'Jackass: The Movie', 'Lights Out', 'Paranormal Activity 3', 'Ouija', 'A Nightmare on Elm Street 3: Dream Warriors', 'Instructions Not Included', 'Paranormal Activity 4', 'The Robe', 'The Return of the Pink Panther', \"Freddy's Dead: The Final Nightmare\", 'Monster', '20,000 Leagues Under the Sea', 'Paranormal Activity: The Marked Ones', 'The Elephant Man', 'Dallas Buyers Club', 'The Lazarus Effect', 'Memento', 'Oculus', 'Clerks II', 'Billy Elliot', 'The Way Way Back', 'House Party 2', 'The Man from Snowy River', \"Doug's 1st Movie\", 'The Apostle', 'Mommie Dearest', 'Our Idiot Brother', 'Race', 'The Players Club', 'As Above, So Below', 'Addicted', \"Eve's Bayou\", 'Still Alice', 'The Egyptian', 'Nighthawks', 'Friday the 13th Part VIII: Jason Takes Manhattan', 'My Big Fat Greek Wedding', 'Spring Breakers', 'Halloween: The Curse of Michael Myers', 'Y Tu Mamá También', 'Shaun of the Dead', 'The Haunting of Molly Hartley', 'Lone Star', 'Halloween 4: The Return of Michael Myers', \"April Fool's Day\", 'Diner', 'Lone Wolf McQuade', 'Apollo 18', 'Sunshine Cleaning', 'No Escape', 'The Beastmaster', 'Solomon and Sheba', 'Fifty Shades of Black', 'Not Easily Broken', 'A Farewell to Arms', 'The Perfect Match', 'Digimon: The Movie', 'Saved!', 'The Barbarian Invasions', 'Robin and Marian', 'The Forsaken', 'Force 10 from Navarone', 'UHF', \"Grandma's Boy\", 'Slums of Beverly Hills', 'Once Upon a Time in the West', 'Made', 'Moon', 'Keeping Up with the Steins', 'Sea Rex 3D: Journey to a Prehistoric World', 'The Sweet Hereafter', 'Of Gods and Men', 'Bottle Shock', 'Jekyll and Hyde ... Together Again', 'Heavenly Creatures', '90 Minutes in Heaven', 'Everything Must Go', 'Zero Effect', 'The Machinist', 'Light Sleeper', 'Kill the Messenger', 'Rabbit Hole', 'Party Monster', 'Green Room', 'The Oh in Ohio', 'Atlas Shrugged Part III: Who is John Galt?', 'Bottle Rocket', 'Albino Alligator', 'Gandhi, My Father', 'Standard Operating Procedure', 'Out of the Blue', 'Out of the Blue', 'Out of the Blue', 'Out of the Blue', 'Tucker and Dale vs Evil', 'Lovely, Still', 'Tycoon', 'Desert Blue', 'Decoys', 'The Visit', 'Redacted', 'Fascination', 'Area 51', 'Sleep Tight', 'The Cottage', 'Dead Like Me: Life After Death', 'Farce of the Penguins', 'Flying By', 'Rudderless', 'Henry & Me', 'Christmas Eve', 'We Have Your Husband', 'Dying of the Light', 'Born Of War', 'Capricorn One', \"Should've Been Romeo\", 'Running Forever', 'Yoga Hosers', 'Navy Seals vs. Zombies', 'I Served the King of England', 'Soul Kitchen', 'Sling Blade', 'The Awakening', 'Hostel', 'A Cock and Bull Story', 'Take Shelter', 'Lady in White', 'Driving Lessons', \"Let's Kill Ward's Wife\", 'The Texas Chainsaw Massacre 2', 'Pat Garrett & Billy the Kid', 'Only God Forgives', 'Camping Sauvage', 'Without Men', 'Dear Frankie', 'All Hat', 'The Names of Love', 'Treading Water', 'Savage Grace', 'Police Academy', 'The Blue Lagoon', 'Four Weddings and a Funeral', 'Fast Times at Ridgemont High', 'Moby Dick', '25th Hour', 'Bound', 'Requiem for a Dream', 'State Fair', 'Tango', 'Salvador', \"Moms' Night Out\", 'Donnie Darko', 'Saving Private Perez', 'Character', 'Spun', 'Life During Wartime', 'Sympathy for Lady Vengeance', \"Mozart's Sister\", 'Mean Machine', 'Exiled', 'Blackthorn', 'Lilya 4-ever', 'After.Life', 'Fugly', \"One Flew Over the Cuckoo's Nest\", \"R.L. Stine's Monsterville: The Cabinet of Souls\", 'Silent Movie', 'Airlift', 'Anne of Green Gables', 'Falcon Rising', 'The Sweeney', 'Sexy Beast', 'Easy Money', 'Whale Rider', 'Paa', 'Cargo', 'High School Musical', 'Love and Death on Long Island', 'Night Watch', 'The Crying Game', \"Porky's\", 'Survival of the Dead', 'Night of the Living Dead', 'Lost in Translation', 'Annie Hall', 'The Greatest Show on Earth', \"Monster's Ball\", 'Maggie', 'Leaving Las Vegas', 'Hansel and Gretel Get Baked', 'The Front Page', 'The Boy Next Door', 'Trapeze', 'The Kids Are All Right', 'They Live', 'The Great Escape', 'What the #$*! Do We (K)now!?', 'The Last Exorcism Part II', 'Boyhood', 'Scoop', 'The Wash', '3 Strikes', 'The Cooler', 'The Misfits', 'The Night Listener', 'The Jerky Boys', 'The Orphanage', 'A Haunted House 2', 'The Rules of Attraction', 'Topaz', \"Let's Go to Prison\", 'Four Rooms', 'Secretary', 'The Real Cancun', 'Talk Radio', 'Waiting for Guffman', 'Love Stinks', 'You Kill Me', 'Thumbsucker', 'Red State', 'Mirrormask', 'Samsara', 'The Barbarians', 'The Art of Getting By', 'Zipper', 'Poolhall Junkies', 'The Loss of Sexual Innocence', 'Holy Motors', 'Joe', 'Shooting Fish', 'Prison', 'Psycho Beach Party', 'The Big Tease', 'Guten Tag, Ramón', 'Trust', 'An Everlasting Piece', 'Among Giants', 'Adore', 'The Velocity of Gary', 'Mondays in the Sun', 'Stake Land', 'The Last Time I Committed Suicide', 'Futuro Beach', 'Another Happy Day', 'A Lonely Place to Die', 'Nothing', 'The Geographer Drank His Globe Away', '1776', 'Inescapable', \"Hell's Angels\", 'Purple Violets', 'The Veil', 'The Loved Ones', 'The Helpers', 'How to Fall in Love', 'The Perfect Wave', 'A Man for All Seasons', 'Network', 'Gone with the Wind', 'Desert Dancer', 'Major Dundee', 'Annie Get Your Gun', 'Four Lions', 'The House of Sand', 'Defendor', 'The Pirate', 'The Good Heart', 'The History Boys', 'Midnight Cowboy', 'The Full Monty', 'Airplane!', 'Chain of Command', 'Friday', 'Menace II Society', 'Creepshow 2', 'The Ballad of Cable Hogue', 'In Cold Blood', \"The Nun's Story\", 'Harper', 'Frenzy', 'The Witch', 'I Got the Hook Up', \"She's the One\", 'Gods and Monsters', 'The Secret in Their Eyes', 'Train', 'Evil Dead II', 'Pootie Tang', 'Sharknado', 'The Other Conquest', 'Troll Hunter', 'Ira & Abby', 'Winter Passing', 'D.E.B.S.', 'The Masked Saint', 'The Betrayed', 'Taxman', 'The Secret', '2:13', 'Batman: The Dark Knight Returns, Part 2', 'Time to Choose', 'In the Name of the King III', 'Wicked Blood', 'Stranded', 'Lords of London', 'High Anxiety', 'March of the Penguins', 'Margin Call', 'August', 'Choke', 'Whiplash', 'City of God', 'Human Traffic', 'To Write Love on Her Arms', 'The Dead Girl', 'The Hunt', 'A Christmas Story', 'Bella', 'Class of 1984', 'The Opposite Sex', 'Dreaming of Joseph Lees', 'The Class', \"Rosemary's Baby\", 'The Man Who Shot Liberty Valance', 'Adam', 'Maria Full of Grace', 'Beginners', 'Feast', 'Animal House', 'Goldfinger', 'Antiviral', \"It's a Wonderful Life\", 'Trainspotting', 'The Original Kings of Comedy', 'Paranormal Activity 2', 'Waking Ned', 'Bowling for Columbine', 'Coming Home', \"A Nightmare on Elm Street Part 2: Freddy's Revenge\", 'A Room with a View', 'The Purge', 'Sinister', 'Martin Lawrence Live: Runteldat', 'Cat on a Hot Tin Roof', 'Beneath the Planet of the Apes', 'Air Bud', 'Pokémon: Spell of the Unknown', 'Friday the 13th Part VI: Jason Lives', 'The Bridge on the River Kwai', 'Spaced Invaders', 'Family Plot', 'The Apartment', 'Jason Goes to Hell: The Final Friday', 'Torn Curtain', \"Dave Chappelle's Block Party\", 'Slow West', 'Krush Groove', 'Next Day Air', 'Elmer Gantry', 'Judgment at Nuremberg', \"Trippin'\", 'Red River', 'Phat Girlz', 'Before Midnight', 'Teen Wolf Too', 'Phantasm II', 'Woman Thou Art Loosed', 'Real Women Have Curves', 'Water', 'East Is East', 'Whipped', 'Kama Sutra - A Tale of Love', 'Please Give', 'Willy Wonka & the Chocolate Factory', 'Warlock: The Armageddon', '8 Heads in a Duffel Bag', 'Days of Heaven', 'Thirteen Conversations About One Thing', 'Jawbreaker', 'Basquiat', 'Frances Ha', 'Tsotsi', 'Happiness', 'DysFunktional Family', 'Tusk', 'Oldboy', 'Letters to God', 'Hobo with a Shotgun', 'Compadres', 'Freeway', \"Love's Abiding Joy\", 'Fish Tank', 'Damsels in Distress', 'Creature', 'Bachelorette', 'Brave New Girl', \"Tim and Eric's Billion Dollar Movie\", 'Summer Storm', 'Fort McCoy', 'Chain Letter', 'Just Looking', 'The Divide', 'The Eclipse', 'Demonic', 'My Big Fat Independent Movie', 'The Deported', 'Tanner Hall', 'Open Road', 'They Came Together', '30 Nights of Paranormal Activity With the Devil Inside the Girl With the Dragon Tattoo', 'Never Back Down 2: The Beatdown', 'Point Blank', 'Four Single Fathers', 'Enter the Dangerous Mind', 'Something Wicked', 'AWOL-72', 'Iguana', 'Chicago Overcoat', 'Barry Munday', 'Central Station', 'Pocketful of Miracles', 'Close Range', 'Boynton Beach Club', 'Amnesiac', 'Freakonomics', 'High Tension', 'Griff the Invisible', 'Unnatural', 'Hustle & Flow', 'Some Like It Hot', 'Friday the 13th Part VII: The New Blood', 'The Wizard of Oz', 'Young Frankenstein', 'Diary of the Dead', 'Lage Raho Munna Bhai', \"Ulee's Gold\", 'The Black Stallion', 'Sardaarji', 'Journey to Saturn', \"Donovan's Reef\", 'The Dress', 'A Guy Named Joe', 'Blazing Saddles', 'Friday the 13th: The Final Chapter', 'Ida', 'Maurice', 'Beer League', 'Riding Giants', 'Timecrimes', 'Silver Medalist', 'Timber Falls', \"Singin' in the Rain\", 'Fat, Sick & Nearly Dead', 'A Haunted House', \"2016: Obama's America\", 'That Thing You Do!', 'Halloween III: Season of the Witch', 'Escape from the Planet of the Apes', 'Hud', 'Kevin Hart: Let Me Explain', 'My Own Private Idaho', 'Garden State', 'Before Sunrise', 'Evil Words', \"Jesus' Son\", 'Saving Face', 'Brick Lane', 'Robot & Frank', 'My Life Without Me', 'The Spectacular Now', 'Religulous', 'Fuel', \"Valley of the Heart's Delight\", 'Eye of the Dolphin', '8: The Mormon Proposition', 'The Other End of the Line', 'Anatomy', 'Sleep Dealer', 'Super', 'Christmas Mail', 'Stung', 'Antibirth', 'Get on the Bus', 'Thr3e', 'Idiocracy', 'The Rise of the Krays', 'This Is England', 'U.F.O.', 'Bathing Beauty', 'Go for It!', 'Dancer, Texas Pop. 81', 'Show Boat', 'Redemption Road', 'The Calling', 'The Brave Little Toaster', 'Fantasia', '8 Days', 'Friday the 13th Part III', 'Friday the 13th: A New Beginning', 'The Last Sin Eater', 'Do You Believe?', 'Impact Point', 'The Valley of Decision', 'Eden', 'Chicken Tikka Masala', \"There's Always Woodstock\", 'Jack Brooks: Monster Slayer', 'The Best Years of Our Lives', 'Bully', 'Elling', 'Mi America', '[REC]', 'Lies in Plain Sight', 'Sharkskin', 'Containment', 'The Timber', 'From Russia with Love', 'The Toxic Avenger Part II', 'Sleeper', 'It Follows', 'Everything You Always Wanted to Know About Sex *But Were Afraid to Ask', 'To Kill a Mockingbird', 'Mad Max 2: The Road Warrior', 'The Legend of Drunken Master', \"Boys Don't Cry\", 'Silent House', 'The Lives of Others', 'Courageous', 'The Hustler', 'Boom Town', 'The Triplets of Belleville', 'Smoke Signals', 'American Splendor', 'Before Sunset', 'Amores perros', 'Thirteen', \"Gentleman's Agreement\", \"Winter's Bone\", 'Touching the Void', \"Alexander's Ragtime Band\", 'Me and You and Everyone We Know', 'Inside Job', 'We Are Your Friends', 'Ghost Dog: The Way of the Samurai', 'Harsh Times', 'Captive', 'Full Frontal', 'Witchboard', 'Shortbus', 'Waltz with Bashir', 'The Book of Mormon Movie, Volume 1: The Journey', 'No End in Sight', 'The Diary of a Teenage Girl', 'In the Shadow of the Moon', \"Meek's Cutoff\", 'Inside Deep Throat', 'Dinner Rush', 'Clockwatchers', 'The Virginity Hit', 'Subway', 'House of D', 'Teeth', 'Six-String Samurai', 'Hum To Mohabbat Karega', \"It's All Gone Pete Tong\", 'Saint John of Las Vegas', '24 7: Twenty Four Seven', 'Stonewall', 'Roadside Romeo', 'This Thing of Ours', 'The Lost Medallion: The Adventures of Billy Stone', 'The Last Five Years', 'The Missing Person', 'Return of the Living Dead 3', 'London', 'Sherrybaby', 'Circle', 'Eden Lake', 'Plush', 'Lesbian Vampire Killers', \"Gangster's Paradise: Jerusalema\", 'Freeze Frame', 'Grave Encounters', 'Stitches', 'Nine Dead', 'To Be Frank, Sinatra at 100', 'Bananas', 'Supercapitalist', 'Rockaway', 'The Lady from Shanghai', \"No Man's Land: The Rise of Reeker\", 'Highway', 'Small Apartments', 'Coffee Town', 'The Ghastly Love of Johnny X', 'All Is Bright', 'The Torture Chamber of Dr. Sadism', \"Straight A's\", 'A Funny Thing Happened on the Way to the Forum', 'Slacker Uprising', \"The Legend of Hell's Gate: An American Conspiracy\", 'The Walking Deceased', 'The Curse of Downers Grove', 'Shark Lake', \"River's Edge\", 'Northfork', 'The Marine 4: Moving Target', 'Buried', 'Submarine', 'The Square', 'One to Another', 'ABCD (Any Body Can Dance)', 'Man on Wire', 'Abandoned', 'Brotherly Love', 'The Last Exorcism', 'Nowhere Boy', 'A Streetcar Named Desire', 'Dr. Strangelove or: How I Learned to Stop Worrying and Love the Bomb', 'The Crime of Padre Amaro', 'Beasts of the Southern Wild', 'Battle for the Planet of the Apes', 'Songcatcher', 'Higher Ground', 'Vaalu', 'The Greatest Movie Ever Sold', 'Ed and His Dead Mother', 'Travellers and Magicians', \"Hang 'em High\", 'Deadline - U.S.A.', 'Sublime', \"A Beginner's Guide to Snuff\", 'Independence Daysaster', 'Dysfunctional Friends', 'Run Lola Run', 'May', 'Against the Wild', 'Under the Same Moon', 'Conquest of the Planet of the Apes', 'In the Bedroom', 'I Spit on Your Grave', 'Happy, Texas', 'My Summer of Love', 'The Lunchbox', 'Yes', \"You Can't Take It With You\", 'From Here to Eternity', 'She Wore a Yellow Ribbon', 'Grace Unplugged', 'Foolish', 'N-Secure', 'Caramel', 'Out of the Dark', 'The Bubble', 'The Conversation', 'Dil Jo Bhi Kahey...', 'Mississippi Mermaid', 'I Love Your Work', 'Cabin Fever', 'Waitress', 'Bloodsport', 'Mr. Smith Goes to Washington', 'Kids', 'The Squid and the Whale', 'Kissing Jessica Stein', 'Kickboxer: Vengeance', 'Spellbound', 'Exotica', \"Buffalo '66\", 'Insidious', 'Repo Man', 'Nine Queens', 'The Gatekeepers', 'The Ballad of Jack and Rose', 'The To Do List', 'Killing Zoe', 'The Believer', 'Snow Angels', 'Unsullied', 'Session 9', 'I Want Someone to Eat Cheese With', 'Mooz-lum', 'Hatchet', 'Modern Times', 'Stolen Summer', 'My Name Is Bruce', 'The Salon', 'Road Hard', 'Forty Shades of Blue', 'Amigo', 'Pontypool', 'Trucker', 'Me You and Five Bucks', 'The Lords of Salem', 'Housebound', 'Wal-Mart: The High Cost of Low Price', 'Fetching Cody', 'Last I Heard', 'Closer to the Moon', 'Mutant World', 'Growing Up Smith', 'Checkmate', '#Horror', 'Wind Walkers', 'Snow White and the Seven Dwarfs', 'The Holy Girl', 'Shalako', 'Incident at Loch Ness', 'The Dog Lover', 'GirlHouse', 'The Blue Room', 'House at the End of the Drive', 'Lock, Stock and Two Smoking Barrels', 'The Ballad of Gregorio Cortez', 'The Celebration', 'Trees Lounge', 'Journey from the Fall', 'The Basket', 'Eddie: The Sleepwalking Cannibal', 'Queen of the Mountains', 'Def-Con 4', 'The Hebrew Hammer', \"Neal 'n' Nikki\", 'The 41–Year–Old Virgin Who Knocked Up Sarah Marshall and Felt Superbad About It', 'Forget Me Not', 'Rebecca', 'Friday the 13th Part 2', 'The Lost Weekend', 'C.H.U.D.', 'Filly Brown', 'The Lion of Judah', 'Niagara', 'How Green Was My Valley', 'Da Sweet Blood of Jesus', 'Sex, Lies, and Videotape', 'Saw', 'Super Troopers', 'The Algerian', 'The Amazing Catfish', 'Monsoon Wedding', 'You Can Count on Me', 'The Trouble with Harry', \"But I'm a Cheerleader\", 'Home Run', 'Reservoir Dogs', 'The Blue Bird', 'The Good, the Bad and the Ugly', 'The Second Mother', 'Blue Like Jazz', 'Down & Out With The Dolls', 'Pink Ribbons, Inc.', 'Certifiably Jonathan', 'Desire', 'The Blade of Don Juan', 'Grand Theft Parsons', 'Extreme Movie', 'The Charge of the Light Brigade', 'Below Zero', 'Crowsnest', 'Airborne', 'Cotton Comes to Harlem', 'The Wicked Within', 'Bleeding Hearts', 'Waiting...', \"Dead Man's Shoes\", 'From a Whisper to a Scream', 'Sex With Strangers', \"Dracula: Pages from a Virgin's Diary\", 'Faith Like Potatoes', 'Beyond the Black Rainbow', 'The Raid', 'The Dead Undead', 'The Vatican Exorcisms', 'Casablanca', 'Lake Mungo', 'Rocket Singh: Salesman of the Year', 'Silent Running', 'Rocky', 'The Sleepwalker', 'Tom Jones', 'Unfriended', 'Taxi Driver', 'The Howling', 'Dr. No', 'Chernobyl Diaries', 'Hellraiser', \"God's Not Dead 2\", 'Cry_Wolf', 'Godzilla 2000', 'Blue Valentine', 'Transamerica', 'The Devil Inside', 'Beyond the Valley of the Dolls', 'Love Me Tender', 'An Inconvenient Truth', 'Sands of Iwo Jima', 'Shine a Light', 'The Green Inferno', 'Departure', 'The Sessions', 'Food, Inc.', 'October Baby', 'Next Stop Wonderland', 'The Skeleton Twins', 'Martha Marcy May Marlene', 'Obvious Child', 'Frozen River', '20 Feet from Stardom', 'Two Girls and a Guy', 'Walking and Talking', 'Who Killed the Electric Car?', 'The Broken Hearts Club: A Romantic Comedy', 'Bubba Ho-tep', 'Slam', 'Brigham City', 'Fiza', 'Orgazmo', 'All the Real Girls', 'Dream with the Fishes', 'Blue Car', 'Palo Alto', 'Ajami', 'Wristcutters: A Love Story', 'I Origins', 'The Battle of Shaker Heights', 'The Act of Killing', 'Taxi to the Dark Side', 'Once in a Lifetime: The Extraordinary Story of the New York Cosmos', 'Guiana 1838', 'Lisa Picard Is Famous', 'Antarctica: A Year on Ice', 'A LEGO Brickumentary', 'Hardflip', 'Chocolate: Deep Dark Secrets', 'The House of the Devil', 'The Perfect Host', 'Safe Men', 'Speedway Junky', 'The Last Big Thing', 'The Specials', '16 to Life', 'Alone With Her', 'Creative Control', 'Special', 'Sparkler', 'The Helix... Loaded', 'In Her Line of Fire', 'The Jimmy Show', 'Heli', 'Karachi se Lahore', 'Loving Annabelle', 'Hits', 'Jimmy and Judy', 'Frat Party', \"The Party's Over\", 'Proud', 'The Poker House', 'Childless', 'ZMD: Zombies of Mass Destruction', 'Snow White: A Deadly Summer', 'Hidden Away', 'My Last Day Without You', 'Steppin: The Movie', \"Doc Holliday's Revenge\", 'Black Rock', 'Truth or Dare', 'The Pet', 'Bang Bang Baby', 'Fear Clinic', 'Zombie Hunter', 'A Fine Step', 'Charly', 'Banshee Chapter', 'Ask Me Anything', 'And Then Came Love', 'Food Chains', 'On the Waterfront', 'L!fe Happens', '4 Months, 3 Weeks and 2 Days', 'The Horror Network Vol. 1', 'Hard Candy', 'The Quiet', 'Circumstance', 'Fruitvale Station', 'The Brass Teapot', 'Bambi', 'The Hammer', 'Latter Days', 'Elza', '1982', 'For a Good Time, Call...', 'Celeste & Jesse Forever', 'Time Changer', 'London to Brighton', 'American Hero', 'Windsor Drive', 'A Separation', 'Crying with Laughter', 'Welcome to the Dollhouse', 'Ruby in Paradise', 'Raising Victor Vargas', \"Pandora's Box\", 'Harrison Montgomery', 'Live-In Maid', 'Deterrence', 'The Mudge Boy', 'The Young Unknowns', 'Not Cool', 'Dead Snow', 'Saints and Soldiers', 'Vessel', 'American Graffiti', 'Iraq for Sale: The War Profiteers', 'Aqua Teen Hunger Force Colon Movie Film for Theaters', 'Safety Not Guaranteed', 'Kevin Hart: Laugh at My Pain', 'Kill List', 'The Innkeepers', 'The Conformist', 'Interview with the Assassin', 'Donkey Punch', 'All the Boys Love Mandy Lane', 'Bled', 'High Noon', 'Hoop Dreams', 'Rize', 'L.I.E.', 'The Sisterhood of Night', 'B-Girl', 'Half Nelson', 'Naturally Native', 'Hav Plenty', 'Adulterers', 'Escape from Tomorrow', 'Starsuckers', 'The Hadza:  Last of the First', 'After', 'Treachery', 'Walter', 'Top Hat', 'The Blair Witch Project', 'Woodstock', 'The Kentucky Fried Movie', 'Mercy Streets', 'Carousel of Revenge', 'Broken Vessels', 'Water & Power', 'They Will Have to Kill Us First', 'Light from the Darkroom', 'The Country Doctor', \"The Maid's Room\", \"A Hard Day's Night\", 'The Harvest (La Cosecha)', 'Love Letters', 'Juliet and Alfa Romeo', 'Fireproof', 'Faith Connections', 'Benji', 'Open Water', 'High Road', 'Kingdom of the Spiders', 'Mad Hot Ballroom', 'The Station Agent', 'To Save A Life', 'Wordplay', 'Beyond the Mat', 'The Singles Ward', 'Osama', 'Sholem Aleichem: Laughing In The Darkness', 'Groove', 'The R.M.', 'Twin Falls Idaho', 'Mean Creek', 'Hurricane Streets', 'Never Again', 'Civil Brand', 'Lonesome Jim', 'Drinking Buddies', 'Deceptive Practice: The Mysteries and Mentors of Ricky Jay', 'Seven Samurai', 'The Other Dream Team', 'Johnny Suede', 'Finishing The Game', 'Rubber', 'Kiss the Bride', 'The Slaughter Rule', 'Monsters', 'The Californians', 'The Living Wake', 'Detention of the Dead', 'Crazy Stone', 'Scott Walker: 30 Century Man', 'Everything Put Together', 'Good Kill', 'The Outrageous Sophie Tucker', 'Now Is Good', 'Girls Gone Dead', 'America Is Still the Place', 'Subconscious', 'Enter Nowhere', 'El Rey de Najayo', 'Fight to the Finish', \"Alleluia! The Devil's Carnival\", 'The Sound and the Shadow', 'Rodeo Girl', 'Born to Fly: Elizabeth Streb vs. Gravity', 'The Little Ponderosa Zoo', 'The Toxic Avenger', 'Straight Out of Brooklyn', 'Bloody Sunday', 'Diamond Ruff', 'Conversations with Other Women', 'Poultrygeist: Night of the Chicken Dead', 'Mutual Friends', '42nd Street', 'Rise of the Entrepreneur: The Search for a Better Way', 'Metropolitan', 'As It Is in Heaven', 'Roadside', 'Napoleon Dynamite', 'Blue Ruin', 'Paranormal Activity', 'Dogtown and Z-Boys', 'Monty Python and the Holy Grail', 'Quinceañera', 'Gory Gory Hallelujah', 'Tarnation', 'I Want Your Money', 'Love in the Time of Monsters', 'The Beyond', 'What Happens in Vegas', 'The Dark Hours', 'My Beautiful Laundrette', 'Fabled', 'Show Me', 'Cries and Whispers', 'Intolerance', 'Trekkies', 'The Broadway Melody', 'The Evil Dead', 'Maniac', 'Censored Voices', 'Murderball', 'American Ninja 2: The Confrontation', '51 Birch Street', 'Rotor DR1', '12 Angry Men', 'My Dog Tulip', 'It Happened One Night', 'Dogtooth', 'Tupac: Resurrection', 'Tumbleweeds', 'The Prophecy', \"When the Cat's Away\", 'Pieces of April', 'The Big Swap', 'Old Joy', 'Wendy and Lucy', '3 Backyards', 'Pierrot le Fou', 'Sisters in Law', 'Ayurveda: Art of Being', 'Nothing But a Man', 'First Love, Last Rites', 'Fighting Tommy Riley', 'Royal Kill', 'The Looking Glass', 'Death Race 2000', 'Locker 13', 'Midnight Cabaret', \"Anderson's Cross\", 'Bizarre', 'Graduation Day', 'Some Guy Who Kills People', 'Compliance', 'Chasing Amy', 'Lovely & Amazing', 'Death Calls', 'Better Luck Tomorrow', 'The Incredibly True Adventure of Two Girls In Love', 'Chuck & Buck', 'American Desi', \"Amidst the Devil's Wings\", 'Cube', 'Love and Other Catastrophes', 'I Married a Strange Person!', 'November', 'Like Crazy', 'Teeth and Blood', 'Sugar Town', 'The Motel', 'The Canyons', 'On the Outs', 'Shotgun Stories', 'Exam', 'The Sticky Fingers of Time', 'Sunday School Musical', 'Rust', 'Ink', 'The Christmas Bunny', 'Butterfly', 'UnDivided', 'The Frozen', 'Horse Camp', 'Give Me Shelter', 'The Big Parade', 'Little Big Top', 'Along the Roadside', 'Bronson', 'Western Religion', 'Burn', 'Urbania', 'The Stewardesses', 'The Beast from 20,000 Fathoms', 'Mad Max', 'Swingers', 'A Fistful of Dollars', 'She Done Him Wrong', 'Short Cut to Nirvana: Kumbh Mela', 'The Grace Card', 'Middle of Nowhere', 'Three', 'The Business of Fancydancing', 'Call + Response', 'Malevolence', 'Reality Show', 'Super Hybrid', 'Baghead', 'American Beast', 'The Case of the Grinning Cat', 'Ordet', 'Good Dick', 'The Man from Earth', 'The Trials Of Darryl Hunt', 'Samantha: An American Girl Holiday', 'Yesterday Was a Lie', 'Theresa Is a Mother', 'H.', 'Archaeology of a Woman', 'Children of Heaven', 'Weekend', \"She's Gotta Have It\", 'Butterfly Girl', 'The World Is Mine', 'Another Earth', \"Sweet Sweetback's Baadasssss Song\", 'Perfect Cowboy', 'Tadpole', 'Once', 'The Woman Chaser', 'The Horse Boy', 'When the Lights Went Out', 'Heroes of Dirt', 'A Charlie Brown Christmas', 'Antarctic Edge: 70° South', 'Aroused', 'Top Spin', 'Roger & Me', 'An American in Hollywood', 'Sound of My Voice', 'The Blood of My Brother: A Story of Death in Iraq', \"Your Sister's Sister\", \"A Dog's Breakfast\", 'The Married Woman', 'The Birth of a Nation', 'The Work and The Story', 'Facing the Giants', 'The Gallows', 'Eraserhead', 'Hollywood Shuffle', 'The Mighty', 'Penitentiary', 'The Lost Skeleton of Cadavra', \"Dude Where's My Dog?\", 'Cheap Thrills', 'Indie Game: The Movie', 'Straightheads', 'Open Secret', 'Echo Dr.', 'The Night Visitor', 'The Past Is a Grotesque Animal', 'Peace, Propaganda & the Promised Land', 'Pi', \"I Love You, Don't Touch Me!\", '20 Dates', 'Queen Crab', 'Super Size Me', 'The FP', 'Happy Christmas', \"The Brain That Wouldn't Die\", 'Tiger Orange', 'Supporting Characters', 'Absentia', 'The Brothers McMullen', 'The Dirties', 'Gabriela', 'Tiny Furniture', 'Hayride', 'The Naked Ape', 'Counting', 'The Call of Cthulhu', 'Bending Steel', 'The Signal', 'The Image Revolution', 'This Is Martin Bonner', 'A True Story', 'George Washington', 'Smiling Fish & Goat On Fire', 'Dawn of the Crescent Moon', 'Raymond Did It', 'The Last Waltz', 'Run, Hide, Die', 'The Exploding Girl', \"The Legend of God's Gun\", 'Mutual Appreciation', 'Her Cry: La Llorona Investigation', 'Down Terrace', 'Clerks', 'Pink Narcissus', 'Funny Ha Ha', 'In the Company of Men', 'Manito', 'Rampage', 'Slacker', 'Dutch Kills', 'Dry Spell', 'Flywheel', 'Backmask', 'The Puffy Chair', 'Stories of Our Lives', 'Breaking Upwards', 'All Superheroes Must Die', 'Pink Flamingos', 'Clean', 'The Circle', 'Tin Can Man', 'Cure', 'On The Downlow', 'Sanctuary: Quite a Conundrum', 'Bang', 'Primer', 'Cavite', 'El Mariachi', 'Newlyweds', 'Signed, Sealed, Delivered', 'Shanghai Calling', 'My Date with Drew'])"
      ]
     },
     "execution_count": 42,
     "metadata": {},
     "output_type": "execute_result"
    }
   ],
   "source": [
    "newtable['title'].values()"
   ]
  },
  {
   "cell_type": "code",
   "execution_count": 43,
   "id": "242c6fb5",
   "metadata": {
    "execution": {
     "iopub.execute_input": "2023-04-20T18:19:05.534804Z",
     "iopub.status.busy": "2023-04-20T18:19:05.534359Z",
     "iopub.status.idle": "2023-04-20T18:19:05.901353Z",
     "shell.execute_reply": "2023-04-20T18:19:05.900354Z"
    },
    "papermill": {
     "duration": 0.388462,
     "end_time": "2023-04-20T18:19:05.904133",
     "exception": false,
     "start_time": "2023-04-20T18:19:05.515671",
     "status": "completed"
    },
    "tags": []
   },
   "outputs": [],
   "source": [
    "import pickle\n",
    "pickle.dump(newtable,open('movie_list.pkl','wb'))\n",
    "pickle.dump(similarity,open('similarity.pkl','wb'))"
   ]
  },
  {
   "cell_type": "code",
   "execution_count": null,
   "id": "801ecb95",
   "metadata": {
    "papermill": {
     "duration": 0.017222,
     "end_time": "2023-04-20T18:19:05.938281",
     "exception": false,
     "start_time": "2023-04-20T18:19:05.921059",
     "status": "completed"
    },
    "tags": []
   },
   "outputs": [],
   "source": []
  },
  {
   "cell_type": "code",
   "execution_count": null,
   "id": "5bc89efb",
   "metadata": {
    "papermill": {
     "duration": 0.016716,
     "end_time": "2023-04-20T18:19:05.972849",
     "exception": false,
     "start_time": "2023-04-20T18:19:05.956133",
     "status": "completed"
    },
    "tags": []
   },
   "outputs": [],
   "source": []
  }
 ],
 "metadata": {
  "kernelspec": {
   "display_name": "Python 3",
   "language": "python",
   "name": "python3"
  },
  "language_info": {
   "codemirror_mode": {
    "name": "ipython",
    "version": 3
   },
   "file_extension": ".py",
   "mimetype": "text/x-python",
   "name": "python",
   "nbconvert_exporter": "python",
   "pygments_lexer": "ipython3",
   "version": "3.7.12"
  },
  "papermill": {
   "default_parameters": {},
   "duration": 28.277172,
   "end_time": "2023-04-20T18:19:06.914045",
   "environment_variables": {},
   "exception": null,
   "input_path": "__notebook__.ipynb",
   "output_path": "__notebook__.ipynb",
   "parameters": {},
   "start_time": "2023-04-20T18:18:38.636873",
   "version": "2.4.0"
  }
 },
 "nbformat": 4,
 "nbformat_minor": 5
}
